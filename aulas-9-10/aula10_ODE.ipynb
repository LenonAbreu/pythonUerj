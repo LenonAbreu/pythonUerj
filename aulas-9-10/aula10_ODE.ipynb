{
  "nbformat": 4,
  "nbformat_minor": 0,
  "metadata": {
    "colab": {
      "name": "aula10_ODE.ipynb",
      "provenance": [],
      "authorship_tag": "ABX9TyN9ckCmsUa8qQXCqfWQuQdJ",
      "include_colab_link": true
    },
    "kernelspec": {
      "name": "python3",
      "display_name": "Python 3"
    }
  },
  "cells": [
    {
      "cell_type": "markdown",
      "metadata": {
        "id": "view-in-github",
        "colab_type": "text"
      },
      "source": [
        "<a href=\"https://colab.research.google.com/github/LenonAbreu/pythonUerj/blob/master/aulas-9-10/aula10_ODE.ipynb\" target=\"_parent\"><img src=\"https://colab.research.google.com/assets/colab-badge.svg\" alt=\"Open In Colab\"/></a>"
      ]
    },
    {
      "cell_type": "markdown",
      "metadata": {
        "id": "OOu75u8KsAvD"
      },
      "source": [
        "## Exercícios\n",
        "\n",
        "1. Quantos intervalos (ou qual largura de intervalo) é preciso implementar para ter uma precisão de 1% no resultado numérico na integração de $f(x)$ de 0 a 10? \n",
        "\n",
        "$\\dfrac{R_{num}-R_{an}}{R_{an}} \\leq 10\\% $"
      ]
    },
    {
      "cell_type": "code",
      "metadata": {
        "id": "knl5GnyzhrBr",
        "outputId": "44377c3c-5bf0-4e9d-9ba1-342d42b01572",
        "colab": {
          "base_uri": "https://localhost:8080/"
        }
      },
      "source": [
        "import matplotlib.pyplot as plt\n",
        "import numpy as np\n",
        "import math\n",
        "a = math.exp(0)-math.exp(-10)\n",
        "x_i = 0\n",
        "x_f = 10\n",
        "dx = 1\n",
        "por = 1\n",
        "while por >= 0.01:\n",
        "  n_steps = round((x_f - x_i)/dx)\n",
        "  x = np.arange(x_i,x_f,dx)\n",
        "  S1 = 0\n",
        "  for xi in x:\n",
        "    S1 = S1+ math.exp(-xi) * dx\n",
        "    \n",
        "  \n",
        "  por = abs(S1 - a)/a \n",
        "  print(\"aproximação\",S1,\"numeros de caixas\",n_steps,\"Erro\",por*100,\"%\")\n",
        "  print( )\n",
        "  dx = dx * 0.1 "
      ],
      "execution_count": 3,
      "outputs": [
        {
          "output_type": "stream",
          "text": [
            "aproximação 1.5819048852379485 numeros de caixas 10 Erro 58.197670686932625 %\n",
            "\n",
            "aproximação 1.0507854867242843 numeros de caixas 100 Erro 5.083319447750567 %\n",
            "\n",
            "aproximação 1.004962706011702 numeros de caixas 1000 Erro 0.5008333319445322 %\n",
            "\n"
          ],
          "name": "stdout"
        }
      ]
    },
    {
      "cell_type": "markdown",
      "metadata": {
        "id": "Ez1Zsl7RfAsX"
      },
      "source": [
        "2. Faça a integração numérica pela esquerda da mesma função. Compare o resultado com a integração pela direita.\n",
        "\n"
      ]
    },
    {
      "cell_type": "code",
      "metadata": {
        "id": "yGYt84EqlXNs"
      },
      "source": [
        "import matplotlib.pyplot as plt\n",
        "import numpy as np\n",
        "import math\n",
        "a = math.exp(0)-math.exp(-10)\n",
        "x_i = 0\n",
        "x_f = 10\n",
        "dx = 1\n",
        "por = 1\n",
        "while por >= 0.01:\n",
        "  n_steps = round((x_f - x_i)/dx)\n",
        "  x = np.arange(x_i,x_f,dx)\n",
        "  S1 = 0\n",
        "  y=[]\n",
        "  x_a = []\n",
        "  for i in range(1,len(x)):\n",
        "    \n",
        "    S1 = S1 + math.exp(-(x[i])) * dx\n",
        "    x_a.append(x[i])\n",
        "    y.append(math.exp(-x[i]))\n",
        "    \n",
        "  \n",
        "  plt.plot(x_a,y)\n",
        "  plt.bar(x_a,y,color=\"red\",align=\"edge\",width=1)\n",
        "  plt.show()\n",
        "  por = abs(S1 - a)/a \n",
        "  print(\"aproximação\",S1,\"numeros de caixas\",n_steps,\"Erro\",por*100,\"%\")\n",
        "  print( )\n",
        "  dx = dx * 0.1 "
      ],
      "execution_count": null,
      "outputs": []
    },
    {
      "cell_type": "markdown",
      "metadata": {
        "id": "v_9nd1wYfaIr"
      },
      "source": [
        "3. Faça a integração por trapézios. Lembre que a área de um trapézio é dada por: $A=\\frac{(a + b)h}{2}$\n"
      ]
    },
    {
      "cell_type": "code",
      "metadata": {
        "id": "cvAnGNm6CtCK"
      },
      "source": [
        "import matplotlib.pyplot as plt\n",
        "import numpy as np\n",
        "import math\n",
        "a = math.exp(0)-math.exp(-10)\n",
        "x_i = 0\n",
        "x_f = 10\n",
        "dx = 1\n",
        "por = 1\n",
        "while por >= 0.000001:\n",
        "  n_steps = round((x_f - x_i)/dx)\n",
        "  x = np.arange(x_i,x_f,dx)\n",
        "  S1 = 0\n",
        "  y=[]\n",
        "  x_a = []\n",
        "  for i in range(0,len(x)-1):\n",
        "    \n",
        "    S1 = S1 + (math.exp(-(x[i])) + math.exp(-(x[i+1])))/2 * dx\n",
        "    x_a.append(x[i])\n",
        "    y.append((math.exp(-(x[i])) + math.exp(-(x[i+1])))/2)\n",
        "    \n",
        "  \n",
        "  plt.plot(x_a,y)\n",
        "  plt.bar(x_a,y,color=\"red\",align=\"edge\",width=1)\n",
        "  plt.show()\n",
        "  por = abs(S1 - a)/a \n",
        "  print(\"aproximação\",S1,\"numeros de caixas\",n_steps,\"Erro\",por*100,\"%\")\n",
        "  print( )\n",
        "  dx = dx * 0.1 \n",
        "print(a)"
      ],
      "execution_count": null,
      "outputs": []
    },
    {
      "cell_type": "markdown",
      "metadata": {
        "id": "0cUXGCNgaOVn"
      },
      "source": [
        "3. Faça a integração numérica das funções trigonométricas $\\sin(x)$ e $\\cos(x)$ num período $0 < x \\leq 2\\pi$\n",
        "\n",
        "4. Faça a integração das funções hiperbólicas  $\\sinh(x)$ e $\\cosh(x)$ no intervalo $0-10$."
      ]
    },
    {
      "cell_type": "code",
      "metadata": {
        "id": "OjxnCiT2F_BO",
        "outputId": "6b8556da-8152-4c8e-d24d-aaf44b8af69b",
        "colab": {
          "base_uri": "https://localhost:8080/"
        }
      },
      "source": [
        "def integral_trap(f,x_i,x_f,dx):\n",
        "  '''Dada uma função f do modulo de matemática, com valor inicial xi e valor final xf, com a diferencial dx de forma que (f,xi,xf,dx) dessa função\n",
        "  é possível melhorar a aproximação colocando valores cada vez menores para dx, e o limite é dado pela capacidade computacional do executador.\n",
        "  '''\n",
        "  import numpy as np\n",
        "  import math\n",
        "  x = np.arange(x_i,x_f,dx)\n",
        "  S1 = 0\n",
        "  \n",
        "  for i in range(0,len(x)-1):\n",
        "      S1 = S1 + (f((x[i])) + f((x[i+1])))/2 * dx\n",
        "  return S1\n",
        "\n",
        "\n",
        "import math\n",
        "import numpy as np\n",
        "a=0\n",
        "\n",
        "print(integral_trap(math.cos,0,2*np.pi/2 +1,0.0009))\n",
        "print(integral_trap(math.sin,0,2*np.pi,0.0009))\n",
        "print(integral_trap(math.cosh,0,10,0.0009))\n",
        "print(integral_trap(math.sinh,0,10,0.009))"
      ],
      "execution_count": 1,
      "outputs": [
        {
          "output_type": "stream",
          "text": [
            "-0.8410964838762349\n",
            "1.9999996893808785\n",
            "11012.13234979459\n",
            "11001.299450179793\n"
          ],
          "name": "stdout"
        }
      ]
    },
    {
      "cell_type": "markdown",
      "metadata": {
        "id": "AKcfxLbNsFC-"
      },
      "source": [
        "\n",
        "### Exercícios extras de resolução numérica de equações diferenciais\n",
        "\n",
        "1. Imagine que tem um/a maratonista treinando, que num trecho de $5 km$ tem velocidade quase constante de $12 km/h$. Produza uma lista distância percorrida em intervalos de 1 minuto.\n",
        "\n",
        "1. O/A mesmo/a atleta no seguinte trecho acelera por $200$ metros até chegar em $15 km/h$ por $2 km$. Queremos obter uma tabela ou gráfico da distância percorrida en função do tempo e o tempo total para chegar em $7 km$, faça isto utilizando list\n",
        "Exercícios extras de resolução numérica de equações diferenciais\n",
        "Imagine que tem um/a maratonista treinando, que num trecho de  5km  tem velocidade quase constante de  12km/h . Produza uma lista distância percorrida em intervalos de 1 minuto.\n",
        "\n",
        "O/A mesmo/a atleta no seguinte trecho acelera por  200  metros até chegar em  15km/h  por  2km . Queremos obter uma tabela ou gráfico da distância percorrida en função do tempo e o tempo total para chegar em  7km , faça isto utilizando listas.\n",
        "\n",
        "Considere um péndulo simples num plano. O comprimento da linha é  1  metro, a massa é  0,2kg  e a aceleração de gravidade  9,8m/s2 . Faça um gráfico ou crie uma tabela para a posição em coordenadas cartesianas em função do tempo, utilizando listas.\n",
        "\n",
        "(opcional) Pesquise sobre o pacote numpy e os objetos desse pacote chamados array, tente utilizálos ao invés de listas para resolver os exercícios.\n",
        "\n",
        "(opcional) Pesquise sobre o pacote scipy e seu modulo integrate para resolver integrações ou equações diferenciais numéricamente."
      ]
    }
  ]
}