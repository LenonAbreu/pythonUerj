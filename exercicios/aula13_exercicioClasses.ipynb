{
  "nbformat": 4,
  "nbformat_minor": 0,
  "metadata": {
    "colab": {
      "name": "aula13_exercicioClasses.ipynb",
      "provenance": [],
      "authorship_tag": "ABX9TyN9b6Rf3CYHOUKR2VO5V9iQ",
      "include_colab_link": true
    },
    "kernelspec": {
      "name": "python3",
      "display_name": "Python 3"
    }
  },
  "cells": [
    {
      "cell_type": "markdown",
      "metadata": {
        "id": "view-in-github",
        "colab_type": "text"
      },
      "source": [
        "<a href=\"https://colab.research.google.com/github/LenonAbreu/pythonUerj/blob/master/exercicios/aula13_exercicioClasses.ipynb\" target=\"_parent\"><img src=\"https://colab.research.google.com/assets/colab-badge.svg\" alt=\"Open In Colab\"/></a>"
      ]
    },
    {
      "cell_type": "markdown",
      "metadata": {
        "id": "5Kve_SlluAau"
      },
      "source": [
        "5) Usando a classe Ponto criada na última aula escreva uma classe Retangulo. A definição da classe Retangulo é: Dica: use o método criado no exercício 1)."
      ]
    },
    {
      "cell_type": "code",
      "metadata": {
        "colab": {
          "base_uri": "https://localhost:8080/"
        },
        "id": "C34vDc9Gt6Kx",
        "outputId": "f9219657-0357-43c9-9e65-8d734ebec702"
      },
      "source": [
        "class Ponto:\n",
        "    \n",
        "\n",
        "    def __init__(self, x=0, y=0):\n",
        "        self.x = x\n",
        "        self.y = y\n",
        "\n",
        "class Rectangle:\n",
        "  def __init__(self,canto=Ponto(0, 0), a=0, l=0):\n",
        "    self.canto = canto\n",
        "    self.a = a\n",
        "    self.l = l\n",
        "\n",
        "\n",
        "k = Ponto(2,3)\n",
        "Rectangle(k,1,2)\n",
        "print(Rectangle(k,1,2).canto.y)"
      ],
      "execution_count": null,
      "outputs": [
        {
          "output_type": "stream",
          "text": [
            "3\n"
          ],
          "name": "stdout"
        }
      ]
    },
    {
      "cell_type": "markdown",
      "metadata": {
        "id": "jvigTRlEyekM"
      },
      "source": [
        "6) Escreva uma definição para uma classe chamada **Circulo** com atributos ***centro*** e ***raio***, em que ***centro*** é um objeto do tipo **Ponto** e ***raio*** é um número.\n",
        "   * Instancie um objeto **Circulo** que represente um círculo com seu centro em (150, 100) e raio 75 e imprima na tela as coordenadas (x,y) do centro do círculo.\n",
        "   * Escreva uma função chamada ponto_no_circulo que use um Circulo e um Ponto e retorne True se o Ponto estiver dentro do círculo ou no limite do mesmo."
      ]
    },
    {
      "cell_type": "code",
      "metadata": {
        "colab": {
          "base_uri": "https://localhost:8080/"
        },
        "id": "VjPbstKuyh_T",
        "outputId": "1d2ba7be-e828-404d-eac4-d53385b30c9f"
      },
      "source": [
        "class Ponto:\n",
        "    \n",
        "\n",
        "    def __init__(self, x=0, y=0):\n",
        "        self.x = x\n",
        "        self.y = y\n",
        "\n",
        "class Circulo :\n",
        "  def __init__(self,centro=Ponto(), raio=0):\n",
        "    self.centro = centro\n",
        "    self.raio = raio\n",
        "  def __str__(self):\n",
        "    return \"({0}, {1},{2})\".format(self.centro.x, self.centro.y,self.raio)\n",
        "\n",
        "a = Circulo(Ponto(),75)\n",
        "print(a.centro.x,a.centro.y)\n",
        "\n",
        "def ponto_no_circulo(ponto,circulo):\n",
        "  raio_t = ((circulo.centro.x - ponto.x)**2 + (circulo.centro.y - ponto.y))**0.5\n",
        "  if raio_t <= circulo.raio:\n",
        "    return True\n",
        "  return False\n",
        "\n",
        "ponto_no_circulo(Ponto(53,53),a)"
      ],
      "execution_count": null,
      "outputs": [
        {
          "output_type": "stream",
          "text": [
            "0 0\n"
          ],
          "name": "stdout"
        },
        {
          "output_type": "execute_result",
          "data": {
            "text/plain": [
              "True"
            ]
          },
          "metadata": {
            "tags": []
          },
          "execution_count": 8
        }
      ]
    },
    {
      "cell_type": "markdown",
      "metadata": {
        "id": "_9FN7_yz4L4N"
      },
      "source": [
        "7) Escreva uma função chamada **desenhar_ret** que use um objeto ***Turtle*** e um ***Retangulo*** e use o Turtle para desenhar o retângulo.\n"
      ]
    },
    {
      "cell_type": "code",
      "metadata": {
        "colab": {
          "base_uri": "https://localhost:8080/"
        },
        "id": "xDwK_Lnq4Lbu",
        "outputId": "f63c8a6b-f520-40d0-cb13-98c2454c9f3b"
      },
      "source": [
        "!pip3 install ColabTurtle\n",
        "import ColabTurtle as le"
      ],
      "execution_count": null,
      "outputs": [
        {
          "output_type": "stream",
          "text": [
            "Collecting ColabTurtle\n",
            "  Using cached https://files.pythonhosted.org/packages/49/01/6da7091c2c6c917cce99c000b89acb6aa27b66ef6eafc0c0ccf59b98694f/ColabTurtle-2.0.0.tar.gz\n",
            "Building wheels for collected packages: ColabTurtle\n",
            "  Building wheel for ColabTurtle (setup.py) ... \u001b[?25l\u001b[?25hdone\n",
            "  Created wheel for ColabTurtle: filename=ColabTurtle-2.0.0-cp36-none-any.whl size=4032 sha256=c999aa4cff40bd16d78864ba5e385072521ab633809eb773c87c0173e5c0143c\n",
            "  Stored in directory: /root/.cache/pip/wheels/a8/29/ec/ad346f0042ae467cc74f4378916348faf975b07890651dcae7\n",
            "Successfully built ColabTurtle\n",
            "Installing collected packages: ColabTurtle\n",
            "Successfully installed ColabTurtle-2.0.0\n"
          ],
          "name": "stdout"
        }
      ]
    },
    {
      "cell_type": "code",
      "metadata": {
        "colab": {
          "base_uri": "https://localhost:8080/",
          "height": 521
        },
        "id": "s-21LO6B44MD",
        "outputId": "43026ee7-e0ed-4364-8c31-4356be052df7"
      },
      "source": [
        "def desenhar_ret(ret = Rectangle()):\n",
        "  import ColabTurtle.Turtle as le\n",
        "  le.initializeTurtle()\n",
        "  le.penup()\n",
        "  le.forward(ret.canto.y)\n",
        "  le.right(90)\n",
        "  le.forward(ret.canto.x)\n",
        "  le.left(90)\n",
        "  le.pendown()\n",
        "  for i in range(2):\n",
        "    le.forward(ret.a)\n",
        "    le.right(90)\n",
        "    le.forward(ret.l)\n",
        "    le.right(90)               # Completar o triângulo  \n",
        "ret = Rectangle(Ponto(60,50),40,30)\n",
        "desenhar_ret(ret)"
      ],
      "execution_count": null,
      "outputs": [
        {
          "output_type": "display_data",
          "data": {
            "text/html": [
              "\n",
              "      <svg width=\"800\" height=\"500\">\n",
              "        <rect width=\"100%\" height=\"100%\" fill=\"black\"/>\n",
              "        <line x1=\"460.0\" y1=\"200.0\" x2=\"460.0\" y2=\"160.0\" stroke-linecap=\"round\" style=\"stroke:white;stroke-width:4\"/><line x1=\"460.0\" y1=\"160.0\" x2=\"490.0\" y2=\"160.0\" stroke-linecap=\"round\" style=\"stroke:white;stroke-width:4\"/><line x1=\"490.0\" y1=\"160.0\" x2=\"490.0\" y2=\"200.0\" stroke-linecap=\"round\" style=\"stroke:white;stroke-width:4\"/><line x1=\"490.0\" y1=\"200.0\" x2=\"460.0\" y2=\"200.0\" stroke-linecap=\"round\" style=\"stroke:white;stroke-width:4\"/>\n",
              "        \n",
              "      <g visibility=visible transform=\"rotate(180,460.0,200.0) translate(460.0, 200.0)\">\n",
              "        <circle stroke=\"white\" stroke-width=\"3\" fill=\"transparent\" r=\"12\" cx=\"0\" cy=\"0\"/>\n",
              "        <polygon points=\"0,19 3,16 -3,16\" style=\"fill:white;stroke:white;stroke-width:2\"/>\n",
              "      </g>\n",
              "    \n",
              "      </svg>\n",
              "    "
            ],
            "text/plain": [
              "<IPython.core.display.HTML object>"
            ]
          },
          "metadata": {
            "tags": []
          }
        }
      ]
    },
    {
      "cell_type": "markdown",
      "metadata": {
        "id": "4gu1iDvh4PJ0"
      },
      "source": [
        "8) Escreva uma função chamada desenhar_circulo que use uma ***Turtle*** e um ***Circulo*** e desenhe o ***Circulo***."
      ]
    },
    {
      "cell_type": "code",
      "metadata": {
        "colab": {
          "base_uri": "https://localhost:8080/",
          "height": 521
        },
        "id": "RgNOHapMQdGj",
        "outputId": "7d07a349-eeb7-4847-b9a8-c0153215eb0a"
      },
      "source": [
        "\n",
        "\n",
        "\n",
        "def circulo(circ=Circulo()):\n",
        "  import math\n",
        "  import ColabTurtle.Turtle as le\n",
        "  '''programa para desenhar um circulo a partir de uma classe do tipo Circulo(ponto(x,y),raio)\n",
        "  '''\n",
        "  ############################ Bloco destinado a posicionar a tartaruga no plano#########################\n",
        "  le.initializeTurtle() \n",
        "  le.speed(10)\n",
        "  le.penup()\n",
        "  le.forward(circ.centro.y)\n",
        "  le.right(90)\n",
        "  le.forward(circ.centro.x + circ.raio)\n",
        "  le.left(90)\n",
        "  le.pendown()\n",
        "  ################################# Bloco dedicado a  fazer o desenho  ###################\n",
        "  arc_length = 2 * math.pi * circ.raio\n",
        "  n = int(arc_length / 3) + 1 \n",
        "  step_length = arc_length / n \n",
        "  step_angle = float(360) / n \n",
        "  for i in range(n):\n",
        "   le.forward(int(step_length))\n",
        "   le.left(step_angle)\n",
        "   \n",
        "\n",
        " \n",
        "\n",
        "\n",
        "le.speed(10)\n",
        "a = Circulo(Ponto(),100)\n",
        "circulo(a)"
      ],
      "execution_count": null,
      "outputs": [
        {
          "output_type": "display_data",
          "data": {
            "text/html": [
              "\n",
              "      <svg width=\"800\" height=\"500\">\n",
              "        <rect width=\"100%\" height=\"100%\" fill=\"black\"/>\n",
              "        <line x1=\"500.0\" y1=\"250.0\" x2=\"500.0\" y2=\"248.0\" stroke-linecap=\"round\" style=\"stroke:white;stroke-width:4\"/><line x1=\"500.0\" y1=\"248.0\" x2=\"499.9401690676612\" y2=\"246.00089513543298\" stroke-linecap=\"round\" style=\"stroke:white;stroke-width:4\"/><line x1=\"499.9401690676612\" y1=\"246.00089513543298\" x2=\"499.8205607597711\" y2=\"244.0044748758975\" stroke-linecap=\"round\" style=\"stroke:white;stroke-width:4\"/><line x1=\"499.8205607597711\" y1=\"244.0044748758975\" x2=\"499.64128214196427\" y2=\"242.01252628790704\" stroke-linecap=\"round\" style=\"stroke:white;stroke-width:4\"/><line x1=\"499.64128214196427\" y1=\"242.01252628790704\" x2=\"499.40249369288375\" y2=\"240.02683243522335\" stroke-linecap=\"round\" style=\"stroke:white;stroke-width:4\"/><line x1=\"499.40249369288375\" y1=\"240.02683243522335\" x2=\"499.1044091605314\" y2=\"238.0491707827731\" stroke-linecap=\"round\" style=\"stroke:white;stroke-width:4\"/><line x1=\"499.1044091605314\" y1=\"238.0491707827731\" x2=\"498.7472953709341\" y2=\"236.08131160557585\" stroke-linecap=\"round\" style=\"stroke:white;stroke-width:4\"/><line x1=\"498.7472953709341\" y1=\"236.08131160557585\" x2=\"498.3314719892986\" y2=\"234.12501640410824\" stroke-linecap=\"round\" style=\"stroke:white;stroke-width:4\"/><line x1=\"498.3314719892986\" y1=\"234.12501640410824\" x2=\"497.8573112338676\" y2=\"232.1820363275225\" stroke-linecap=\"round\" style=\"stroke:white;stroke-width:4\"/><line x1=\"497.8573112338676\" y1=\"232.1820363275225\" x2=\"497.32523754273427\" y2=\"230.25411060613078\" stroke-linecap=\"round\" style=\"stroke:white;stroke-width:4\"/><line x1=\"497.32523754273427\" y1=\"230.25411060613078\" x2=\"496.73572719391245\" y2=\"228.34296499455849\" stroke-linecap=\"round\" style=\"stroke:white;stroke-width:4\"/><line x1=\"496.73572719391245\" y1=\"228.34296499455849\" x2=\"496.0893078790035\" y2=\"226.45031022696017\" stroke-linecap=\"round\" style=\"stroke:white;stroke-width:4\"/><line x1=\"496.0893078790035\" y1=\"226.45031022696017\" x2=\"495.3865582308408\" y2=\"224.5778404856807\" stroke-linecap=\"round\" style=\"stroke:white;stroke-width:4\"/><line x1=\"495.3865582308408\" y1=\"224.5778404856807\" x2=\"494.62810730553497\" y2=\"222.7272318847327\" stroke-linecap=\"round\" style=\"stroke:white;stroke-width:4\"/><line x1=\"494.62810730553497\" y1=\"222.7272318847327\" x2=\"493.8146340193834\" y2=\"220.9001409694475\" stroke-linecap=\"round\" style=\"stroke:white;stroke-width:4\"/><line x1=\"493.8146340193834\" y1=\"220.9001409694475\" x2=\"492.94686654114827\" y2=\"219.09820323364266\" stroke-linecap=\"round\" style=\"stroke:white;stroke-width:4\"/><line x1=\"492.94686654114827\" y1=\"219.09820323364266\" x2=\"492.025581640247\" y2=\"217.32303165563357\" stroke-linecap=\"round\" style=\"stroke:white;stroke-width:4\"/><line x1=\"492.025581640247\" y1=\"217.32303165563357\" x2=\"491.0516039914383\" y2=\"215.5762152543993\" stroke-linecap=\"round\" style=\"stroke:white;stroke-width:4\"/><line x1=\"491.0516039914383\" y1=\"215.5762152543993\" x2=\"490.02580543662646\" y2=\"213.85931766719557\" stroke-linecap=\"round\" style=\"stroke:white;stroke-width:4\"/><line x1=\"490.02580543662646\" y1=\"213.85931766719557\" x2=\"488.94910420444506\" y2=\"212.1738757498875\" stroke-linecap=\"round\" style=\"stroke:white;stroke-width:4\"/><line x1=\"488.94910420444506\" y1=\"212.1738757498875\" x2=\"487.8224640883178\" y2=\"210.5213982012555\" stroke-linecap=\"round\" style=\"stroke:white;stroke-width:4\"/><line x1=\"487.8224640883178\" y1=\"210.5213982012555\" x2=\"486.6468935837329\" y2=\"208.9033642125056\" stroke-linecap=\"round\" style=\"stroke:white;stroke-width:4\"/><line x1=\"486.6468935837329\" y1=\"208.9033642125056\" x2=\"485.4234449855029\" y2=\"207.32122214319293\" stroke-linecap=\"round\" style=\"stroke:white;stroke-width:4\"/><line x1=\"485.4234449855029\" y1=\"207.32122214319293\" x2=\"484.15321344581855\" y2=\"205.77638822474373\" stroke-linecap=\"round\" style=\"stroke:white;stroke-width:4\"/><line x1=\"484.15321344581855\" y1=\"205.77638822474373\" x2=\"482.8373359939391\" y2=\"204.27024529273652\" stroke-linecap=\"round\" style=\"stroke:white;stroke-width:4\"/><line x1=\"482.8373359939391\" y1=\"204.27024529273652\" x2=\"481.47699051839726\" y2=\"202.80414154907686\" stroke-linecap=\"round\" style=\"stroke:white;stroke-width:4\"/><line x1=\"481.47699051839726\" y1=\"202.80414154907686\" x2=\"480.0733947126293\" y2=\"201.37938935517417\" stroke-linecap=\"round\" style=\"stroke:white;stroke-width:4\"/><line x1=\"480.0733947126293\" y1=\"201.37938935517417\" x2=\"478.6278049849745\" y2=\"199.99726405720045\" stroke-linecap=\"round\" style=\"stroke:white;stroke-width:4\"/><line x1=\"478.6278049849745\" y1=\"199.99726405720045\" x2=\"477.1415153340197\" y2=\"198.65900284448276\" stroke-linecap=\"round\" style=\"stroke:white;stroke-width:4\"/><line x1=\"477.1415153340197\" y1=\"198.65900284448276\" x2=\"475.6158561902952\" y2=\"197.36580364205116\" stroke-linecap=\"round\" style=\"stroke:white;stroke-width:4\"/><line x1=\"475.6158561902952\" y1=\"197.36580364205116\" x2=\"474.05219322535913\" y2=\"196.1188240383337\" stroke-linecap=\"round\" style=\"stroke:white;stroke-width:4\"/><line x1=\"474.05219322535913\" y1=\"196.1188240383337\" x2=\"472.4519261293367\" y2=\"194.9191802489579\" stroke-linecap=\"round\" style=\"stroke:white;stroke-width:4\"/><line x1=\"472.4519261293367\" y1=\"194.9191802489579\" x2=\"470.8164873580078\" y2=\"193.76794611758658\" stroke-linecap=\"round\" style=\"stroke:white;stroke-width:4\"/><line x1=\"470.8164873580078\" y1=\"193.76794611758658\" x2=\"469.1473408505652\" y2=\"192.66615215468238\" stroke-linecap=\"round\" style=\"stroke:white;stroke-width:4\"/><line x1=\"469.1473408505652\" y1=\"192.66615215468238\" x2=\"467.4459807191905\" y2=\"191.61478461506138\" stroke-linecap=\"round\" style=\"stroke:white;stroke-width:4\"/><line x1=\"467.4459807191905\" y1=\"191.61478461506138\" x2=\"465.7139299116216\" y2=\"190.61478461506138\" stroke-linecap=\"round\" style=\"stroke:white;stroke-width:4\"/><line x1=\"465.7139299116216\" y1=\"190.61478461506138\" x2=\"463.95273884790817\" y2=\"189.6670472901154\" stroke-linecap=\"round\" style=\"stroke:white;stroke-width:4\"/><line x1=\"463.95273884790817\" y1=\"189.6670472901154\" x2=\"462.1639840325755\" y2=\"188.77242099348413\" stroke-linecap=\"round\" style=\"stroke:white;stroke-width:4\"/><line x1=\"462.1639840325755\" y1=\"188.77242099348413\" x2=\"460.34926664343976\" y2=\"187.93170653686502\" stroke-linecap=\"round\" style=\"stroke:white;stroke-width:4\"/><line x1=\"460.34926664343976\" y1=\"187.93170653686502\" x2=\"458.51021109833687\" y2=\"187.14565647355718\" stroke-linecap=\"round\" style=\"stroke:white;stroke-width:4\"/><line x1=\"458.51021109833687\" y1=\"187.14565647355718\" x2=\"456.64846360104843\" y2=\"186.4149744248244\" stroke-linecap=\"round\" style=\"stroke:white;stroke-width:4\"/><line x1=\"456.64846360104843\" y1=\"186.4149744248244\" x2=\"454.76569066772663\" y2=\"185.74031445005875\" stroke-linecap=\"round\" style=\"stroke:white;stroke-width:4\"/><line x1=\"454.76569066772663\" y1=\"185.74031445005875\" x2=\"452.8635776351363\" y2=\"185.12228046130886\" stroke-linecap=\"round\" style=\"stroke:white;stroke-width:4\"/><line x1=\"452.8635776351363\" y1=\"185.12228046130886\" x2=\"450.9438271520505\" y2=\"184.56142568269686\" stroke-linecap=\"round\" style=\"stroke:white;stroke-width:4\"/><line x1=\"450.9438271520505\" y1=\"184.56142568269686\" x2=\"449.0081576551492\" y2=\"184.05825215520787\" stroke-linecap=\"round\" style=\"stroke:white;stroke-width:4\"/><line x1=\"449.0081576551492\" y1=\"184.05825215520787\" x2=\"447.0583018307856\" y2=\"183.61321028729526\" stroke-linecap=\"round\" style=\"stroke:white;stroke-width:4\"/><line x1=\"447.0583018307856\" y1=\"183.61321028729526\" x2=\"445.0960050639972\" y2=\"183.22669845170418\" stroke-linecap=\"round\" style=\"stroke:white;stroke-width:4\"/><line x1=\"445.0960050639972\" y1=\"183.22669845170418\" x2=\"443.12302387615017\" y2=\"182.8990626288739\" stroke-linecap=\"round\" style=\"stroke:white;stroke-width:4\"/><line x1=\"443.12302387615017\" y1=\"182.8990626288739\" x2=\"441.1411243526143\" y2=\"182.63059609723862\" stroke-linecap=\"round\" style=\"stroke:white;stroke-width:4\"/><line x1=\"441.1411243526143\" y1=\"182.63059609723862\" x2=\"439.15208056187777\" y2=\"182.42153917070334\" stroke-linecap=\"round\" style=\"stroke:white;stroke-width:4\"/><line x1=\"439.15208056187777\" y1=\"182.42153917070334\" x2=\"437.1576729675154\" y2=\"182.27207898353052\" stroke-linecap=\"round\" style=\"stroke:white;stroke-width:4\"/><line x1=\"437.1576729675154\" y1=\"182.27207898353052\" x2=\"435.15968683443276\" y2=\"182.1823493228295\" stroke-linecap=\"round\" style=\"stroke:white;stroke-width:4\"/><line x1=\"435.15968683443276\" y1=\"182.1823493228295\" x2=\"433.1599106308122\" y2=\"182.152430508799\" stroke-linecap=\"round\" style=\"stroke:white;stroke-width:4\"/><line x1=\"433.1599106308122\" y1=\"182.152430508799\" x2=\"431.1601344271916\" y2=\"182.18234932282954\" stroke-linecap=\"round\" style=\"stroke:white;stroke-width:4\"/><line x1=\"431.1601344271916\" y1=\"182.18234932282954\" x2=\"429.162148294109\" y2=\"182.27207898353058\" stroke-linecap=\"round\" style=\"stroke:white;stroke-width:4\"/><line x1=\"429.162148294109\" y1=\"182.27207898353058\" x2=\"427.1677406997466\" y2=\"182.42153917070345\" stroke-linecap=\"round\" style=\"stroke:white;stroke-width:4\"/><line x1=\"427.1677406997466\" y1=\"182.42153917070345\" x2=\"425.17869690901006\" y2=\"182.63059609723877\" stroke-linecap=\"round\" style=\"stroke:white;stroke-width:4\"/><line x1=\"425.17869690901006\" y1=\"182.63059609723877\" x2=\"423.1967973854742\" y2=\"182.8990626288741\" stroke-linecap=\"round\" style=\"stroke:white;stroke-width:4\"/><line x1=\"423.1967973854742\" y1=\"182.8990626288741\" x2=\"421.2238161976272\" y2=\"183.2266984517044\" stroke-linecap=\"round\" style=\"stroke:white;stroke-width:4\"/><line x1=\"421.2238161976272\" y1=\"183.2266984517044\" x2=\"419.2615194308388\" y2=\"183.61321028729554\" stroke-linecap=\"round\" style=\"stroke:white;stroke-width:4\"/><line x1=\"419.2615194308388\" y1=\"183.61321028729554\" x2=\"417.3116636064752\" y2=\"184.05825215520818\" stroke-linecap=\"round\" style=\"stroke:white;stroke-width:4\"/><line x1=\"417.3116636064752\" y1=\"184.05825215520818\" x2=\"415.37599410957387\" y2=\"184.5614256826972\" stroke-linecap=\"round\" style=\"stroke:white;stroke-width:4\"/><line x1=\"415.37599410957387\" y1=\"184.5614256826972\" x2=\"413.4562436264881\" y2=\"185.12228046130923\" stroke-linecap=\"round\" style=\"stroke:white;stroke-width:4\"/><line x1=\"413.4562436264881\" y1=\"185.12228046130923\" x2=\"411.5541305938978\" y2=\"185.74031445005915\" stroke-linecap=\"round\" style=\"stroke:white;stroke-width:4\"/><line x1=\"411.5541305938978\" y1=\"185.74031445005915\" x2=\"409.671357660576\" y2=\"186.41497442482483\" stroke-linecap=\"round\" style=\"stroke:white;stroke-width:4\"/><line x1=\"409.671357660576\" y1=\"186.41497442482483\" x2=\"407.80961016328763\" y2=\"187.14565647355764\" stroke-linecap=\"round\" style=\"stroke:white;stroke-width:4\"/><line x1=\"407.80961016328763\" y1=\"187.14565647355764\" x2=\"405.97055461818474\" y2=\"187.9317065368655\" stroke-linecap=\"round\" style=\"stroke:white;stroke-width:4\"/><line x1=\"405.97055461818474\" y1=\"187.9317065368655\" x2=\"404.15583722904904\" y2=\"188.77242099348464\" stroke-linecap=\"round\" style=\"stroke:white;stroke-width:4\"/><line x1=\"404.15583722904904\" y1=\"188.77242099348464\" x2=\"402.3670824137164\" y2=\"189.66704729011593\" stroke-linecap=\"round\" style=\"stroke:white;stroke-width:4\"/><line x1=\"402.3670824137164\" y1=\"189.66704729011593\" x2=\"400.60589135000293\" y2=\"190.61478461506195\" stroke-linecap=\"round\" style=\"stroke:white;stroke-width:4\"/><line x1=\"400.60589135000293\" y1=\"190.61478461506195\" x2=\"398.8738405424341\" y2=\"191.61478461506198\" stroke-linecap=\"round\" style=\"stroke:white;stroke-width:4\"/><line x1=\"398.8738405424341\" y1=\"191.61478461506198\" x2=\"397.17248041105944\" y2=\"192.666152154683\" stroke-linecap=\"round\" style=\"stroke:white;stroke-width:4\"/><line x1=\"397.17248041105944\" y1=\"192.666152154683\" x2=\"395.50333390361686\" y2=\"193.76794611758723\" stroke-linecap=\"round\" style=\"stroke:white;stroke-width:4\"/><line x1=\"395.50333390361686\" y1=\"193.76794611758723\" x2=\"393.867895132288\" y2=\"194.91918024895858\" stroke-linecap=\"round\" style=\"stroke:white;stroke-width:4\"/><line x1=\"393.867895132288\" y1=\"194.91918024895858\" x2=\"392.26762803626565\" y2=\"196.11882403833442\" stroke-linecap=\"round\" style=\"stroke:white;stroke-width:4\"/><line x1=\"392.26762803626565\" y1=\"196.11882403833442\" x2=\"390.7039650713296\" y2=\"197.3658036420519\" stroke-linecap=\"round\" style=\"stroke:white;stroke-width:4\"/><line x1=\"390.7039650713296\" y1=\"197.3658036420519\" x2=\"389.1783059276051\" y2=\"198.65900284448352\" stroke-linecap=\"round\" style=\"stroke:white;stroke-width:4\"/><line x1=\"389.1783059276051\" y1=\"198.65900284448352\" x2=\"387.6920162766503\" y2=\"199.99726405720125\" stroke-linecap=\"round\" style=\"stroke:white;stroke-width:4\"/><line x1=\"387.6920162766503\" y1=\"199.99726405720125\" x2=\"386.24642654899554\" y2=\"201.379389355175\" stroke-linecap=\"round\" style=\"stroke:white;stroke-width:4\"/><line x1=\"386.24642654899554\" y1=\"201.379389355175\" x2=\"384.8428307432276\" y2=\"202.80414154907768\" stroke-linecap=\"round\" style=\"stroke:white;stroke-width:4\"/><line x1=\"384.8428307432276\" y1=\"202.80414154907768\" x2=\"383.4824852676858\" y2=\"204.27024529273734\" stroke-linecap=\"round\" style=\"stroke:white;stroke-width:4\"/><line x1=\"383.4824852676858\" y1=\"204.27024529273734\" x2=\"382.16660781580634\" y2=\"205.77638822474458\" stroke-linecap=\"round\" style=\"stroke:white;stroke-width:4\"/><line x1=\"382.16660781580634\" y1=\"205.77638822474458\" x2=\"380.896376276122\" y2=\"207.32122214319378\" stroke-linecap=\"round\" style=\"stroke:white;stroke-width:4\"/><line x1=\"380.896376276122\" y1=\"207.32122214319378\" x2=\"379.672927677892\" y2=\"208.9033642125065\" stroke-linecap=\"round\" style=\"stroke:white;stroke-width:4\"/><line x1=\"379.672927677892\" y1=\"208.9033642125065\" x2=\"378.4973571733071\" y2=\"210.5213982012564\" stroke-linecap=\"round\" style=\"stroke:white;stroke-width:4\"/><line x1=\"378.4973571733071\" y1=\"210.5213982012564\" x2=\"377.37071705717983\" y2=\"212.1738757498884\" stroke-linecap=\"round\" style=\"stroke:white;stroke-width:4\"/><line x1=\"377.37071705717983\" y1=\"212.1738757498884\" x2=\"376.2940158249985\" y2=\"213.85931766719648\" stroke-linecap=\"round\" style=\"stroke:white;stroke-width:4\"/><line x1=\"376.2940158249985\" y1=\"213.85931766719648\" x2=\"375.2682172701867\" y2=\"215.5762152544002\" stroke-linecap=\"round\" style=\"stroke:white;stroke-width:4\"/><line x1=\"375.2682172701867\" y1=\"215.5762152544002\" x2=\"374.294239621378\" y2=\"217.32303165563448\" stroke-linecap=\"round\" style=\"stroke:white;stroke-width:4\"/><line x1=\"374.294239621378\" y1=\"217.32303165563448\" x2=\"373.37295472047674\" y2=\"219.0982032336436\" stroke-linecap=\"round\" style=\"stroke:white;stroke-width:4\"/><line x1=\"373.37295472047674\" y1=\"219.0982032336436\" x2=\"372.5051872422416\" y2=\"220.90014096944844\" stroke-linecap=\"round\" style=\"stroke:white;stroke-width:4\"/><line x1=\"372.5051872422416\" y1=\"220.90014096944844\" x2=\"371.69171395609004\" y2=\"222.72723188473364\" stroke-linecap=\"round\" style=\"stroke:white;stroke-width:4\"/><line x1=\"371.69171395609004\" y1=\"222.72723188473364\" x2=\"370.9332630307842\" y2=\"224.57784048568163\" stroke-linecap=\"round\" style=\"stroke:white;stroke-width:4\"/><line x1=\"370.9332630307842\" y1=\"224.57784048568163\" x2=\"370.2305133826215\" y2=\"226.4503102269611\" stroke-linecap=\"round\" style=\"stroke:white;stroke-width:4\"/><line x1=\"370.2305133826215\" y1=\"226.4503102269611\" x2=\"369.5840940677126\" y2=\"228.34296499455945\" stroke-linecap=\"round\" style=\"stroke:white;stroke-width:4\"/><line x1=\"369.5840940677126\" y1=\"228.34296499455945\" x2=\"368.99458371889085\" y2=\"230.25411060613175\" stroke-linecap=\"round\" style=\"stroke:white;stroke-width:4\"/><line x1=\"368.99458371889085\" y1=\"230.25411060613175\" x2=\"368.4625100277575\" y2=\"232.18203632752346\" stroke-linecap=\"round\" style=\"stroke:white;stroke-width:4\"/><line x1=\"368.4625100277575\" y1=\"232.18203632752346\" x2=\"367.9883492723265\" y2=\"234.1250164041092\" stroke-linecap=\"round\" style=\"stroke:white;stroke-width:4\"/><line x1=\"367.9883492723265\" y1=\"234.1250164041092\" x2=\"367.572525890691\" y2=\"236.08131160557681\" stroke-linecap=\"round\" style=\"stroke:white;stroke-width:4\"/><line x1=\"367.572525890691\" y1=\"236.08131160557681\" x2=\"367.21541210109376\" y2=\"238.04917078277407\" stroke-linecap=\"round\" style=\"stroke:white;stroke-width:4\"/><line x1=\"367.21541210109376\" y1=\"238.04917078277407\" x2=\"366.9173275687414\" y2=\"240.02683243522432\" stroke-linecap=\"round\" style=\"stroke:white;stroke-width:4\"/><line x1=\"366.9173275687414\" y1=\"240.02683243522432\" x2=\"366.67853911966097\" y2=\"242.012526287908\" stroke-linecap=\"round\" style=\"stroke:white;stroke-width:4\"/><line x1=\"366.67853911966097\" y1=\"242.012526287908\" x2=\"366.4992605018541\" y2=\"244.0044748758985\" stroke-linecap=\"round\" style=\"stroke:white;stroke-width:4\"/><line x1=\"366.4992605018541\" y1=\"244.0044748758985\" x2=\"366.37965219396403\" y2=\"246.00089513543398\" stroke-linecap=\"round\" style=\"stroke:white;stroke-width:4\"/><line x1=\"366.37965219396403\" y1=\"246.00089513543398\" x2=\"366.31982126162524\" y2=\"248.000000000001\" stroke-linecap=\"round\" style=\"stroke:white;stroke-width:4\"/><line x1=\"366.31982126162524\" y1=\"248.000000000001\" x2=\"366.31982126162524\" y2=\"250.000000000001\" stroke-linecap=\"round\" style=\"stroke:white;stroke-width:4\"/><line x1=\"366.31982126162524\" y1=\"250.000000000001\" x2=\"366.37965219396403\" y2=\"251.999104864568\" stroke-linecap=\"round\" style=\"stroke:white;stroke-width:4\"/><line x1=\"366.37965219396403\" y1=\"251.999104864568\" x2=\"366.4992605018541\" y2=\"253.9955251241035\" stroke-linecap=\"round\" style=\"stroke:white;stroke-width:4\"/><line x1=\"366.4992605018541\" y1=\"253.9955251241035\" x2=\"366.67853911966097\" y2=\"255.98747371209396\" stroke-linecap=\"round\" style=\"stroke:white;stroke-width:4\"/><line x1=\"366.67853911966097\" y1=\"255.98747371209396\" x2=\"366.9173275687415\" y2=\"257.9731675647776\" stroke-linecap=\"round\" style=\"stroke:white;stroke-width:4\"/><line x1=\"366.9173275687415\" y1=\"257.9731675647776\" x2=\"367.2154121010939\" y2=\"259.95082921722786\" stroke-linecap=\"round\" style=\"stroke:white;stroke-width:4\"/><line x1=\"367.2154121010939\" y1=\"259.95082921722786\" x2=\"367.57252589069117\" y2=\"261.91868839442515\" stroke-linecap=\"round\" style=\"stroke:white;stroke-width:4\"/><line x1=\"367.57252589069117\" y1=\"261.91868839442515\" x2=\"367.98834927232673\" y2=\"263.87498359589273\" stroke-linecap=\"round\" style=\"stroke:white;stroke-width:4\"/><line x1=\"367.98834927232673\" y1=\"263.87498359589273\" x2=\"368.46251002775773\" y2=\"265.81796367247847\" stroke-linecap=\"round\" style=\"stroke:white;stroke-width:4\"/><line x1=\"368.46251002775773\" y1=\"265.81796367247847\" x2=\"368.9945837188911\" y2=\"267.7458893938702\" stroke-linecap=\"round\" style=\"stroke:white;stroke-width:4\"/><line x1=\"368.9945837188911\" y1=\"267.7458893938702\" x2=\"369.5840940677129\" y2=\"269.6570350054425\" stroke-linecap=\"round\" style=\"stroke:white;stroke-width:4\"/><line x1=\"369.5840940677129\" y1=\"269.6570350054425\" x2=\"370.23051338262184\" y2=\"271.5496897730408\" stroke-linecap=\"round\" style=\"stroke:white;stroke-width:4\"/><line x1=\"370.23051338262184\" y1=\"271.5496897730408\" x2=\"370.93326303078453\" y2=\"273.4221595143203\" stroke-linecap=\"round\" style=\"stroke:white;stroke-width:4\"/><line x1=\"370.93326303078453\" y1=\"273.4221595143203\" x2=\"371.6917139560904\" y2=\"275.27276811526826\" stroke-linecap=\"round\" style=\"stroke:white;stroke-width:4\"/><line x1=\"371.6917139560904\" y1=\"275.27276811526826\" x2=\"372.505187242242\" y2=\"277.09985903055343\" stroke-linecap=\"round\" style=\"stroke:white;stroke-width:4\"/><line x1=\"372.505187242242\" y1=\"277.09985903055343\" x2=\"373.37295472047714\" y2=\"278.90179676635825\" stroke-linecap=\"round\" style=\"stroke:white;stroke-width:4\"/><line x1=\"373.37295472047714\" y1=\"278.90179676635825\" x2=\"374.29423962137844\" y2=\"280.67696834436737\" stroke-linecap=\"round\" style=\"stroke:white;stroke-width:4\"/><line x1=\"374.29423962137844\" y1=\"280.67696834436737\" x2=\"375.26821727018717\" y2=\"282.4237847456016\" stroke-linecap=\"round\" style=\"stroke:white;stroke-width:4\"/><line x1=\"375.26821727018717\" y1=\"282.4237847456016\" x2=\"376.294015824999\" y2=\"284.14068233280534\" stroke-linecap=\"round\" style=\"stroke:white;stroke-width:4\"/><line x1=\"376.294015824999\" y1=\"284.14068233280534\" x2=\"377.3707170571804\" y2=\"285.8261242501134\" stroke-linecap=\"round\" style=\"stroke:white;stroke-width:4\"/><line x1=\"377.3707170571804\" y1=\"285.8261242501134\" x2=\"378.49735717330765\" y2=\"287.4786017987454\" stroke-linecap=\"round\" style=\"stroke:white;stroke-width:4\"/><line x1=\"378.49735717330765\" y1=\"287.4786017987454\" x2=\"379.67292767789263\" y2=\"289.09663578749525\" stroke-linecap=\"round\" style=\"stroke:white;stroke-width:4\"/><line x1=\"379.67292767789263\" y1=\"289.09663578749525\" x2=\"380.8963762761227\" y2=\"290.6787778568079\" stroke-linecap=\"round\" style=\"stroke:white;stroke-width:4\"/><line x1=\"380.8963762761227\" y1=\"290.6787778568079\" x2=\"382.166607815807\" y2=\"292.2236117752571\" stroke-linecap=\"round\" style=\"stroke:white;stroke-width:4\"/><line x1=\"382.166607815807\" y1=\"292.2236117752571\" x2=\"383.48248526768646\" y2=\"293.7297547072643\" stroke-linecap=\"round\" style=\"stroke:white;stroke-width:4\"/><line x1=\"383.48248526768646\" y1=\"293.7297547072643\" x2=\"384.8428307432283\" y2=\"295.19585845092394\" stroke-linecap=\"round\" style=\"stroke:white;stroke-width:4\"/><line x1=\"384.8428307432283\" y1=\"295.19585845092394\" x2=\"386.24642654899634\" y2=\"296.6206106448266\" stroke-linecap=\"round\" style=\"stroke:white;stroke-width:4\"/><line x1=\"386.24642654899634\" y1=\"296.6206106448266\" x2=\"387.69201627665115\" y2=\"298.00273594280037\" stroke-linecap=\"round\" style=\"stroke:white;stroke-width:4\"/><line x1=\"387.69201627665115\" y1=\"298.00273594280037\" x2=\"389.17830592760595\" y2=\"299.3409971555181\" stroke-linecap=\"round\" style=\"stroke:white;stroke-width:4\"/><line x1=\"389.17830592760595\" y1=\"299.3409971555181\" x2=\"390.7039650713305\" y2=\"300.6341963579497\" stroke-linecap=\"round\" style=\"stroke:white;stroke-width:4\"/><line x1=\"390.7039650713305\" y1=\"300.6341963579497\" x2=\"392.26762803626656\" y2=\"301.88117596166717\" stroke-linecap=\"round\" style=\"stroke:white;stroke-width:4\"/><line x1=\"392.26762803626656\" y1=\"301.88117596166717\" x2=\"393.867895132289\" y2=\"303.080819751043\" stroke-linecap=\"round\" style=\"stroke:white;stroke-width:4\"/><line x1=\"393.867895132289\" y1=\"303.080819751043\" x2=\"395.5033339036179\" y2=\"304.23205388241433\" stroke-linecap=\"round\" style=\"stroke:white;stroke-width:4\"/><line x1=\"395.5033339036179\" y1=\"304.23205388241433\" x2=\"397.1724804110605\" y2=\"305.33384784531853\" stroke-linecap=\"round\" style=\"stroke:white;stroke-width:4\"/><line x1=\"397.1724804110605\" y1=\"305.33384784531853\" x2=\"398.87384054243523\" y2=\"306.3852153849395\" stroke-linecap=\"round\" style=\"stroke:white;stroke-width:4\"/><line x1=\"398.87384054243523\" y1=\"306.3852153849395\" x2=\"400.60589135000413\" y2=\"307.3852153849395\" stroke-linecap=\"round\" style=\"stroke:white;stroke-width:4\"/><line x1=\"400.60589135000413\" y1=\"307.3852153849395\" x2=\"402.36708241371764\" y2=\"308.3329527098855\" stroke-linecap=\"round\" style=\"stroke:white;stroke-width:4\"/><line x1=\"402.36708241371764\" y1=\"308.3329527098855\" x2=\"404.15583722905035\" y2=\"309.22757900651675\" stroke-linecap=\"round\" style=\"stroke:white;stroke-width:4\"/><line x1=\"404.15583722905035\" y1=\"309.22757900651675\" x2=\"405.9705546181861\" y2=\"310.0682934631359\" stroke-linecap=\"round\" style=\"stroke:white;stroke-width:4\"/><line x1=\"405.9705546181861\" y1=\"310.0682934631359\" x2=\"407.809610163289\" y2=\"310.8543435264437\" stroke-linecap=\"round\" style=\"stroke:white;stroke-width:4\"/><line x1=\"407.809610163289\" y1=\"310.8543435264437\" x2=\"409.6713576605774\" y2=\"311.5850255751765\" stroke-linecap=\"round\" style=\"stroke:white;stroke-width:4\"/><line x1=\"409.6713576605774\" y1=\"311.5850255751765\" x2=\"411.55413059389923\" y2=\"312.2596855499421\" stroke-linecap=\"round\" style=\"stroke:white;stroke-width:4\"/><line x1=\"411.55413059389923\" y1=\"312.2596855499421\" x2=\"413.45624362648954\" y2=\"312.87771953869196\" stroke-linecap=\"round\" style=\"stroke:white;stroke-width:4\"/><line x1=\"413.45624362648954\" y1=\"312.87771953869196\" x2=\"415.37599410957534\" y2=\"313.43857431730396\" stroke-linecap=\"round\" style=\"stroke:white;stroke-width:4\"/><line x1=\"415.37599410957534\" y1=\"313.43857431730396\" x2=\"417.31166360647666\" y2=\"313.941747844793\" stroke-linecap=\"round\" style=\"stroke:white;stroke-width:4\"/><line x1=\"417.31166360647666\" y1=\"313.941747844793\" x2=\"419.2615194308403\" y2=\"314.3867897127056\" stroke-linecap=\"round\" style=\"stroke:white;stroke-width:4\"/><line x1=\"419.2615194308403\" y1=\"314.3867897127056\" x2=\"421.22381619762865\" y2=\"314.7733015482967\" stroke-linecap=\"round\" style=\"stroke:white;stroke-width:4\"/><line x1=\"421.22381619762865\" y1=\"314.7733015482967\" x2=\"423.1967973854757\" y2=\"315.1009373711269\" stroke-linecap=\"round\" style=\"stroke:white;stroke-width:4\"/><line x1=\"423.1967973854757\" y1=\"315.1009373711269\" x2=\"425.17869690901153\" y2=\"315.3694039027622\" stroke-linecap=\"round\" style=\"stroke:white;stroke-width:4\"/><line x1=\"425.17869690901153\" y1=\"315.3694039027622\" x2=\"427.1677406997481\" y2=\"315.5784608292975\" stroke-linecap=\"round\" style=\"stroke:white;stroke-width:4\"/><line x1=\"427.1677406997481\" y1=\"315.5784608292975\" x2=\"429.16214829411047\" y2=\"315.72792101647036\" stroke-linecap=\"round\" style=\"stroke:white;stroke-width:4\"/><line x1=\"429.16214829411047\" y1=\"315.72792101647036\" x2=\"431.1601344271931\" y2=\"315.8176506771714\" stroke-linecap=\"round\" style=\"stroke:white;stroke-width:4\"/><line x1=\"431.1601344271931\" y1=\"315.8176506771714\" x2=\"433.15991063081367\" y2=\"315.8475694912019\" stroke-linecap=\"round\" style=\"stroke:white;stroke-width:4\"/><line x1=\"433.15991063081367\" y1=\"315.8475694912019\" x2=\"435.15968683443424\" y2=\"315.81765067717134\" stroke-linecap=\"round\" style=\"stroke:white;stroke-width:4\"/><line x1=\"435.15968683443424\" y1=\"315.81765067717134\" x2=\"437.1576729675169\" y2=\"315.7279210164703\" stroke-linecap=\"round\" style=\"stroke:white;stroke-width:4\"/><line x1=\"437.1576729675169\" y1=\"315.7279210164703\" x2=\"439.15208056187925\" y2=\"315.57846082929746\" stroke-linecap=\"round\" style=\"stroke:white;stroke-width:4\"/><line x1=\"439.15208056187925\" y1=\"315.57846082929746\" x2=\"441.1411243526158\" y2=\"315.36940390276214\" stroke-linecap=\"round\" style=\"stroke:white;stroke-width:4\"/><line x1=\"441.1411243526158\" y1=\"315.36940390276214\" x2=\"443.12302387615165\" y2=\"315.1009373711268\" stroke-linecap=\"round\" style=\"stroke:white;stroke-width:4\"/><line x1=\"443.12302387615165\" y1=\"315.1009373711268\" x2=\"445.0960050639987\" y2=\"314.7733015482965\" stroke-linecap=\"round\" style=\"stroke:white;stroke-width:4\"/><line x1=\"445.0960050639987\" y1=\"314.7733015482965\" x2=\"447.05830183078706\" y2=\"314.38678971270537\" stroke-linecap=\"round\" style=\"stroke:white;stroke-width:4\"/><line x1=\"447.05830183078706\" y1=\"314.38678971270537\" x2=\"449.0081576551507\" y2=\"313.9417478447927\" stroke-linecap=\"round\" style=\"stroke:white;stroke-width:4\"/><line x1=\"449.0081576551507\" y1=\"313.9417478447927\" x2=\"450.943827152052\" y2=\"313.4385743173037\" stroke-linecap=\"round\" style=\"stroke:white;stroke-width:4\"/><line x1=\"450.943827152052\" y1=\"313.4385743173037\" x2=\"452.86357763513774\" y2=\"312.8777195386917\" stroke-linecap=\"round\" style=\"stroke:white;stroke-width:4\"/><line x1=\"452.86357763513774\" y1=\"312.8777195386917\" x2=\"454.76569066772805\" y2=\"312.25968554994176\" stroke-linecap=\"round\" style=\"stroke:white;stroke-width:4\"/><line x1=\"454.76569066772805\" y1=\"312.25968554994176\" x2=\"456.64846360104985\" y2=\"311.5850255751761\" stroke-linecap=\"round\" style=\"stroke:white;stroke-width:4\"/><line x1=\"456.64846360104985\" y1=\"311.5850255751761\" x2=\"458.51021109833823\" y2=\"310.85434352644324\" stroke-linecap=\"round\" style=\"stroke:white;stroke-width:4\"/><line x1=\"458.51021109833823\" y1=\"310.85434352644324\" x2=\"460.3492666434411\" y2=\"310.0682934631354\" stroke-linecap=\"round\" style=\"stroke:white;stroke-width:4\"/><line x1=\"460.3492666434411\" y1=\"310.0682934631354\" x2=\"462.1639840325768\" y2=\"309.22757900651624\" stroke-linecap=\"round\" style=\"stroke:white;stroke-width:4\"/><line x1=\"462.1639840325768\" y1=\"309.22757900651624\" x2=\"463.9527388479095\" y2=\"308.332952709885\" stroke-linecap=\"round\" style=\"stroke:white;stroke-width:4\"/><line x1=\"463.9527388479095\" y1=\"308.332952709885\" x2=\"465.7139299116229\" y2=\"307.385215384939\" stroke-linecap=\"round\" style=\"stroke:white;stroke-width:4\"/><line x1=\"465.7139299116229\" y1=\"307.385215384939\" x2=\"467.44598071919177\" y2=\"306.385215384939\" stroke-linecap=\"round\" style=\"stroke:white;stroke-width:4\"/><line x1=\"467.44598071919177\" y1=\"306.385215384939\" x2=\"469.1473408505664\" y2=\"305.33384784531796\" stroke-linecap=\"round\" style=\"stroke:white;stroke-width:4\"/><line x1=\"469.1473408505664\" y1=\"305.33384784531796\" x2=\"470.816487358009\" y2=\"304.23205388241377\" stroke-linecap=\"round\" style=\"stroke:white;stroke-width:4\"/><line x1=\"470.816487358009\" y1=\"304.23205388241377\" x2=\"472.45192612933783\" y2=\"303.0808197510424\" stroke-linecap=\"round\" style=\"stroke:white;stroke-width:4\"/><line x1=\"472.45192612933783\" y1=\"303.0808197510424\" x2=\"474.0521932253602\" y2=\"301.88117596166654\" stroke-linecap=\"round\" style=\"stroke:white;stroke-width:4\"/><line x1=\"474.0521932253602\" y1=\"301.88117596166654\" x2=\"475.61585619029626\" y2=\"300.63419635794907\" stroke-linecap=\"round\" style=\"stroke:white;stroke-width:4\"/><line x1=\"475.61585619029626\" y1=\"300.63419635794907\" x2=\"477.14151533402077\" y2=\"299.34099715551747\" stroke-linecap=\"round\" style=\"stroke:white;stroke-width:4\"/><line x1=\"477.14151533402077\" y1=\"299.34099715551747\" x2=\"478.6278049849755\" y2=\"298.00273594279975\" stroke-linecap=\"round\" style=\"stroke:white;stroke-width:4\"/><line x1=\"478.6278049849755\" y1=\"298.00273594279975\" x2=\"480.07339471263026\" y2=\"296.620610644826\" stroke-linecap=\"round\" style=\"stroke:white;stroke-width:4\"/><line x1=\"480.07339471263026\" y1=\"296.620610644826\" x2=\"481.4769905183982\" y2=\"295.1958584509233\" stroke-linecap=\"round\" style=\"stroke:white;stroke-width:4\"/><line x1=\"481.4769905183982\" y1=\"295.1958584509233\" x2=\"482.83733599394003\" y2=\"293.7297547072636\" stroke-linecap=\"round\" style=\"stroke:white;stroke-width:4\"/><line x1=\"482.83733599394003\" y1=\"293.7297547072636\" x2=\"484.15321344581946\" y2=\"292.22361177525636\" stroke-linecap=\"round\" style=\"stroke:white;stroke-width:4\"/><line x1=\"484.15321344581946\" y1=\"292.22361177525636\" x2=\"485.4234449855038\" y2=\"290.67877785680713\" stroke-linecap=\"round\" style=\"stroke:white;stroke-width:4\"/><line x1=\"485.4234449855038\" y1=\"290.67877785680713\" x2=\"486.6468935837338\" y2=\"289.09663578749445\" stroke-linecap=\"round\" style=\"stroke:white;stroke-width:4\"/><line x1=\"486.6468935837338\" y1=\"289.09663578749445\" x2=\"487.8224640883187\" y2=\"287.47860179874453\" stroke-linecap=\"round\" style=\"stroke:white;stroke-width:4\"/><line x1=\"487.8224640883187\" y1=\"287.47860179874453\" x2=\"488.949104204446\" y2=\"285.8261242501125\" stroke-linecap=\"round\" style=\"stroke:white;stroke-width:4\"/><line x1=\"488.949104204446\" y1=\"285.8261242501125\" x2=\"490.0258054366273\" y2=\"284.14068233280443\" stroke-linecap=\"round\" style=\"stroke:white;stroke-width:4\"/><line x1=\"490.0258054366273\" y1=\"284.14068233280443\" x2=\"491.0516039914391\" y2=\"282.4237847456007\" stroke-linecap=\"round\" style=\"stroke:white;stroke-width:4\"/><line x1=\"491.0516039914391\" y1=\"282.4237847456007\" x2=\"492.0255816402478\" y2=\"280.6769683443664\" stroke-linecap=\"round\" style=\"stroke:white;stroke-width:4\"/><line x1=\"492.0255816402478\" y1=\"280.6769683443664\" x2=\"492.94686654114906\" y2=\"278.9017967663573\" stroke-linecap=\"round\" style=\"stroke:white;stroke-width:4\"/><line x1=\"492.94686654114906\" y1=\"278.9017967663573\" x2=\"493.81463401938413\" y2=\"277.0998590305524\" stroke-linecap=\"round\" style=\"stroke:white;stroke-width:4\"/><line x1=\"493.81463401938413\" y1=\"277.0998590305524\" x2=\"494.6281073055357\" y2=\"275.2727681152672\" stroke-linecap=\"round\" style=\"stroke:white;stroke-width:4\"/><line x1=\"494.6281073055357\" y1=\"275.2727681152672\" x2=\"495.38655823084156\" y2=\"273.42215951431916\" stroke-linecap=\"round\" style=\"stroke:white;stroke-width:4\"/><line x1=\"495.38655823084156\" y1=\"273.42215951431916\" x2=\"496.0893078790042\" y2=\"271.5496897730397\" stroke-linecap=\"round\" style=\"stroke:white;stroke-width:4\"/><line x1=\"496.0893078790042\" y1=\"271.5496897730397\" x2=\"496.7357271939131\" y2=\"269.65703500544134\" stroke-linecap=\"round\" style=\"stroke:white;stroke-width:4\"/><line x1=\"496.7357271939131\" y1=\"269.65703500544134\" x2=\"497.32523754273484\" y2=\"267.74588939386905\" stroke-linecap=\"round\" style=\"stroke:white;stroke-width:4\"/><line x1=\"497.32523754273484\" y1=\"267.74588939386905\" x2=\"497.8573112338682\" y2=\"265.81796367247733\" stroke-linecap=\"round\" style=\"stroke:white;stroke-width:4\"/><line x1=\"497.8573112338682\" y1=\"265.81796367247733\" x2=\"498.33147198929913\" y2=\"263.8749835958916\" stroke-linecap=\"round\" style=\"stroke:white;stroke-width:4\"/><line x1=\"498.33147198929913\" y1=\"263.8749835958916\" x2=\"498.74729537093464\" y2=\"261.91868839442395\" stroke-linecap=\"round\" style=\"stroke:white;stroke-width:4\"/><line x1=\"498.74729537093464\" y1=\"261.91868839442395\" x2=\"499.1044091605319\" y2=\"259.95082921722667\" stroke-linecap=\"round\" style=\"stroke:white;stroke-width:4\"/><line x1=\"499.1044091605319\" y1=\"259.95082921722667\" x2=\"499.4024936928842\" y2=\"257.9731675647764\" stroke-linecap=\"round\" style=\"stroke:white;stroke-width:4\"/><line x1=\"499.4024936928842\" y1=\"257.9731675647764\" x2=\"499.64128214196467\" y2=\"255.98747371209274\" stroke-linecap=\"round\" style=\"stroke:white;stroke-width:4\"/><line x1=\"499.64128214196467\" y1=\"255.98747371209274\" x2=\"499.8205607597715\" y2=\"253.99552512410224\" stroke-linecap=\"round\" style=\"stroke:white;stroke-width:4\"/><line x1=\"499.8205607597715\" y1=\"253.99552512410224\" x2=\"499.94016906766154\" y2=\"251.99910486456676\" stroke-linecap=\"round\" style=\"stroke:white;stroke-width:4\"/><line x1=\"499.94016906766154\" y1=\"251.99910486456676\" x2=\"500.0000000000003\" y2=\"249.99999999999974\" stroke-linecap=\"round\" style=\"stroke:white;stroke-width:4\"/>\n",
              "        \n",
              "      <g visibility=visible transform=\"rotate(179.9999999999991,500.0000000000003,249.99999999999974) translate(500.0000000000003, 249.99999999999974)\">\n",
              "        <circle stroke=\"white\" stroke-width=\"3\" fill=\"transparent\" r=\"12\" cx=\"0\" cy=\"0\"/>\n",
              "        <polygon points=\"0,19 3,16 -3,16\" style=\"fill:white;stroke:white;stroke-width:2\"/>\n",
              "      </g>\n",
              "    \n",
              "      </svg>\n",
              "    "
            ],
            "text/plain": [
              "<IPython.core.display.HTML object>"
            ]
          },
          "metadata": {
            "tags": []
          }
        }
      ]
    }
  ]
}