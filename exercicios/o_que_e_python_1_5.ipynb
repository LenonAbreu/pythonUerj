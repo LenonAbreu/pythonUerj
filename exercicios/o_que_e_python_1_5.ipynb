{
  "nbformat": 4,
  "nbformat_minor": 0,
  "metadata": {
    "colab": {
      "name": "o_que_e_python_1_5.ipynb",
      "provenance": [],
      "collapsed_sections": [],
      "authorship_tag": "ABX9TyMKjsFYj9BeN4rR2/R2UU0J",
      "include_colab_link": true
    },
    "kernelspec": {
      "name": "python3",
      "display_name": "Python 3"
    }
  },
  "cells": [
    {
      "cell_type": "markdown",
      "metadata": {
        "id": "view-in-github",
        "colab_type": "text"
      },
      "source": [
        "<a href=\"https://colab.research.google.com/github/LenonAbreu/pythonUerj/blob/master/exercicios/o_que_e_python_1_5.ipynb\" target=\"_parent\"><img src=\"https://colab.research.google.com/assets/colab-badge.svg\" alt=\"Open In Colab\"/></a>"
      ]
    },
    {
      "cell_type": "markdown",
      "metadata": {
        "id": "_zk_m8-xeVqz",
        "colab_type": "text"
      },
      "source": [
        "Calcule o seu %$IMC = \\dfrac{M}{A^2}$% (com a massa em Kg e a altura em metros). Um valor saudável estara --em geral-- entre 20-25. Um bebê de 6 meses \"gorducho\" tem 70 cm de \"comprimento\" e 11 kg de massa, qual o IMC dele?"
      ]
    },
    {
      "cell_type": "code",
      "metadata": {
        "id": "6EV2ghe4ePym",
        "colab_type": "code",
        "colab": {
          "base_uri": "https://localhost:8080/",
          "height": 51
        },
        "outputId": "046dbe86-331a-46fa-9db5-077fe1e10cb9"
      },
      "source": [
        "#declarando variaveis\n",
        "altura = 1.7 \n",
        "massa = 60\n",
        "imc = massa / (altura**2) \n",
        "print(imc) #meu IMC\n",
        "massa_b = 11\n",
        "altura_b = 0.7\n",
        "imcb = massa_b / (altura_b**2)\n",
        "print(imcb) #imc do bebê"
      ],
      "execution_count": 2,
      "outputs": [
        {
          "output_type": "stream",
          "text": [
            "20.761245674740486\n",
            "22.44897959183674\n"
          ],
          "name": "stdout"
        }
      ]
    }
  ]
}