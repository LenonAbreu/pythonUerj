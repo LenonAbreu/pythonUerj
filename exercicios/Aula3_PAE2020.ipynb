{
  "nbformat": 4,
  "nbformat_minor": 0,
  "metadata": {
    "colab": {
      "name": "Aula3_PAE2020.ipynb",
      "provenance": [],
      "authorship_tag": "ABX9TyN9WHnvek5Vt+cJbFKIY1s5",
      "include_colab_link": true
    },
    "kernelspec": {
      "name": "python3",
      "display_name": "Python 3"
    }
  },
  "cells": [
    {
      "cell_type": "markdown",
      "metadata": {
        "id": "view-in-github",
        "colab_type": "text"
      },
      "source": [
        "<a href=\"https://colab.research.google.com/github/LenonAbreu/pythonUerj/blob/master/exercicios/Aula3_PAE2020.ipynb\" target=\"_parent\"><img src=\"https://colab.research.google.com/assets/colab-badge.svg\" alt=\"Open In Colab\"/></a>"
      ]
    },
    {
      "cell_type": "markdown",
      "metadata": {
        "id": "bbPmW5F4rpfg"
      },
      "source": [
        "1 - Crie uma funcão que tome um argumento e imprima o valor e o tipo dele."
      ]
    },
    {
      "cell_type": "code",
      "metadata": {
        "colab": {
          "base_uri": "https://localhost:8080/"
        },
        "id": "U4onMpJKro56",
        "outputId": "611ad913-b294-4138-efb0-de0e0bbe9ba3"
      },
      "source": [
        "def fun(argumento):\n",
        "    print(argumento, type(argumento))\n",
        "    \n",
        "fun(input())    "
      ],
      "execution_count": 2,
      "outputs": [
        {
          "output_type": "stream",
          "text": [
            "2\n",
            "2 <class 'str'>\n"
          ],
          "name": "stdout"
        }
      ]
    },
    {
      "cell_type": "markdown",
      "metadata": {
        "id": "z5dYuMT0rvW4"
      },
      "source": [
        "2 - Crie uma função que calcule e imprima velocidade media de um objeto a partir de uma posição inicial, a final e o tempo transcorrido para um objeto em MRU. Também crie uma funcão que calcule e imprima a velocidade de um objeto a partir da aceleração constante e o tempo (MRUA) (p.ex. queda libre).\n"
      ]
    },
    {
      "cell_type": "code",
      "metadata": {
        "colab": {
          "base_uri": "https://localhost:8080/"
        },
        "id": "phBO_X9brRjb",
        "outputId": "1cc87479-a9a1-4310-8507-6131417ea44c"
      },
      "source": [
        "def v_mru():\n",
        "    print(\"posição inicial em metros\")\n",
        "    pos_i = float (input())\n",
        "    print(\"posição final em metros\")\n",
        "    pos_f = float (input())\n",
        "    print(\"tempo percorrido em segundo\")\n",
        "    tempo = float (input())\n",
        "    velocidade = (pos_f - pos_i) / tempo\n",
        "    print(\"a velocidade média é\",velocidade,\"m/s\")\n",
        "def v_mrua():\n",
        "    print(\"velocidade incial em metros/segundo\")\n",
        "    vel_i = float (input())\n",
        "    print(\"aceleração do objeto em mestros/segundo^2\")\n",
        "    acel = float (input())\n",
        "    print(\"tempo percorrido em segundo\")\n",
        "    tempo = float (input())\n",
        "    velocidade = vel_i + (acel * tempo)\n",
        "    print(\"a velocidade média é\",velocidade,\"m/s\")\n",
        "print(v_mru())\n",
        "print(v_mrua())"
      ],
      "execution_count": 3,
      "outputs": [
        {
          "output_type": "stream",
          "text": [
            "posição inicial em metros\n",
            "2\n",
            "posição final em metros\n",
            "3\n",
            "tempo percorrido em segundo\n",
            "4\n",
            "a velocidade média é 0.25 m/s\n",
            "None\n",
            "velocidade incial em metros/segundo\n",
            "5\n",
            "aceleração do objeto em mestros/segundo^2\n",
            "2\n",
            "tempo percorrido em segundo\n",
            "3\n",
            "a velocidade média é 11.0 m/s\n",
            "None\n"
          ],
          "name": "stdout"
        }
      ]
    },
    {
      "cell_type": "markdown",
      "metadata": {
        "id": "6OFmJL2LsCBf"
      },
      "source": [
        "3 - Crie uma funcão para calcular o ángulo zenital do sol (da semana passada) tomando como argumento as medidas da altura e o comprimento da sombra."
      ]
    },
    {
      "cell_type": "code",
      "metadata": {
        "colab": {
          "base_uri": "https://localhost:8080/"
        },
        "id": "Gh2JukvUsDT_",
        "outputId": "1d757868-9fab-4059-c258-99b32e02cec1"
      },
      "source": [
        "def zenital():\n",
        "    import math\n",
        "    print(\"altura do poste\")\n",
        "    alt_p = float (input())\n",
        "    print(\"tamanho da sombra\")\n",
        "    tam_s = float (input())\n",
        "    tg = math.atan(tam_s/alt_p)\n",
        "    return tg\n",
        "    \n",
        "    \n",
        "x = zenital()\n",
        "print(x, \"radianos\")"
      ],
      "execution_count": 4,
      "outputs": [
        {
          "output_type": "stream",
          "text": [
            "altura do poste\n",
            "2\n",
            "tamanho da sombra\n",
            "1\n",
            "0.4636476090008061 radianos\n"
          ],
          "name": "stdout"
        }
      ]
    },
    {
      "cell_type": "markdown",
      "metadata": {
        "id": "dFCPQbxesM0N"
      },
      "source": [
        "4 - Crie uma função que faça a conversão de uma medida inicialmente em milhas para m, e outra para o inverso; uma de horas para segundos, e o inverso. Utilize estas funções para resolver novamente o primeiro exercício da semana passada (da corrida). Se uma pessoa demora 30 minutos em 4 milhas, qual velocidade media em km/h ? e o tempo medio por kilometro?\n"
      ]
    },
    {
      "cell_type": "code",
      "metadata": {
        "colab": {
          "base_uri": "https://localhost:8080/"
        },
        "id": "93te6_4wsOVV",
        "outputId": "4b379630-0d70-472d-afce-c102cde7bcc4"
      },
      "source": [
        "def conv_k_m(km): #função para converter km em milhas\n",
        "  milhas = km /1.60934\n",
        "  return milhas\n",
        "\n",
        "def conv_m_k(milhas): #função para converter milhas em km\n",
        "  km = milhas * 1.60934\n",
        "  return km\n",
        "print(\"digite a distancia percorrida em milhas depois o tempo em horas\")\n",
        "mil = float (input())\n",
        "hor = float (input())\n",
        "vel_m = mil/hor\n",
        "vel_km = conv_m_k(mil)/hor #converte milhas me km e depois calcula velocidade\n",
        "\n",
        "print(f'a velocidade é {vel_m:.2f} Milhas/hora')\n",
        "print(f'a velocidade é {vel_km:.2f} Km/h')"
      ],
      "execution_count": 5,
      "outputs": [
        {
          "output_type": "stream",
          "text": [
            "digite a distancia percorrida em milhas depois o tempo em horas\n",
            "4\n",
            "0.5\n",
            "a velocidade é 8.00 Milhas/hora\n",
            "a velocidade é 12.87 Km/h\n"
          ],
          "name": "stdout"
        }
      ]
    }
  ]
}