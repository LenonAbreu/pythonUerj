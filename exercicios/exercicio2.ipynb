{
  "nbformat": 4,
  "nbformat_minor": 0,
  "metadata": {
    "colab": {
      "name": "exercicio2.ipynb",
      "provenance": [],
      "authorship_tag": "ABX9TyNllSZ8dkwHt1XtazlniBzY",
      "include_colab_link": true
    },
    "kernelspec": {
      "name": "python3",
      "display_name": "Python 3"
    }
  },
  "cells": [
    {
      "cell_type": "markdown",
      "metadata": {
        "id": "view-in-github",
        "colab_type": "text"
      },
      "source": [
        "<a href=\"https://colab.research.google.com/github/LenonAbreu/pythonUerj/blob/master/exercicios/exercicio2.ipynb\" target=\"_parent\"><img src=\"https://colab.research.google.com/assets/colab-badge.svg\" alt=\"Open In Colab\"/></a>"
      ]
    },
    {
      "cell_type": "markdown",
      "metadata": {
        "id": "qh92PNAeTYd7",
        "colab_type": "text"
      },
      "source": [
        "Desde sua varanda você escuta o som do primeiro fogo artificial do reveillon 3 segundos depois de ver a luz, qual a distância? (o som tem velocidade 343 m/s e a luz 3 * 10^8 m/s)."
      ]
    },
    {
      "cell_type": "code",
      "metadata": {
        "id": "vkIaBrNNSe1_",
        "colab_type": "code",
        "colab": {
          "base_uri": "https://localhost:8080/",
          "height": 50
        },
        "outputId": "639d9c44-a404-4a7e-eaf8-a1a6f0659eea"
      },
      "source": [
        "#considerando o inicio do evento o momento onde o observador ver a luz considerando que c >> que a velocidade do som\n",
        "#vamos calcular a distancia média a partir no momento que o obervador enxerga o clarão com uma equação horaria\n",
        "velocidade_som = 343\n",
        "c = 3 * 10 ** 8\n",
        "tempo = 3\n",
        "distancia = velocidade_som * tempo\n",
        "print(\"A distancia do obervador até os fogos\",distancia, \"metros\")\n",
        "#como objeto de comparação vamos mostrar o tempo que a luz demoraria para chegar a partir dessa distancia\n",
        "tempo_luz = distancia / c\n",
        "print(\"Tempo que a luz demorou\", tempo_luz, \"segundos\")"
      ],
      "execution_count": 4,
      "outputs": [
        {
          "output_type": "stream",
          "text": [
            "A distancia do obervador até os fogos 1029 metros\n",
            "Tempo que a luz demorou 3.43e-06 segundos\n"
          ],
          "name": "stdout"
        }
      ]
    },
    {
      "cell_type": "code",
      "metadata": {
        "id": "9BMt4B33TXYg",
        "colab_type": "code",
        "colab": {}
      },
      "source": [
        ""
      ],
      "execution_count": null,
      "outputs": []
    }
  ]
}