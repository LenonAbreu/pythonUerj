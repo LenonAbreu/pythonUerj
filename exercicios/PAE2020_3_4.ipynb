{
  "nbformat": 4,
  "nbformat_minor": 0,
  "metadata": {
    "colab": {
      "name": "PAE2020_3_4.ipynb",
      "provenance": [],
      "collapsed_sections": [],
      "authorship_tag": "ABX9TyMlel/OVihQondS33P7fLgP",
      "include_colab_link": true
    },
    "kernelspec": {
      "name": "python3",
      "display_name": "Python 3"
    }
  },
  "cells": [
    {
      "cell_type": "markdown",
      "metadata": {
        "id": "view-in-github",
        "colab_type": "text"
      },
      "source": [
        "<a href=\"https://colab.research.google.com/github/LenonAbreu/pythonUerj/blob/master/exercicios/PAE2020_3_4.ipynb\" target=\"_parent\"><img src=\"https://colab.research.google.com/assets/colab-badge.svg\" alt=\"Open In Colab\"/></a>"
      ]
    },
    {
      "cell_type": "markdown",
      "metadata": {
        "id": "qcfxWRXzGbR3"
      },
      "source": [
        "Crie uma função que faça a conversão de uma medida inicialmente em milhas para m, e outra para o inverso; uma de horas para segundos, e o inverso. Utilize estas funções para resolver novamente o primeiro exercício da semana passada (da corrida). Se uma pessoa demora 30 minutos em 4 milhas, qual velocidade media em km/h ? e o tempo medio por kilometro?\n"
      ]
    },
    {
      "cell_type": "code",
      "metadata": {
        "id": "MsiNwuhXF_ZW",
        "outputId": "e354110f-3d13-4ab5-ea3a-abd92c864c1e",
        "colab": {
          "base_uri": "https://localhost:8080/",
          "height": 102
        }
      },
      "source": [
        "def conv_k_m(km): #função para converter km em milhas\n",
        "  milhas = km /1.60934\n",
        "  return milhas\n",
        "\n",
        "def conv_m_k(milhas): #função para converter milhas em km\n",
        "  km = milhas * 1.60934\n",
        "  return km\n",
        "print(\"digite a distancia percorrida em milhas depois o tempo em horas\")\n",
        "mil = float (input())\n",
        "hor = float (input())\n",
        "vel_m = mil/hor\n",
        "vel_km = conv_m_k(mil)/hor #converte milhas me km e depois calcula velocidade\n",
        "\n",
        "print(f'a velocidade é {vel_m:.2f} Milhas/hora')\n",
        "print(f'a velocidade é {vel_km:.2f} Km/h')"
      ],
      "execution_count": 19,
      "outputs": [
        {
          "output_type": "stream",
          "text": [
            "digite a distancia percorrida em milhas depois o tempo em horas\n",
            "4\n",
            "0.5\n",
            "a velocidade é 8.00 Milhas/hora\n",
            "a velocidade é 12.87 Km/h\n"
          ],
          "name": "stdout"
        }
      ]
    }
  ]
}