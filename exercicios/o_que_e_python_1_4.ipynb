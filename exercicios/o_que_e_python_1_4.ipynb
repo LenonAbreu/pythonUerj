{
  "nbformat": 4,
  "nbformat_minor": 0,
  "metadata": {
    "colab": {
      "name": "o_que_e_python_1_4.ipynb",
      "provenance": [],
      "collapsed_sections": [],
      "authorship_tag": "ABX9TyMPAbf2EqK9wQobM8dAgg+m",
      "include_colab_link": true
    },
    "kernelspec": {
      "name": "python3",
      "display_name": "Python 3"
    }
  },
  "cells": [
    {
      "cell_type": "markdown",
      "metadata": {
        "id": "view-in-github",
        "colab_type": "text"
      },
      "source": [
        "<a href=\"https://colab.research.google.com/github/LenonAbreu/pythonUerj/blob/master/exercicios/o_que_e_python_1_4.ipynb\" target=\"_parent\"><img src=\"https://colab.research.google.com/assets/colab-badge.svg\" alt=\"Open In Colab\"/></a>"
      ]
    },
    {
      "cell_type": "markdown",
      "metadata": {
        "id": "HeW2Vv3IuDIo",
        "colab_type": "text"
      },
      "source": [
        "Se, ao meiodia, a sombra de um poste de 5 m de altura tem apenas 50 cm de comprimento no chão, qual o ângulo zenital do sol? "
      ]
    },
    {
      "cell_type": "code",
      "metadata": {
        "id": "WaO_Lq8XuBAx",
        "colab_type": "code",
        "colab": {
          "base_uri": "https://localhost:8080/",
          "height": 50
        },
        "outputId": "86b32ba6-5730-4ecd-d6d2-432b26ce50b7"
      },
      "source": [
        "import numpy as np\n",
        "# projetando a sombra no chão e considerando que o sol está tão distante da terra que seus raios chegam de forma pararela a mesma, podemos então projetar um triangulo retangulo\n",
        "#onde o angulo entre o cateto adjacente e a hiptenusa é o mesmo angulo de zenital do sol\n",
        "#o cateto adjacente será o poste de comprimento 5 metros e o oposto a sombra de comprimento 0,5m\n",
        "adj = 5\n",
        "op = 0.5\n",
        "#buscando uma função em uma biblioteca para determinar esse arco, é conviniente se utilziar do numpy\n",
        "\n",
        "zenital = np.arctan(op/adj)\n",
        "print(zenital,\"rads\")\n",
        "grau = (360 * zenital) / (2 * 3.1415) #o resultado dessa operação é dada em rad, então vamos converter para graus\n",
        "print(grau,\"graus\")"
      ],
      "execution_count": null,
      "outputs": [
        {
          "output_type": "stream",
          "text": [
            "0.09966865249116204\n"
          ],
          "name": "stdout"
        },
        {
          "output_type": "execute_result",
          "data": {
            "text/plain": [
              "5.7107615624412436"
            ]
          },
          "metadata": {
            "tags": []
          },
          "execution_count": 10
        }
      ]
    }
  ]
}