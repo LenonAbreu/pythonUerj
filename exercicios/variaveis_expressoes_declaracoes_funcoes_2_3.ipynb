{
  "nbformat": 4,
  "nbformat_minor": 0,
  "metadata": {
    "colab": {
      "name": "variaveis_expressoes_declaracoes_funcoes_2_3.ipynb",
      "provenance": [],
      "collapsed_sections": [],
      "authorship_tag": "ABX9TyN1OebzhJ4YzaOz/6bjzr8y",
      "include_colab_link": true
    },
    "kernelspec": {
      "name": "python3",
      "display_name": "Python 3"
    }
  },
  "cells": [
    {
      "cell_type": "markdown",
      "metadata": {
        "id": "view-in-github",
        "colab_type": "text"
      },
      "source": [
        "<a href=\"https://colab.research.google.com/github/LenonAbreu/pythonUerj/blob/master/exercicios/variaveis_expressoes_declaracoes_funcoes_2_3.ipynb\" target=\"_parent\"><img src=\"https://colab.research.google.com/assets/colab-badge.svg\" alt=\"Open In Colab\"/></a>"
      ]
    },
    {
      "cell_type": "markdown",
      "metadata": {
        "id": "rO_pljB4U74h",
        "colab_type": "text"
      },
      "source": [
        "Suponha que o preço de um livro seja 24.95 reais, porém as livrarias têm desconto de 40%. Os custos de envio são de 3.00 reais para o primeiro livro e 0.75 reais para os livros adicionais. Qual é o custo total da compra de 60 livros?"
      ]
    },
    {
      "cell_type": "code",
      "metadata": {
        "id": "yHh6BxvnUt9X",
        "colab_type": "code",
        "colab": {
          "base_uri": "https://localhost:8080/",
          "height": 34
        },
        "outputId": "fe693033-dafe-4f35-b7bc-b09a8169f8c2"
      },
      "source": [
        "livros = 60 #número de livros\n",
        "valor_l= livros * 24.95 * 0.6 #equação do valor dos livros com desconto de 40%\n",
        "valor = round(valor_l,2) # transformar em 2 casas decimais \n",
        "frete = (livros - 1) * 0.75 + 3 #valor do frete, considerando o primeiro livro como 3 reais e o adicional 75 centavos.\n",
        "valor_t = valor + frete\n",
        "print(\"o valor dos livros é\",valor,\"reais\",\"com frete a\",frete,\"reais\",\"num total de\",valor_t,\"reais\")"
      ],
      "execution_count": 8,
      "outputs": [
        {
          "output_type": "stream",
          "text": [
            "o valor dos livros é 898.2 reais com frete a 47.25 reais num total de 945.45 reais\n"
          ],
          "name": "stdout"
        }
      ]
    }
  ]
}