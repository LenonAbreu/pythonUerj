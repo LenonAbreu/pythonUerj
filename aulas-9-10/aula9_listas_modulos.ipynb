{
  "nbformat": 4,
  "nbformat_minor": 0,
  "metadata": {
    "colab": {
      "name": "aula9_listas_modulos.ipynb",
      "provenance": [],
      "collapsed_sections": [],
      "authorship_tag": "ABX9TyO0heYcWOQr+3j85UPttHv2",
      "include_colab_link": true
    },
    "kernelspec": {
      "name": "python3",
      "display_name": "Python 3"
    }
  },
  "cells": [
    {
      "cell_type": "markdown",
      "metadata": {
        "id": "view-in-github",
        "colab_type": "text"
      },
      "source": [
        "<a href=\"https://colab.research.google.com/github/LenonAbreu/pythonUerj/blob/master/aulas-9-10/aula9_listas_modulos.ipynb\" target=\"_parent\"><img src=\"https://colab.research.google.com/assets/colab-badge.svg\" alt=\"Open In Colab\"/></a>"
      ]
    },
    {
      "cell_type": "markdown",
      "metadata": {
        "id": "XcE6DTBf_mwQ"
      },
      "source": [
        "## Exercícios\n",
        "\n",
        "1) Considere a função abaixo. Esse tipo de função é considerada uma **função modificadora** pois modifica o objeto que é passado como argumento. "
      ]
    },
    {
      "cell_type": "code",
      "metadata": {
        "id": "PrxN1w4h_lBI"
      },
      "source": [
        "def dobrar_elementos(uma_lista):\n",
        "    \"\"\" Reescreve os elementos de uma_lista com o dobro de seus valores originais.\n",
        "    \"\"\"\n",
        "    for (i, valor) in enumerate(uma_lista):\n",
        "        novo_elem = 2 * valor\n",
        "        uma_lista[i] = novo_elem\n",
        "\n",
        "    return uma_lista\n",
        "\n",
        "minha_lista = [2, 4, 6]\n",
        "print(minha_lista)\n",
        "dobrar_elementos(minha_lista)\n",
        "print(minha_lista)"
      ],
      "execution_count": null,
      "outputs": []
    },
    {
      "cell_type": "code",
      "metadata": {
        "id": "ZFVEUUv38jAu"
      },
      "source": [
        ""
      ],
      "execution_count": null,
      "outputs": []
    },
    {
      "cell_type": "markdown",
      "metadata": {
        "id": "EY7BsdyP_yUA"
      },
      "source": [
        "a) Modifique a função para retornar uma **nova lista**, sem modificar a lista usada como parâmetro. Esse tipo de função é chamado de **função pura**.\n",
        "\n",
        "\n",
        "b) Modifique a documentação de ajuda da nova função, de tal forma que quando se chame a função ***help*** da nova função, se obtenha a descrição adequada."
      ]
    },
    {
      "cell_type": "code",
      "metadata": {
        "id": "M4ogtF-D_4Vv",
        "outputId": "e5481325-37f5-4811-f531-08784cdd0e6e",
        "colab": {
          "base_uri": "https://localhost:8080/"
        }
      },
      "source": [
        "def dobrar_elementos(uma_lista):\n",
        "    \"\"\" Cria uma nova lista com os elementos de uma_lista com o dobro de seus valores originais. \n",
        "    \"\"\"\n",
        "    lista_nova = uma_lista\n",
        "    for (i, valor) in enumerate(lista_nova):\n",
        "        novo_elem = 2 * valor\n",
        "        lista_nova[i] = novo_elem\n",
        "\n",
        "    return uma_lista\n",
        "\n",
        "minha_lista = [2, 4, 6]\n",
        "\n",
        "\n",
        "print(minha_lista)\n",
        "print(dobrar_elementos(minha_lista))"
      ],
      "execution_count": null,
      "outputs": [
        {
          "output_type": "stream",
          "text": [
            "[2, 4, 6]\n",
            "[4, 8, 12]\n"
          ],
          "name": "stdout"
        }
      ]
    },
    {
      "cell_type": "markdown",
      "metadata": {
        "id": "nMx84YedArF7"
      },
      "source": [
        "## Exercícios:\n",
        "\n",
        "1) Utilizando um arquivo de dados com várias colunas (por exemplo, o arquivo ```dados_alunos.txt```), faça um histograma com os dados de cada uma das colunas. **Dica**: utilize o ***matplotlib*** para fazer os histogramas.\n",
        "\n"
      ]
    },
    {
      "cell_type": "code",
      "metadata": {
        "id": "5SP7o_u1CRxi",
        "outputId": "32c097f2-b24d-4266-b10b-5167059924ae",
        "colab": {
          "base_uri": "https://localhost:8080/"
        }
      },
      "source": [
        "%%writefile dados_alunos_cabecalho.csv\n",
        "idades\talturas\tpesos\n",
        "18\t1.68\t80\n",
        "18\t1.94\t60\n",
        "18\t1.7\t80\n",
        "18\t1.76\t66\n",
        "19\t1.73\t87.5\n",
        "18\t1.66\t58\n",
        "21\t1.8\t92\n",
        "18\t1.6\t57\n",
        "18\t1.67\t64\n",
        "18\t1.73\t57\n",
        "17\t1.73\t75\n",
        "18\t1.61\t59\n",
        "18\t1.69\t90\n",
        "17\t1.71\t67\n",
        "19\t1.78\t60\n",
        "22\t1.68\t72\n",
        "18\t1.7\t73\n",
        "19\t1.64\t86\n",
        "18\t1.64\t75\n",
        "20\t1.8\t95\n",
        "17\t1.75\t60\n",
        "18\t1.78\t75\n",
        "18\t1.75\t65\n",
        "17\t1.69\t60\n",
        "19\t1.78\t73\n",
        "18\t1.7\t63\n",
        "34\t1.75\t78\n",
        "18\t1.64\t64\n",
        "19\t1.75\t50\n",
        "18\t1.67\t61\n",
        "18\t1.7\t70\n",
        "20\t1.8\t60\n",
        "18\t1.63\t57\n",
        "23\t1.89\t110\n",
        "18\t1.71\t71\n",
        "18\t1.65\t65\n",
        "17\t1.72\t67\n",
        "19\t1.65\t58\n",
        "18\t1.75\t90\n",
        "18\t1.7\t64\n",
        "19\t1.81\t70\n",
        "19\t1.65\t43\n",
        "28\t1.52\t50\n",
        "19\t1.79\t78\n",
        "26\t1.79\t82\n",
        "19\t1.75\t61\n",
        "19\t1.8\t70\n",
        "20\t1.75\t70\n",
        "20\t1.73\t70\n",
        "19\t1.7\t50\n",
        "22\t1.78\t72\n",
        "19\t1.77\t55\n",
        "18\t1.53\t58\n",
        "28\t1.54\t50\n",
        "20\t1.83\t70\n",
        "44\t1.85\t90\n",
        "18\t1.6\t51"
      ],
      "execution_count": 63,
      "outputs": [
        {
          "output_type": "stream",
          "text": [
            "Overwriting dados_alunos_cabecalho.csv\n"
          ],
          "name": "stdout"
        }
      ]
    },
    {
      "cell_type": "code",
      "metadata": {
        "id": "e3AbBuulDBrP",
        "outputId": "e4b92962-185c-415a-c462-d4b330091857",
        "colab": {
          "base_uri": "https://localhost:8080/",
          "height": 803
        }
      },
      "source": [
        "import numpy as np\n",
        "import matplotlib.mlab as mlab\n",
        "import matplotlib.pyplot as plt\n",
        "x = []\n",
        "y = []\n",
        "z = []\n",
        "idades = []\n",
        "pesos = []\n",
        "alturas = []\n",
        "dados_peso = []\n",
        "dados_idade = []\n",
        "arq = open('dados_alunos_cabecalho.csv')\n",
        "for line in arq: #separando os dados em listas, cada lista contém uma coluna do arquivo\n",
        "  line = line.strip()\n",
        "  X , Y, Z= line.split('\t')\n",
        "  x.append(X) \n",
        "  y.append(Y)\n",
        "  z.append(Z)\n",
        "\n",
        "for i in range(1,len(x)): #transformando os itens das de strings para floats para realizar o histograma\n",
        "  idades.append(float(x[i]))\n",
        "  alturas.append(float(y[i]))\n",
        "  pesos.append(float(z[i]))\n",
        "\n",
        "sequencia = [idades, pesos, alturas] #var auxiliar para a impressão dos histogramas\n",
        "nomes = ['anos', 'Kg', 'metros']\n",
        "\n",
        "for i in range(0,len(sequencia)):\n",
        "  num_bins = 40\n",
        "  plt.xlabel(nomes[i])\n",
        "  plt.ylabel('Número de ocorrencias')\n",
        "  n, bins, patches = plt.hist(sequencia[i], num_bins, facecolor='blue', alpha=0.5)\n",
        "  plt.show()\n"
      ],
      "execution_count": null,
      "outputs": [
        {
          "output_type": "display_data",
          "data": {
            "image/png": "[encoded data removed]",
            "text/plain": [
              "<Figure size 432x288 with 1 Axes>"
            ]
          },
          "metadata": {
            "tags": [],
            "needs_background": "light"
          }
        },
        {
          "output_type": "display_data",
          "data": {
            "image/png": "[encoded data removed]",
            "text/plain": [
              "<Figure size 432x288 with 1 Axes>"
            ]
          },
          "metadata": {
            "tags": [],
            "needs_background": "light"
          }
        },
        {
          "output_type": "display_data",
          "data": {
            "image/png": "[encoded data removed]",
            "text/plain": [
              "<Figure size 432x288 with 1 Axes>"
            ]
          },
          "metadata": {
            "tags": [],
            "needs_background": "light"
          }
        }
      ]
    },
    {
      "cell_type": "markdown",
      "metadata": {
        "id": "rMNHzsTkCRkV"
      },
      "source": [
        "2) Estude os métodos do módulo ```os``` e faça um script que liste todos os arquivos de um dado diretório assim como de seus subdiretórios. **Dica**: use o método ```walk```."
      ]
    },
    {
      "cell_type": "code",
      "metadata": {
        "id": "yax7aqYOCTT6",
        "outputId": "80c1a65a-ba6a-42e4-87e0-f3661a69bc42",
        "colab": {
          "base_uri": "https://localhost:8080/"
        }
      },
      "source": [
        "import os\n",
        "for root, dirs, files in os.walk(\".\"):\n",
        "    for name in files:\n",
        "        print(os.path.join(root, name))\n",
        "    for name in dirs:\n",
        "        print(os.path.join(root, name))"
      ],
      "execution_count": 88,
      "outputs": [
        {
          "output_type": "stream",
          "text": [
            "./his.py\n",
            "./ler_dados.py\n",
            "./dados_alunos_cabecalho.csv\n",
            "./.config\n",
            "./__pycache__\n",
            "./sample_data\n",
            "./.config/.last_update_check.json\n",
            "./.config/active_config\n",
            "./.config/.last_survey_prompt.yaml\n",
            "./.config/gce\n",
            "./.config/config_sentinel\n",
            "./.config/.last_opt_in_prompt.yaml\n",
            "./.config/.metricsUUID\n",
            "./.config/logs\n",
            "./.config/configurations\n",
            "./.config/logs/2020.10.28\n",
            "./.config/logs/2020.10.28/16.30.09.212553.log\n",
            "./.config/logs/2020.10.28/16.29.47.988493.log\n",
            "./.config/logs/2020.10.28/16.29.33.370106.log\n",
            "./.config/logs/2020.10.28/16.30.09.899674.log\n",
            "./.config/logs/2020.10.28/16.29.53.609256.log\n",
            "./.config/logs/2020.10.28/16.29.12.726433.log\n",
            "./.config/configurations/config_default\n",
            "./__pycache__/ler_dados.cpython-36.pyc\n",
            "./__pycache__/his.cpython-36.pyc\n",
            "./sample_data/README.md\n",
            "./sample_data/anscombe.json\n",
            "./sample_data/california_housing_train.csv\n",
            "./sample_data/mnist_train_small.csv\n",
            "./sample_data/mnist_test.csv\n",
            "./sample_data/california_housing_test.csv\n"
          ],
          "name": "stdout"
        }
      ]
    },
    {
      "cell_type": "markdown",
      "metadata": {
        "id": "z0A7EOYfCiHz"
      },
      "source": [
        "3) **Reescreva o script dessa aula, ```lcount.py``` na forma de uma módulo. Qual o valor da variável ```__name__``` quando o módulo é importado?**\n",
        "\n"
      ]
    },
    {
      "cell_type": "code",
      "metadata": {
        "id": "l-bBECChCkxB",
        "outputId": "7a25a940-82b5-420c-ca19-3455e9ab57a0",
        "colab": {
          "base_uri": "https://localhost:8080/"
        }
      },
      "source": [
        "%%writefile lcount.py\n",
        "\n",
        "def linecount(filename):\n",
        "    count = 0\n",
        "    for line in open(filename):\n",
        "        count += 1\n",
        "    return count\n",
        "\n",
        "linecount('lcount.py')"
      ],
      "execution_count": null,
      "outputs": [
        {
          "output_type": "stream",
          "text": [
            "Writing lcount.py\n"
          ],
          "name": "stdout"
        }
      ]
    },
    {
      "cell_type": "code",
      "metadata": {
        "id": "z_PPBtgGlHgv",
        "outputId": "ec4895f7-2d6d-4363-96f8-b7c2b189612d",
        "colab": {
          "base_uri": "https://localhost:8080/"
        }
      },
      "source": [
        "import lcount as co\n",
        "print(__name__)\n",
        "#logo o módulo é um script"
      ],
      "execution_count": null,
      "outputs": [
        {
          "output_type": "stream",
          "text": [
            "__main__\n"
          ],
          "name": "stdout"
        }
      ]
    },
    {
      "cell_type": "markdown",
      "metadata": {
        "id": "ljg4tGxZCmb5"
      },
      "source": [
        "4) Escreva uma função chamada ler_arquivos que tome como argumento um nome de arquivo, leia um arquivo com um número qualquer de colunas e retorne um **dicionário** que tenha como *keys* os números das colunas e como valor uma lista dos valores associados a cada coluna do arquivo. Use o arquivo dados_alunos.txt. Caso o arquivo tiver o cabeçalho das colunas, p.ex. dados_alunos_cabecalho.txt, a key deve ser a palavra do cabeçalho.\n",
        "\n",
        "   * Caso não queria usar dicionários, você pode pensar em uma estrutura de dados alternativa para armazenar os dados do arquivo, como por exemplo uma ou mais listas.\n",
        "   * Também pode usar funções já existentes nos módulos de Python `numpy` ou `pandas` para ler arquivos de texto e armazenar nas estruturas desses módulos (`DataFrames` ou `arrays`).\n",
        "   * Adapte a função acima para, se ocorrer um erro ao abrir, ler ou fechar arquivos, o programa capturar a exceção, imprimir uma mensagem de erro e sair.\n",
        "\n"
      ]
    },
    {
      "cell_type": "code",
      "metadata": {
        "id": "zeskhy3dCptZ"
      },
      "source": [
        "def ler_arquivos(nome,k):\n",
        "  '''Programa para ler um arquivo e retornar uma lista com o valor do indice da coluna desse arquivo e uma lista com todas as linhas daquela coluna \n",
        "  '''\n",
        "  import numpy as np\n",
        "  x = []\n",
        "  y = []\n",
        "  arq = open(nome)\n",
        "  for line in arq:\n",
        "    X = line.split()\n",
        "    x.append(X)\n",
        "  for i in range(1,len(x)):#separa os elementos da lista \n",
        "    u = float(x[i][k])\n",
        "    y.append(u) \n",
        "  return x[0][k],y\n",
        "\n"
      ],
      "execution_count": 64,
      "outputs": []
    },
    {
      "cell_type": "code",
      "metadata": {
        "id": "qlOCkwc0LAjI",
        "outputId": "44b0b4f8-ffb5-43fd-ba5c-ae047ff422c3",
        "colab": {
          "base_uri": "https://localhost:8080/"
        }
      },
      "source": [
        "\n",
        "a = ler_arquivos('dados_alunos_cabecalho.csv',2)[1]\n",
        "\n",
        "print(type(a))"
      ],
      "execution_count": null,
      "outputs": [
        {
          "output_type": "stream",
          "text": [
            "<class 'list'>\n"
          ],
          "name": "stdout"
        }
      ]
    },
    {
      "cell_type": "markdown",
      "metadata": {
        "id": "yRIMCYiFCqFx"
      },
      "source": [
        "5) **Adapte o script acima para ser um módulo.**\n",
        "\n"
      ]
    },
    {
      "cell_type": "code",
      "metadata": {
        "id": "OAHGfB_CCsDx",
        "outputId": "3542893d-1526-4dd6-95e1-33a652f1b51e",
        "colab": {
          "base_uri": "https://localhost:8080/"
        }
      },
      "source": [
        "%%writefile ler_dados.py\n",
        "def ler_arquivos(nome,k): \n",
        "  '''Programa para ler um arquivo e retornar uma lista com o valor do indice da coluna desse arquivo e uma lista com todas as linhas daquela coluna \n",
        "  '''\n",
        "  import numpy as np\n",
        "  x = []\n",
        "  y = []\n",
        "  arq = open(nome)\n",
        "  quant = \n",
        "  for line in arq:\n",
        "    X = line.split()\n",
        "    x.append(X)\n",
        "  for i in range(1,len(x)):\n",
        "    y.append(x[i][k]) \n",
        "  return x[0][k],y"
      ],
      "execution_count": 65,
      "outputs": [
        {
          "output_type": "stream",
          "text": [
            "Overwriting ler_dados.py\n"
          ],
          "name": "stdout"
        }
      ]
    },
    {
      "cell_type": "markdown",
      "metadata": {
        "id": "VTjoTJvF2X4N"
      },
      "source": [
        "tentativa de criar um modeulo para histogramas, mas não consegui resolver o problema com o matplotlib"
      ]
    },
    {
      "cell_type": "code",
      "metadata": {
        "id": "oqFZK4AojFFl",
        "outputId": "d10f9f11-a92f-4db1-ef02-ae24df1bcbcf",
        "colab": {
          "base_uri": "https://localhost:8080/"
        }
      },
      "source": [
        "%%writefile his.py\n",
        "'''modulo para auxiliar criação de histogramas'''\n",
        "def trans_f(lista):\n",
        "  import numpy as np\n",
        "  import matplotlib.mlab as mlab\n",
        "  import matplotlib.pyplot as plt\n",
        "  '''retorna uma lista transformada para float, ignorando o primeiro elemento dessa lista.'''\n",
        "  var = [] \n",
        "  for i in range(1,len(lista)): #transformando os itens das de strings para floats para realizar o histograma\n",
        "    var.append(float(lista[i]))\n",
        "  return var\n",
        "\n",
        "\n",
        "\n",
        "def histograma(dados, unidade, num_bins):\n",
        "  import numpy as np\n",
        "  import matplotlib.mlab as mlab\n",
        "  import matplotlib.pyplot as plt\n",
        "  '''Retorna um histrograma contendo montando em matplotlib, (lista com dados, unidade para legenda, espaçamento)\n",
        "  '''\n",
        "  plt.xlabel(unidade)\n",
        "  plt.ylabel('Número de ocorrencias')\n",
        "  n, bins, patches = plt.hist(dados, num_bins, facecolor='blue', alpha=0.5)\n",
        "  plt.show()"
      ],
      "execution_count": 66,
      "outputs": [
        {
          "output_type": "stream",
          "text": [
            "Overwriting his.py\n"
          ],
          "name": "stdout"
        }
      ]
    },
    {
      "cell_type": "markdown",
      "metadata": {
        "id": "SnclkfcJCsjx"
      },
      "source": [
        "**6) Escreva um script que importe o módulo criado acima e faça um histograma para cada coluna do arquivo, com seus respectivos valores. Use o dicionário ou a estrutura de dados criada em 1).**\n",
        "\n"
      ]
    },
    {
      "cell_type": "code",
      "metadata": {
        "id": "ZMCBnQiACulp",
        "outputId": "00871b3b-edc9-4779-d588-31cef920024c",
        "colab": {
          "base_uri": "https://localhost:8080/",
          "height": 803
        }
      },
      "source": [
        "import ler_dados as ld\n",
        "import his\n",
        "import numpy as np\n",
        "import matplotlib.mlab as mlab\n",
        "import matplotlib.pyplot as plt\n",
        "ajuda = []\n",
        "\n",
        "for i in (0,1,2):\n",
        "  label =  ld.ler_arquivos('dados_alunos_cabecalho.csv',i)[0]\n",
        "  a = ld.ler_arquivos('dados_alunos_cabecalho.csv',i)[1]\n",
        "  for j in range(len(a)):\n",
        "    ajuda.append(float(a[j]))\n",
        "    plt.xlabel(label)\n",
        "  plt.ylabel('Número de ocorrencias')\n",
        "  n, bins, patches = plt.hist(ajuda, 40, facecolor='blue', alpha=0.5)\n",
        "  plt.show()\n",
        "  ajuda = []\n",
        "  \n"
      ],
      "execution_count": 79,
      "outputs": [
        {
          "output_type": "display_data",
          "data": {
            "image/png": "[encoded data removed]",
            "text/plain": [
              "<Figure size 432x288 with 1 Axes>"
            ]
          },
          "metadata": {
            "tags": [],
            "needs_background": "light"
          }
        },
        {
          "output_type": "display_data",
          "data": {
            "image/png": "[encoded data removed]",
            "text/plain": [
              "<Figure size 432x288 with 1 Axes>"
            ]
          },
          "metadata": {
            "tags": [],
            "needs_background": "light"
          }
        },
        {
          "output_type": "display_data",
          "data": {
            "image/png": "[encoded data removed]",
            "text/plain": [
              "<Figure size 432x288 with 1 Axes>"
            ]
          },
          "metadata": {
            "tags": [],
            "needs_background": "light"
          }
        }
      ]
    },
    {
      "cell_type": "markdown",
      "metadata": {
        "id": "lE7l1XhnCu6e"
      },
      "source": [
        "7) Adicione uma função ao script criado em 6), que calcule o desvio padrão amostral, desvio padrão populacional e média de cada distribuição representada nos histogramas acima. Para tal, use o módulo `statistics` do Python ou outro módulo de Python (`numpy`, `scipy`)."
      ]
    },
    {
      "cell_type": "code",
      "metadata": {
        "id": "PmXCChjWCvpR",
        "outputId": "28a55f84-5439-4f92-91df-7b1a2704da67",
        "colab": {
          "base_uri": "https://localhost:8080/",
          "height": 905
        }
      },
      "source": [
        "import ler_dados as ld\n",
        "import his\n",
        "import numpy as np\n",
        "import matplotlib.mlab as mlab\n",
        "import matplotlib.pyplot as plt\n",
        "import statistics as est\n",
        "ajuda = []\n",
        "\n",
        "for i in (0,1,2):\n",
        "  label = a = ld.ler_arquivos('dados_alunos_cabecalho.csv',i)[0]\n",
        "  a = ld.ler_arquivos('dados_alunos_cabecalho.csv',i)[1]\n",
        "  for j in range(len(a)):\n",
        "    ajuda.append(float(a[j]))\n",
        "    plt.xlabel(label)\n",
        "  plt.ylabel('Número de ocorrencias')\n",
        "  n, bins, patches = plt.hist(ajuda, 40, facecolor='blue', alpha=0.5)\n",
        "  plt.show()\n",
        "\n",
        "  print(f'média= {est.mean(ajuda):.2f}.',f'desvio padrão população= {est.pstdev(ajuda):.2f}.',f'desvio padrão amostra= {est.stdev(ajuda):.2f}.')\n",
        "  print()\n",
        "  ajuda = []\n"
      ],
      "execution_count": 78,
      "outputs": [
        {
          "output_type": "display_data",
          "data": {
            "image/png": "[encoded data removed]",
            "text/plain": [
              "<Figure size 432x288 with 1 Axes>"
            ]
          },
          "metadata": {
            "tags": [],
            "needs_background": "light"
          }
        },
        {
          "output_type": "stream",
          "text": [
            "média= 19.82. desvio padrão população= 4.41. desvio padrão amostra= 4.45.\n",
            "\n"
          ],
          "name": "stdout"
        },
        {
          "output_type": "display_data",
          "data": {
            "image/png": "[encoded data removed]",
            "text/plain": [
              "<Figure size 432x288 with 1 Axes>"
            ]
          },
          "metadata": {
            "tags": [],
            "needs_background": "light"
          }
        },
        {
          "output_type": "stream",
          "text": [
            "média= 1.72. desvio padrão população= 0.08. desvio padrão amostra= 0.08.\n",
            "\n"
          ],
          "name": "stdout"
        },
        {
          "output_type": "display_data",
          "data": {
            "image/png": "[encoded data removed]",
            "text/plain": [
              "<Figure size 432x288 with 1 Axes>"
            ]
          },
          "metadata": {
            "tags": [],
            "needs_background": "light"
          }
        },
        {
          "output_type": "stream",
          "text": [
            "média= 68.50. desvio padrão população= 13.11. desvio padrão amostra= 13.23.\n",
            "\n"
          ],
          "name": "stdout"
        }
      ]
    }
  ]
}