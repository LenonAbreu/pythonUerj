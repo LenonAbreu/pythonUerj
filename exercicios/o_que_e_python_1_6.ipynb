{
  "nbformat": 4,
  "nbformat_minor": 0,
  "metadata": {
    "colab": {
      "name": "o_que_e_python_1_6.ipynb",
      "provenance": [],
      "collapsed_sections": [],
      "authorship_tag": "ABX9TyMHEnFqKyovjTbzZfmOMMvO",
      "include_colab_link": true
    },
    "kernelspec": {
      "name": "python3",
      "display_name": "Python 3"
    }
  },
  "cells": [
    {
      "cell_type": "markdown",
      "metadata": {
        "id": "view-in-github",
        "colab_type": "text"
      },
      "source": [
        "<a href=\"https://colab.research.google.com/github/LenonAbreu/pythonUerj/blob/master/exercicios/o_que_e_python_1_6.ipynb\" target=\"_parent\"><img src=\"https://colab.research.google.com/assets/colab-badge.svg\" alt=\"Open In Colab\"/></a>"
      ]
    },
    {
      "cell_type": "markdown",
      "metadata": {
        "id": "KuZRi4IdfUXQ",
        "colab_type": "text"
      },
      "source": [
        "Calcule a velocidade final de um objeto em queda livre a partir de 3 metros de altura (sem resistencia do ar). Calcule o tempo que esse objeto demora para cair."
      ]
    },
    {
      "cell_type": "code",
      "metadata": {
        "id": "rXGrj0wAfQ3a",
        "colab_type": "code",
        "colab": {
          "base_uri": "https://localhost:8080/",
          "height": 67
        },
        "outputId": "f3ba0bfd-554f-46f1-a7cf-841133effe15"
      },
      "source": [
        "#vamos considerar a aceleraçã0 da gravidade uma constnate igual a 9,8 m/s^2\n",
        "#utilizando da equação de torrichelli v²= v0² + @aD considerando a altura total como d=3m e que ele partiu do repouso, a equação se limita a v= raiz(2gD)\n",
        "g= 9.8\n",
        "distancia = 3\n",
        "velocidade = (2*g*distancia)**(1/2)\n",
        "print(\"a velocidade final é\", velocidade)\n",
        "#o tempo pode ser obtido atrás da equação horaria x = x0 + v0t + (at²/2) como x0=0 e v0=0 sobra x = at²/2 => t=(2x/a)^1/2\n",
        "tempo = (2* distancia/g)**(1/2)\n",
        "print(\"O tempo de queda é igual a\",tempo)\n",
        "# ára confimar os resultados a velocidade obtida como v = g*t tem que ser igual a obtida anteriormente\n",
        "v_t = g * tempo\n",
        "\n",
        "print(\"comparando as velocidades temos:(\",velocidade ,\"=\",v_t,\") m/s\")"
      ],
      "execution_count": null,
      "outputs": [
        {
          "output_type": "stream",
          "text": [
            "a velocidade final é 7.6681158050723255\n",
            "O tempo de queda é igual a 0.7824607964359516\n",
            "comparando as velocidades temos:( 7.6681158050723255 = 7.6681158050723255 ) m/s\n"
          ],
          "name": "stdout"
        }
      ]
    }
  ]
}