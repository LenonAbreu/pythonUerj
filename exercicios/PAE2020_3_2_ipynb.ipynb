{
  "nbformat": 4,
  "nbformat_minor": 0,
  "metadata": {
    "colab": {
      "name": "PAE2020_3_2.ipynb.ipynb",
      "provenance": [],
      "collapsed_sections": [],
      "authorship_tag": "ABX9TyM6GHo3Q+G0knIQPEme6G9C",
      "include_colab_link": true
    },
    "kernelspec": {
      "name": "python3",
      "display_name": "Python 3"
    }
  },
  "cells": [
    {
      "cell_type": "markdown",
      "metadata": {
        "id": "view-in-github",
        "colab_type": "text"
      },
      "source": [
        "<a href=\"https://colab.research.google.com/github/LenonAbreu/pythonUerj/blob/master/exercicios/PAE2020_3_2_ipynb.ipynb\" target=\"_parent\"><img src=\"https://colab.research.google.com/assets/colab-badge.svg\" alt=\"Open In Colab\"/></a>"
      ]
    },
    {
      "cell_type": "markdown",
      "metadata": {
        "id": "Tb2-JYaXTwFE"
      },
      "source": [
        "Crie uma função que calcule e imprima velocidade media de um objeto a partir de uma posição inicial, a final e o tempo transcorrido para um objeto em MRU. Também crie uma funcão que calcule e imprima a velocidade de um objeto a partir da aceleração constante e o tempo (MRUA) (p.ex. queda libre).\n"
      ]
    },
    {
      "cell_type": "code",
      "metadata": {
        "id": "GdBeUItOTbPf",
        "outputId": "47ec6da4-a733-419e-cea6-101de037df9d",
        "colab": {
          "base_uri": "https://localhost:8080/",
          "height": 289
        }
      },
      "source": [
        "def v_mru():\n",
        "    print(\"posição inicial em metros\")\n",
        "    pos_i = float (input())\n",
        "    print(\"posição final em metros\")\n",
        "    pos_f = float (input())\n",
        "    print(\"tempo percorrido em segundo\")\n",
        "    tempo = float (input())\n",
        "    velocidade = (pos_f - pos_i) / tempo\n",
        "    print(\"a velocidade média é\",velocidade,\"m/s\")\n",
        "def v_mrua():\n",
        "    print(\"velocidade incial em metros/segundo\")\n",
        "    vel_i = float (input())\n",
        "    print(\"aceleração do objeto em mestros/segundo^2\")\n",
        "    acel = float (input())\n",
        "    print(\"tempo percorrido em segundo\")\n",
        "    tempo = float (input())\n",
        "    velocidade = vel_i + (acel * tempo)\n",
        "    print(\"a velocidade média é\",velocidade,\"m/s\")\n",
        "print(v_mru())\n",
        "print(v_mrua())"
      ],
      "execution_count": 12,
      "outputs": [
        {
          "output_type": "stream",
          "text": [
            "posição inicial em metros\n",
            "1\n",
            "posição final em metros\n",
            "2\n",
            "tempo percorrido em segundo\n",
            "3\n",
            "a velocidade média é 0.3333333333333333 m/s\n",
            "None\n",
            "velocidade incial em metros/segundo\n",
            "4\n",
            "aceleração do objeto em mestros/segundo^2\n",
            "5\n",
            "tempo percorrido em segundo\n",
            "4\n",
            "a velocidade média é 24.0 m/s\n",
            "None\n"
          ],
          "name": "stdout"
        }
      ]
    }
  ]
}