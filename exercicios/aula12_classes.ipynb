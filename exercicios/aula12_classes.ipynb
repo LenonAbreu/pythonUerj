{
  "nbformat": 4,
  "nbformat_minor": 0,
  "metadata": {
    "colab": {
      "name": "aula12_classes.ipynb",
      "provenance": [],
      "authorship_tag": "ABX9TyNDjmPnunFFaWq0oZeCou9t",
      "include_colab_link": true
    },
    "kernelspec": {
      "name": "python3",
      "display_name": "Python 3"
    }
  },
  "cells": [
    {
      "cell_type": "markdown",
      "metadata": {
        "id": "view-in-github",
        "colab_type": "text"
      },
      "source": [
        "<a href=\"https://colab.research.google.com/github/LenonAbreu/pythonUerj/blob/master/exercicios/aula12_classes.ipynb\" target=\"_parent\"><img src=\"https://colab.research.google.com/assets/colab-badge.svg\" alt=\"Open In Colab\"/></a>"
      ]
    },
    {
      "cell_type": "markdown",
      "metadata": {
        "id": "TL0w2aYKZbmW"
      },
      "source": [
        "1) Escreva uma função que calcula a distância entre dois pontos, usando a classe Ponto que fizemos nessa aula.\n",
        "\n",
        "2) Adicione um método reflexao_x à classe Ponto que retorna uma instância de Ponto, que é o reflexo do Ponto sobre o eixo x. Por exemplo, Point (3, 5) .reflexao_x () é (3, -5)\n",
        "\n",
        "3) Adicione um método ***inclinacao_da_origem*** à classe Ponto, que retorne a inclinação da linha que une a origem ao Ponto. Por exemplo,\n",
        "O que pode dar errado com esse programa?"
      ]
    },
    {
      "cell_type": "code",
      "metadata": {
        "id": "8bll1DwQZTEK"
      },
      "source": [
        "from Ponto import *\n",
        "Ponto(4, 10).inclinacao_origem()\n",
        "2.5"
      ],
      "execution_count": null,
      "outputs": []
    },
    {
      "cell_type": "code",
      "metadata": {
        "colab": {
          "base_uri": "https://localhost:8080/"
        },
        "id": "XTNoY2uYZf-l",
        "outputId": "10f40458-4c18-460a-ea85-4615699a152e"
      },
      "source": [
        "class Ponto:\n",
        "    \n",
        "\n",
        "    def __init__(self, x=0, y=0):\n",
        "        self.x = x\n",
        "        self.y = y\n",
        "\n",
        "    def distancia_da_origem(self):\n",
        "        return ((self.x ** 2) + (self.y ** 2)) ** 0.5\n",
        "############################################   ##############\n",
        "    def ponto_reflex_x(self):\n",
        "        mx = self.x \n",
        "        my = self.y\n",
        "        return Ponto(-mx, my)\n",
        "\n",
        "    def ponto_reflex_y(self):\n",
        "        mx = self.x \n",
        "        my = self.y                        #######Exercio 2, reflexão na coord x, y e em ambas\n",
        "        return Ponto(mx, -my)\n",
        "\n",
        "    def ponto_reflex_ambos(self):\n",
        "        mx = self.x \n",
        "        my = self.y\n",
        "        return Ponto(-mx,-my)\n",
        "########################################################\n",
        "    def inclinacao_origem(self):     ######### exercicio 3, inclinação no ponto \n",
        "        import math\n",
        "        mx = self.x \n",
        "        my = self.y\n",
        "        return math.atan2(my,mx)\n",
        "\n",
        "    def __str__(self):\n",
        "        return \"({0}, {1})\".format(self.x, self.y)\n",
        "##exercicio 1\n",
        "def distancia(x1,y1,x2,y2):\n",
        "  r = Ponto(x1,y1)\n",
        "  s = Ponto(x2,y2)\n",
        "  return ((x1+x2)**2+(y1+y2)**2)**0.5\n",
        "print(type(Ponto(4, 10).inclinacao_origem()))"
      ],
      "execution_count": 34,
      "outputs": [
        {
          "output_type": "stream",
          "text": [
            "<class 'float'>\n"
          ],
          "name": "stdout"
        }
      ]
    },
    {
      "cell_type": "markdown",
      "metadata": {
        "id": "IicTHACfZgf0"
      },
      "source": [
        "\n",
        "4) A equação de uma linha reta é “y = ax + b”. Os coeficientes a e b descrevem completamente a reta. Escreva um método na classe Ponto para que, se uma instância Ponto receber outro Ponto, calcule a equação da linha reta que une os dois pontos. Deve retornar os dois coeficientes como uma tupla de dois valores. Por exemplo,\n",
        "O resultado acima nos diz que a equação da reta é y = 2x + 3. Quando esse método falha?"
      ]
    },
    {
      "cell_type": "code",
      "metadata": {
        "colab": {
          "base_uri": "https://localhost:8080/"
        },
        "id": "CVUdhNBYiLbV",
        "outputId": "8052f74d-3049-4af9-d57f-d754e33b21d9"
      },
      "source": [
        "class Ponto:\n",
        "    \n",
        "\n",
        "    def __init__(self, x=0, y=0):\n",
        "        self.x = x\n",
        "        self.y = y\n",
        "\n",
        "    def parametros_reta(self, alvo):\n",
        "        \"\"\" Retorna o ponto medio entre esse ponto e o alvo \"\"\"\n",
        "        a = (alvo.y - self.y)/(alvo.x - self.x)\n",
        "        b = self.y - (a * self.x)\n",
        "\n",
        "        return a,b\n",
        "\n",
        "print(Ponto(4,11).parametros_reta(Ponto(6,15)))"
      ],
      "execution_count": 31,
      "outputs": [
        {
          "output_type": "stream",
          "text": [
            "(2.0, 3.0)\n"
          ],
          "name": "stdout"
        }
      ]
    }
  ]
}