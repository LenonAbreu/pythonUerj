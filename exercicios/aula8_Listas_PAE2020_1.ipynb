{
  "nbformat": 4,
  "nbformat_minor": 0,
  "metadata": {
    "colab": {
      "name": "aula8_Listas_PAE2020_1.ipynb",
      "provenance": [],
      "authorship_tag": "ABX9TyNgPKDzubWMwCLS9dtQ3Haf",
      "include_colab_link": true
    },
    "kernelspec": {
      "name": "python3",
      "display_name": "Python 3"
    }
  },
  "cells": [
    {
      "cell_type": "markdown",
      "metadata": {
        "id": "view-in-github",
        "colab_type": "text"
      },
      "source": [
        "<a href=\"https://colab.research.google.com/github/LenonAbreu/pythonUerj/blob/master/exercicios/aula8_Listas_PAE2020_1.ipynb\" target=\"_parent\"><img src=\"https://colab.research.google.com/assets/colab-badge.svg\" alt=\"Open In Colab\"/></a>"
      ]
    },
    {
      "cell_type": "code",
      "metadata": {
        "id": "Z4Ne95Rzh-UG",
        "outputId": "92e6eeed-5883-421f-97c3-fa8f3d82a333",
        "colab": {
          "base_uri": "https://localhost:8080/",
          "height": 136
        }
      },
      "source": [
        "def letra(x):\n",
        "  i=0\n",
        "  n = 0\n",
        "  for i in range(len(x)):\n",
        "    print(\" \"*i,x[i])\n",
        "    \n",
        "letra(\"bananas\")"
      ],
      "execution_count": null,
      "outputs": [
        {
          "output_type": "stream",
          "text": [
            " b\n",
            "  a\n",
            "   n\n",
            "    a\n",
            "     n\n",
            "      a\n",
            "       s\n"
          ],
          "name": "stdout"
        }
      ]
    },
    {
      "cell_type": "code",
      "metadata": {
        "id": "rJ8M030BpIVK"
      },
      "source": [
        "def escada(x):\n",
        "  i = 0\n",
        "  while i < len(x):\n",
        "    print(\"  \"*i,x[i])\n",
        "    i = i + 1\n",
        "escada(\"Teste sua sorte\")\n"
      ],
      "execution_count": null,
      "outputs": []
    },
    {
      "cell_type": "code",
      "metadata": {
        "id": "nrMfq0V7677c",
        "outputId": "7327e209-a37f-442b-ad2b-a55c5264a161",
        "colab": {
          "base_uri": "https://localhost:8080/",
          "height": 136
        }
      },
      "source": [
        "def escada(x):\n",
        "  i = 0\n",
        "  while i < len(x):\n",
        "    print(\" \"*i,x[(len(x)-1)-i])\n",
        "    i = i + 1\n",
        "escada(\"bananas\")"
      ],
      "execution_count": null,
      "outputs": [
        {
          "output_type": "stream",
          "text": [
            " s\n",
            "  a\n",
            "   n\n",
            "    a\n",
            "     n\n",
            "      a\n",
            "       b\n"
          ],
          "name": "stdout"
        }
      ]
    },
    {
      "cell_type": "code",
      "metadata": {
        "id": "C0S2VGC7zYKN",
        "outputId": "199f5066-3376-4dc1-be1c-3d6e1580e344",
        "colab": {
          "base_uri": "https://localhost:8080/",
          "height": 71
        }
      },
      "source": [
        "v = 12/60 #12km/60min = km/min\n",
        "t = 1\n",
        "s = []\n",
        "tempo = []\n",
        "while v*t <= 5:\n",
        "  s.append(v*t)\n",
        "  t = t + 1\n",
        "  tempo.append(t)\n",
        "print(s)\n",
        "print(tempo) "
      ],
      "execution_count": 9,
      "outputs": [
        {
          "output_type": "stream",
          "text": [
            "[0.2, 0.4, 0.6000000000000001, 0.8, 1.0, 1.2000000000000002, 1.4000000000000001, 1.6, 1.8, 2.0, 2.2, 2.4000000000000004, 2.6, 2.8000000000000003, 3.0, 3.2, 3.4000000000000004, 3.6, 3.8000000000000003, 4.0, 4.2, 4.4, 4.6000000000000005, 4.800000000000001, 5.0]\n",
            "[2, 3, 4, 5, 6, 7, 8, 9, 10, 11, 12, 13, 14, 15, 16, 17, 18, 19, 20, 21, 22, 23, 24, 25, 26]\n"
          ],
          "name": "stdout"
        }
      ]
    },
    {
      "cell_type": "code",
      "metadata": {
        "id": "1KeCNVpzQjSt",
        "outputId": "aa449bbb-c64c-4dc6-acbd-dc51a4c47849",
        "colab": {
          "base_uri": "https://localhost:8080/",
          "height": 313
        }
      },
      "source": [
        "\n",
        "import matplotlib.pyplot as plt\n",
        "v = 12/60 #12km/60min = km/min\n",
        "t = 0\n",
        "s = []\n",
        "tempo = []\n",
        "while v*t <= 5:\n",
        "  s.append(v*t)\n",
        "  t = t + 1\n",
        "  i = t\n",
        "  tempo.append(t)\n",
        "v2 = 15/60 #12km/60min = km/min\n",
        "t2 = 0\n",
        "\n",
        "while v2*t2 <= 1.8:\n",
        "  a = v2*t2 + v*i\n",
        "  s.append(a)\n",
        "  t2 = t2 + 1\n",
        "  tempo.append(t)\n",
        "  t = t + 1\n",
        "print(i)\n",
        "plt.plot(tempo,s)\n",
        "plt.xlabel(\"tempo min\")\n",
        "plt.ylabel(\"distância Km\")\n"
      ],
      "execution_count": 20,
      "outputs": [
        {
          "output_type": "stream",
          "text": [
            "26\n"
          ],
          "name": "stdout"
        },
        {
          "output_type": "execute_result",
          "data": {
            "text/plain": [
              "Text(0, 0.5, 'distância Km')"
            ]
          },
          "metadata": {
            "tags": []
          },
          "execution_count": 20
        },
        {
          "output_type": "display_data",
          "data": {
            "image/png": "[encoded data removed]",
            "text/plain": [
              "<Figure size 432x288 with 1 Axes>"
            ]
          },
          "metadata": {
            "tags": [],
            "needs_background": "light"
          }
        }
      ]
    },
    {
      "cell_type": "code",
      "metadata": {
        "id": "gp_eE62gcdu7",
        "outputId": "db396529-862e-43d6-9f62-e6acfbdf6454",
        "colab": {
          "base_uri": "https://localhost:8080/",
          "height": 34
        }
      },
      "source": [
        "def deslocamento(t,v_i,a,s_i):\n",
        "  desl = s_i + v_i*t + (a*(t**2)/2)\n",
        "  return desl\n",
        "\n",
        "deslocamento(3,2,3,1)"
      ],
      "execution_count": 22,
      "outputs": [
        {
          "output_type": "execute_result",
          "data": {
            "text/plain": [
              "20.5"
            ]
          },
          "metadata": {
            "tags": []
          },
          "execution_count": 22
        }
      ]
    },
    {
      "cell_type": "code",
      "metadata": {
        "id": "d0e2ZEWxcjBB"
      },
      "source": [
        ""
      ],
      "execution_count": null,
      "outputs": []
    }
  ]
}