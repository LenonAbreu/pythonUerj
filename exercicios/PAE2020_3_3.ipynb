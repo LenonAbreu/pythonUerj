{
  "nbformat": 4,
  "nbformat_minor": 0,
  "metadata": {
    "colab": {
      "name": "PAE2020_3_3.ipynb",
      "provenance": [],
      "collapsed_sections": [],
      "authorship_tag": "ABX9TyOgGrxnuZaNZLbx+5ke73ge",
      "include_colab_link": true
    },
    "kernelspec": {
      "name": "python3",
      "display_name": "Python 3"
    }
  },
  "cells": [
    {
      "cell_type": "markdown",
      "metadata": {
        "id": "view-in-github",
        "colab_type": "text"
      },
      "source": [
        "<a href=\"https://colab.research.google.com/github/LenonAbreu/pythonUerj/blob/master/exercicios/PAE2020_3_3.ipynb\" target=\"_parent\"><img src=\"https://colab.research.google.com/assets/colab-badge.svg\" alt=\"Open In Colab\"/></a>"
      ]
    },
    {
      "cell_type": "markdown",
      "metadata": {
        "id": "kS3ZPtPyZU_V"
      },
      "source": [
        "Crie uma funcão para calcular o ángulo zenital do sol (da semana passada) tomando como argumento as medidas da altura e o comprimento da sombra."
      ]
    },
    {
      "cell_type": "code",
      "metadata": {
        "id": "MFGejH3EZFTO",
        "outputId": "1e57cefe-c409-47f5-d039-e991fe44ec55",
        "colab": {
          "base_uri": "https://localhost:8080/",
          "height": 102
        }
      },
      "source": [
        "def zenital():\n",
        "    import math\n",
        "    print(\"altura do poste\")\n",
        "    alt_p = float (input())\n",
        "    print(\"tamanho da sombra\")\n",
        "    tam_s = float (input())\n",
        "    tg = math.atan(tam_s/alt_p)\n",
        "    return tg\n",
        "    \n",
        "    \n",
        "x = zenital()\n",
        "print(x, \"radianos\")"
      ],
      "execution_count": 10,
      "outputs": [
        {
          "output_type": "stream",
          "text": [
            "altura do poste\n",
            "5\n",
            "tamanho da sombra\n",
            "0.5\n",
            "0.09966865249116204 radianos\n"
          ],
          "name": "stdout"
        }
      ]
    }
  ]
}