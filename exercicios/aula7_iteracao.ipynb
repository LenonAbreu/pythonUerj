{
  "nbformat": 4,
  "nbformat_minor": 0,
  "metadata": {
    "colab": {
      "name": "aula7_iteracao.ipynb",
      "provenance": [],
      "collapsed_sections": [],
      "authorship_tag": "ABX9TyPmNpQ9LzvGdDqW/V2llHvi",
      "include_colab_link": true
    },
    "kernelspec": {
      "name": "python3",
      "display_name": "Python 3"
    }
  },
  "cells": [
    {
      "cell_type": "markdown",
      "metadata": {
        "id": "view-in-github",
        "colab_type": "text"
      },
      "source": [
        "<a href=\"https://colab.research.google.com/github/LenonAbreu/pythonUerj/blob/master/exercicios/aula7_iteracao.ipynb\" target=\"_parent\"><img src=\"https://colab.research.google.com/assets/colab-badge.svg\" alt=\"Open In Colab\"/></a>"
      ]
    },
    {
      "cell_type": "code",
      "metadata": {
        "id": "NvMjUtTejiq3",
        "outputId": "766336e9-f630-41f1-9e0b-afc7ddfe5b5b",
        "colab": {
          "base_uri": "https://localhost:8080/",
          "height": 34
        }
      },
      "source": [
        "def check_fermat(a, b, c, n):\n",
        "  if a**n + b**n == c**n and n > 2 :\n",
        "    print(\"Holy smokes, Fermat was wrong!\")\n",
        "  else:\n",
        "    print(\"No, that doesn’t work.\")\n",
        "\n",
        "def check_fermat1():\n",
        "  print(\"digite os valores de a, b, c e n para verificar o teorema de Fermat se mantem se n maior que 2 essa igualdade a^n + b^n = c^n não é satisfeita\")\n",
        "  a = int (input())\n",
        "  b = int (input())\n",
        "  c = int (input())\n",
        "  n = int (input())\n",
        "  if a**n + b**n == c**n and n > 2 :\n",
        "    print(\"oh não, fermat estava errado\")\n",
        "  else:\n",
        "    print(\"ainda não funciona\")\n",
        "\n"
      ],
      "execution_count": null,
      "outputs": [
        {
          "output_type": "stream",
          "text": [
            "No, that doesn’t work.\n"
          ],
          "name": "stdout"
        }
      ]
    },
    {
      "cell_type": "code",
      "metadata": {
        "id": "zhxhb1T8woMU",
        "outputId": "1e122266-1dd6-408b-c523-c7f4bf78015f",
        "colab": {
          "base_uri": "https://localhost:8080/",
          "height": 102
        }
      },
      "source": [
        "def is_triangle(a, b, c):\n",
        "  if a + b > c or a + c > b or b + c > a:\n",
        "    print(\"não\")\n",
        "  \n",
        "  else:\n",
        "    print(\"Sim\")\n",
        "\n",
        "def gravetos():\n",
        "  print(\"digite o tamanho para os gravetos para verificar se é possível formar um triangulo\")\n",
        "  a = int(input()) \n",
        "  b = int(input()) \n",
        "  c = int(input()) \n",
        "  is_triangle(a, b, c)\n",
        "gravetos() "
      ],
      "execution_count": 1,
      "outputs": [
        {
          "output_type": "stream",
          "text": [
            "digite o tamanho para os gravetos para verificar se é possível formar um triangulo\n",
            "1\n",
            "2\n",
            "5\n",
            "não\n"
          ],
          "name": "stdout"
        }
      ]
    },
    {
      "cell_type": "code",
      "metadata": {
        "id": "q_QZQXsQyNv1"
      },
      "source": [
        ""
      ],
      "execution_count": null,
      "outputs": []
    }
  ]
}