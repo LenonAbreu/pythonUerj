{
  "nbformat": 4,
  "nbformat_minor": 0,
  "metadata": {
    "colab": {
      "name": "aula8_Listas_PAE2020_1.ipynb",
      "provenance": [],
      "authorship_tag": "ABX9TyPLY7Yne7JVQ5rV1T9klRa6",
      "include_colab_link": true
    },
    "kernelspec": {
      "name": "python3",
      "display_name": "Python 3"
    }
  },
  "cells": [
    {
      "cell_type": "markdown",
      "metadata": {
        "id": "view-in-github",
        "colab_type": "text"
      },
      "source": [
        "<a href=\"https://colab.research.google.com/github/LenonAbreu/pythonUerj/blob/master/aula8/aula8_Listas_PAE2020_1.ipynb\" target=\"_parent\"><img src=\"https://colab.research.google.com/assets/colab-badge.svg\" alt=\"Open In Colab\"/></a>"
      ]
    },
    {
      "cell_type": "markdown",
      "metadata": {
        "id": "RhMKfKDbPIJ4"
      },
      "source": [
        ""
      ]
    },
    {
      "cell_type": "code",
      "metadata": {
        "id": "Z4Ne95Rzh-UG",
        "outputId": "92e6eeed-5883-421f-97c3-fa8f3d82a333",
        "colab": {
          "base_uri": "https://localhost:8080/",
          "height": 136
        }
      },
      "source": [
        "def letra(x):\n",
        "  i=0\n",
        "  n = 0\n",
        "  for i in range(len(x)):\n",
        "    print(\" \"*i,x[i])\n",
        "    \n",
        "letra(\"bananas\")"
      ],
      "execution_count": null,
      "outputs": [
        {
          "output_type": "stream",
          "text": [
            " b\n",
            "  a\n",
            "   n\n",
            "    a\n",
            "     n\n",
            "      a\n",
            "       s\n"
          ],
          "name": "stdout"
        }
      ]
    },
    {
      "cell_type": "code",
      "metadata": {
        "id": "rJ8M030BpIVK",
        "outputId": "23ab0ca1-0cc4-48c2-e329-e3ed6c422ca0",
        "colab": {
          "base_uri": "https://localhost:8080/",
          "height": 272
        }
      },
      "source": [
        "def escada(x):\n",
        "  i = 0\n",
        "  while i < len(x):\n",
        "    print(\"  \"*i,x[i])\n",
        "    i = i + 1\n",
        "escada(\"Teste sua sorte\")\n"
      ],
      "execution_count": 16,
      "outputs": [
        {
          "output_type": "stream",
          "text": [
            " T\n",
            "   e\n",
            "     s\n",
            "       t\n",
            "         e\n",
            "            \n",
            "             s\n",
            "               u\n",
            "                 a\n",
            "                    \n",
            "                     s\n",
            "                       o\n",
            "                         r\n",
            "                           t\n",
            "                             e\n"
          ],
          "name": "stdout"
        }
      ]
    },
    {
      "cell_type": "code",
      "metadata": {
        "id": "nrMfq0V7677c",
        "outputId": "7327e209-a37f-442b-ad2b-a55c5264a161",
        "colab": {
          "base_uri": "https://localhost:8080/",
          "height": 136
        }
      },
      "source": [
        "def escada(x):\n",
        "  i = 0\n",
        "  while i < len(x):\n",
        "    print(\" \"*i,x[(len(x)-1)-i])\n",
        "    i = i + 1\n",
        "escada(\"bananas\")"
      ],
      "execution_count": null,
      "outputs": [
        {
          "output_type": "stream",
          "text": [
            " s\n",
            "  a\n",
            "   n\n",
            "    a\n",
            "     n\n",
            "      a\n",
            "       b\n"
          ],
          "name": "stdout"
        }
      ]
    },
    {
      "cell_type": "code",
      "metadata": {
        "id": "C0S2VGC7zYKN",
        "outputId": "199f5066-3376-4dc1-be1c-3d6e1580e344",
        "colab": {
          "base_uri": "https://localhost:8080/",
          "height": 71
        }
      },
      "source": [
        "v = 12/60 #12km/60min = km/min\n",
        "t = 1\n",
        "s = []\n",
        "tempo = []\n",
        "while v*t <= 5:\n",
        "  s.append(v*t)\n",
        "  t = t + 1\n",
        "  tempo.append(t)\n",
        "print(s)\n",
        "print(tempo) "
      ],
      "execution_count": null,
      "outputs": [
        {
          "output_type": "stream",
          "text": [
            "[0.2, 0.4, 0.6000000000000001, 0.8, 1.0, 1.2000000000000002, 1.4000000000000001, 1.6, 1.8, 2.0, 2.2, 2.4000000000000004, 2.6, 2.8000000000000003, 3.0, 3.2, 3.4000000000000004, 3.6, 3.8000000000000003, 4.0, 4.2, 4.4, 4.6000000000000005, 4.800000000000001, 5.0]\n",
            "[2, 3, 4, 5, 6, 7, 8, 9, 10, 11, 12, 13, 14, 15, 16, 17, 18, 19, 20, 21, 22, 23, 24, 25, 26]\n"
          ],
          "name": "stdout"
        }
      ]
    },
    {
      "cell_type": "code",
      "metadata": {
        "id": "gp_eE62gcdu7",
        "outputId": "b8a56133-207f-4b36-ffb0-5aa820640779",
        "colab": {
          "base_uri": "https://localhost:8080/",
          "height": 891
        }
      },
      "source": [
        "def deslocamento(t,v_i,a,s_i): #função pra calcular um deslocamento MRUV, em caso de a = 0 \n",
        "  '''\n",
        "  função pra calcular um deslocamento MRUV,(t,v_i,a,s_i) t=tempo, v_i=velocidade inicial, a = aceleração, s_i=posição inicial em caso de a = 0 \n",
        "  '''\n",
        "  desl = s_i + v_i*t + (a*(t**2)/2)\n",
        "  return desl\n",
        "\n",
        "import matplotlib.pyplot as plt\n",
        "v = 12/60 #12km/60min = km/min\n",
        "v2 = 15/60 #15km/60min = km/min\n",
        "t = 0\n",
        "s = []\n",
        "tempo = []\n",
        "ss = 0\n",
        "t1 = 0\n",
        "t2 = 0\n",
        "a = 0\n",
        "while ss < 5:  \n",
        "  ss = deslocamento(t,v,0,0)\n",
        "  tempo.append(t)\n",
        "  s.append(ss)\n",
        "  print(t,ss)\n",
        "  t += 1\n",
        "\n",
        "if ss >= 5 < 5.1:  \n",
        "  ss = deslocamento(0.894688,v,0.052625,ss) #espaço percorrido em MRUV adicionado de maneira forçada. encontrando o tempo 2 que demorou e para pecorrer com a aceleração 0.052625km/min\n",
        "  t = t + 0.894688 - 1 #ao final do ultimo loop while ele acrescenta 1min que tem que ser removido aqui\n",
        "while a >=0 and a < 7:\n",
        "  a =   deslocamento(t2,v2,0,ss)\n",
        "  s.append(a)\n",
        "  tempo.append(t)  \n",
        "  t2 += 1 \n",
        "  print(t,a)\n",
        "  t = t + 1\n",
        "plt.plot(tempo,s)\n",
        "plt.xlabel(\"tempo min\")\n",
        "plt.ylabel(\"distância Km\")"
      ],
      "execution_count": 168,
      "outputs": [
        {
          "output_type": "stream",
          "text": [
            "0 0.0\n",
            "1 0.2\n",
            "2 0.4\n",
            "3 0.6000000000000001\n",
            "4 0.8\n",
            "5 1.0\n",
            "6 1.2000000000000002\n",
            "7 1.4000000000000001\n",
            "8 1.6\n",
            "9 1.8\n",
            "10 2.0\n",
            "11 2.2\n",
            "12 2.4000000000000004\n",
            "13 2.6\n",
            "14 2.8000000000000003\n",
            "15 3.0\n",
            "16 3.2\n",
            "17 3.4000000000000004\n",
            "18 3.6\n",
            "19 3.8000000000000003\n",
            "20 4.0\n",
            "21 4.2\n",
            "22 4.4\n",
            "23 4.6000000000000005\n",
            "24 4.800000000000001\n",
            "25 5.0\n",
            "25.894688 5.199999877868864\n",
            "26.894688 5.449999877868864\n",
            "27.894688 5.699999877868864\n",
            "28.894688 5.949999877868864\n",
            "29.894688 6.199999877868864\n",
            "30.894688 6.449999877868864\n",
            "31.894688 6.699999877868864\n",
            "32.894688 6.949999877868864\n",
            "33.894688 7.199999877868864\n"
          ],
          "name": "stdout"
        },
        {
          "output_type": "execute_result",
          "data": {
            "text/plain": [
              "Text(0, 0.5, 'distância Km')"
            ]
          },
          "metadata": {
            "tags": []
          },
          "execution_count": 168
        },
        {
          "output_type": "display_data",
          "data": {
            "image/png": "[encoded data removed]",
            "text/plain": [
              "<Figure size 432x288 with 1 Axes>"
            ]
          },
          "metadata": {
            "tags": [],
            "needs_background": "light"
          }
        }
      ]
    },
    {
      "cell_type": "code",
      "metadata": {
        "id": "IzKVMk4E9VPj"
      },
      "source": [
        ""
      ],
      "execution_count": null,
      "outputs": []
    },
    {
      "cell_type": "code",
      "metadata": {
        "id": "d0e2ZEWxcjBB"
      },
      "source": [
        "\n"
      ],
      "execution_count": 68,
      "outputs": []
    }
  ]
}