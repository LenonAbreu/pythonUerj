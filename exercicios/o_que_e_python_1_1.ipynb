{
  "nbformat": 4,
  "nbformat_minor": 0,
  "metadata": {
    "colab": {
      "name": "o_que_e_python_1_1.ipynb",
      "provenance": [],
      "collapsed_sections": [],
      "authorship_tag": "ABX9TyN75ISt0Qd4vcohPnYhaCAA",
      "include_colab_link": true
    },
    "kernelspec": {
      "name": "python3",
      "display_name": "Python 3"
    }
  },
  "cells": [
    {
      "cell_type": "markdown",
      "metadata": {
        "id": "view-in-github",
        "colab_type": "text"
      },
      "source": [
        "<a href=\"https://colab.research.google.com/github/LenonAbreu/pythonUerj/blob/master/exercicios/o_que_e_python_1_1.ipynb\" target=\"_parent\"><img src=\"https://colab.research.google.com/assets/colab-badge.svg\" alt=\"Open In Colab\"/></a>"
      ]
    },
    {
      "cell_type": "markdown",
      "metadata": {
        "id": "GomSAouVUAfD",
        "colab_type": "text"
      },
      "source": [
        "Se você fizer uma corrida de 10 quilômetros em 43 minutos e 30 segundos, qual será seu tempo médio por milha? Qual é a sua velocidade média em milhas por hora? (Dica: há 1,61 quilômetros em uma milha)."
      ]
    },
    {
      "cell_type": "markdown",
      "metadata": {
        "id": "0Y1-yS2SVvsH",
        "colab_type": "text"
      },
      "source": [
        "Para esse primeiro programa vamos encontrar passo a passo novas variaveis para simplificar essa e fulturas necessidades com esses dados.\n",
        "Primeiro, vamos transformar quilometros em milhas, como segundo passo vamos encontrar o tempo em horas, e por mim encontrar a velocidade média e por fim o tempo médio por milha."
      ]
    },
    {
      "cell_type": "code",
      "metadata": {
        "id": "B_jBGkTzP0lv",
        "colab_type": "code",
        "colab": {
          "base_uri": "https://localhost:8080/",
          "height": 85
        },
        "outputId": "4f4e7eea-e3c7-4eab-a4e7-68d87851d624"
      },
      "source": [
        "#transformando quilometro em milha, divindo 10km por por 1,61\n",
        "x = 10/1.61\n",
        "print(x,\"milhas\")\n",
        "#segundo vamos encontrar o tempo em horas vamos encrecer 43,5 por que 30segundos vale 0,5 segundos, e a seguir dividir por 60\n",
        "t = 43.5/60\n",
        "print(t,\"horas\")\n",
        "#para a velocidade média vamos dividir o espaço percorrido pelo tempo gasto\n",
        "v = x/t \n",
        "print(v,\"milhas por hora\")\n",
        "#agora para o tempo vamos dividir a velocidade por 1 milha vamos escrever a equação horaria x = v*t e isoladar a velocidade logo t= x/v\n",
        "tempo = 1.61 / v\n",
        "print(tempo, \"horas\")"
      ],
      "execution_count": 2,
      "outputs": [
        {
          "output_type": "stream",
          "text": [
            "6.211180124223602 milhas\n",
            "0.725 horas\n",
            "8.567144998929106 milhas por hora\n",
            "0.18792725000000005 horas\n"
          ],
          "name": "stdout"
        }
      ]
    }
  ]
}