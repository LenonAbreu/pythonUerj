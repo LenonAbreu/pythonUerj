{
  "nbformat": 4,
  "nbformat_minor": 0,
  "metadata": {
    "colab": {
      "name": "variaveis_expressoes_declaracoes_funcoes_2_1.ipynb",
      "provenance": [],
      "collapsed_sections": [],
      "authorship_tag": "ABX9TyNy2VdaAG769epQcC3U2VwD",
      "include_colab_link": true
    },
    "kernelspec": {
      "name": "python3",
      "display_name": "Python 3"
    }
  },
  "cells": [
    {
      "cell_type": "markdown",
      "metadata": {
        "id": "view-in-github",
        "colab_type": "text"
      },
      "source": [
        "<a href=\"https://colab.research.google.com/github/LenonAbreu/pythonUerj/blob/master/exercicios/variaveis_expressoes_declaracoes_funcoes_2_1.ipynb\" target=\"_parent\"><img src=\"https://colab.research.google.com/assets/colab-badge.svg\" alt=\"Open In Colab\"/></a>"
      ]
    },
    {
      "cell_type": "markdown",
      "metadata": {
        "id": "zKF2aeYkVGjM",
        "colab_type": "text"
      },
      "source": [
        "Considere as seguintes declarações de atribuições:\n",
        "\n",
        "largura = 17\n",
        "\n",
        "altura = 12.0\n",
        "\n",
        "delimitador = \".\"\n",
        "\n",
        "Para cada uma das expressões a seguir, escreva o valor das expressões e o tipo (do valor da expressão):\n",
        "\n",
        "largura/2\n",
        "\n",
        "largura/2.0\n",
        "\n",
        "altura/3\n",
        "\n",
        "1 + 2 * 5\n",
        "\n",
        "delimitador*5\n",
        "\n",
        "Use o interpretador de python para verificar suas respostas.\n"
      ]
    },
    {
      "cell_type": "code",
      "metadata": {
        "id": "0hPLDqdLUWAC",
        "colab_type": "code",
        "colab": {
          "base_uri": "https://localhost:8080/",
          "height": 102
        },
        "outputId": "dab8efbf-8f92-40b1-9011-84df6a7dd23e"
      },
      "source": [
        "largura = 17 \n",
        "altura = 12.0 \n",
        "delimitador = \".\" \n",
        "\n",
        "n_1 = largura/2 # valor número, tipo float\n",
        "\n",
        "n_2 = largura/2.0 # valor número, tipo float\n",
        "\n",
        "n_3 = altura/3 # valor número, tipo float. Poderia ser ser interpretado como inteiro, mas o Py3 já acrescenta uma casa decimal\n",
        "\n",
        "n_4 = 1 + 2 * 5 # valor número, tipo inteiro\n",
        "\n",
        "n_5 = delimitador*5 #valor letra, tipo string\n",
        "\n",
        "print(n_1, type(n_1))\n",
        "print(n_2, type(n_2))\n",
        "print(n_3, type(n_3))\n",
        "print(n_4, type(n_4))\n",
        "print(n_5, type(n_5))"
      ],
      "execution_count": 1,
      "outputs": [
        {
          "output_type": "stream",
          "text": [
            "8.5 <class 'float'>\n",
            "8.5 <class 'float'>\n",
            "4.0 <class 'float'>\n",
            "11 <class 'int'>\n",
            "..... <class 'str'>\n"
          ],
          "name": "stdout"
        }
      ]
    }
  ]
}