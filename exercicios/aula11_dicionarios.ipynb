{
  "nbformat": 4,
  "nbformat_minor": 0,
  "metadata": {
    "colab": {
      "name": "aula11_dicionarios.ipynb",
      "provenance": [],
      "authorship_tag": "ABX9TyNgTpoTJhGY0WUVCJ7YERoN",
      "include_colab_link": true
    },
    "kernelspec": {
      "name": "python3",
      "display_name": "Python 3"
    }
  },
  "cells": [
    {
      "cell_type": "markdown",
      "metadata": {
        "id": "view-in-github",
        "colab_type": "text"
      },
      "source": [
        "<a href=\"https://colab.research.google.com/github/LenonAbreu/pythonUerj/blob/master/exercicios/aula11_dicionarios.ipynb\" target=\"_parent\"><img src=\"https://colab.research.google.com/assets/colab-badge.svg\" alt=\"Open In Colab\"/></a>"
      ]
    },
    {
      "cell_type": "markdown",
      "metadata": {
        "id": "503kl7Yw_AGw"
      },
      "source": [
        "## Exercícios:\n",
        "\n",
        "1) Utilizando dicionários e o método ***get***, contrua a seguinte matriz em python e acesse os valores de índices (0,3), (2,1), (4,3) e (2,2).\n",
        "![matrix](https://github.com/malbouis/Python_intro/blob/master/aulas_2019/pics/matrix_aula12.png?raw=1)"
      ]
    },
    {
      "cell_type": "code",
      "metadata": {
        "colab": {
          "base_uri": "https://localhost:8080/"
        },
        "id": "ybHqSKHI-4zG",
        "outputId": "a1518224-5e7a-4139-bbf4-9b07369defad"
      },
      "source": [
        "matrix = {(0,0):0,(0,1):0,(0,2):0,(0,3):1,(0,4):0,(1,0):0,(1,1):0,(1,2):0,(1,3):0,(1,4):0,(2,0):0,(2,1):2,(2,2):0,(2,3):0,(2,4):0,(3,0):0,(3,1):0,(3,2):0,(3,3):0,(3,4):0,(4,0):0,(4,1):0,(4,2):0,(4,3):3,(4,4):0}\n",
        "def retorna_indices(a,x,y):\n",
        "  \"\"\"Retorna valores de matrizes localizando a partir de seus indices de linha e coluna\n",
        "  \"\"\"\n",
        "  return a.get((x,y))\n",
        "\n",
        "print(retorna_indices(matrix,0,3))\n",
        "print(retorna_indices(matrix,2,1))\n",
        "print(retorna_indices(matrix,4,3))\n",
        "print(retorna_indices(matrix,2,2))"
      ],
      "execution_count": null,
      "outputs": [
        {
          "output_type": "stream",
          "text": [
            "1\n",
            "2\n",
            "3\n",
            "0\n"
          ],
          "name": "stdout"
        }
      ]
    },
    {
      "cell_type": "markdown",
      "metadata": {
        "id": "BLZQMNB-AfDA"
      },
      "source": [
        "2) Contagem de Letras. \r\n",
        "\r\n",
        "a) Utilizando dicionários, escreva uma função que tome como argumento uma palavra (string) e  retorne um dicionário que tem como ***key*** a letra da palavra e como valor o número de vezes que ela aparece na palavra. Tal dicionário é chamado de **tabela de frequência**.\r\n",
        "***Dica***: Utilize o método ***get*** dos dicionários."
      ]
    },
    {
      "cell_type": "code",
      "metadata": {
        "id": "TZloGnPo_1TK",
        "colab": {
          "base_uri": "https://localhost:8080/"
        },
        "outputId": "9c76fe07-fa9f-4c04-9231-b84206796732"
      },
      "source": [
        "def quant_letras(palavras):\r\n",
        "  letras = {} # inicia um dicionario \r\n",
        "  for i in palavras: # inicia um loop de letra em letra.\r\n",
        "      if i in letras: #se a letra já existe no dicionário letras, adiciona mais 1 ao valor\r\n",
        "          letras[i] += 1\r\n",
        "      else: # se não existe, adiciona essa letra ao dicionario com o valor 1\r\n",
        "          letras[i] = 1\r\n",
        "  return letras\r\n",
        "\r\n",
        "a = quant_letras(\"bananinha\")\r\n",
        "print(a)"
      ],
      "execution_count": 7,
      "outputs": [
        {
          "output_type": "stream",
          "text": [
            "{'b': 1, 'a': 3, 'n': 3, 'i': 1, 'h': 1}\n"
          ],
          "name": "stdout"
        }
      ]
    },
    {
      "cell_type": "markdown",
      "metadata": {
        "id": "4_tCWLYPiMBK"
      },
      "source": [
        "b) Utilizando os métodos sort() (referente a listas) e items() (referente a dicionários), imprima na tela uma lista ordenada alfabeticamente da tabela de frequência obtida no item a)."
      ]
    },
    {
      "cell_type": "code",
      "metadata": {
        "colab": {
          "base_uri": "https://localhost:8080/"
        },
        "id": "oG7cU4OEiLRT",
        "outputId": "db799e2e-9fd4-4643-82a2-48ddadd9d0d8"
      },
      "source": [
        "print (\"Keys and Values sorted in alphabetical order by the value\") \r\n",
        "print(sorted(a.items()))"
      ],
      "execution_count": 2,
      "outputs": [
        {
          "output_type": "stream",
          "text": [
            "Keys and Values sorted in alphabetical order by the value\n",
            "[('a', 3), ('b', 1), ('h', 1), ('i', 1), ('n', 3)]\n"
          ],
          "name": "stdout"
        }
      ]
    },
    {
      "cell_type": "markdown",
      "metadata": {
        "id": "ynhqn2j7iRvq"
      },
      "source": [
        "3) Escreva um programa que leia uma string e retorne uma tabela das letras do alfabeto em ordem alfabética que ocorrem na string junto com o número de vezes que cada letra ocorre. Letras maiúsculas devem deve ser ignoradas."
      ]
    },
    {
      "cell_type": "code",
      "metadata": {
        "colab": {
          "base_uri": "https://localhost:8080/"
        },
        "id": "gBGs80NfiVzp",
        "outputId": "63f3ecfa-fe42-44cc-e579-6c3ace6948cd"
      },
      "source": [
        "def quant_letras(palavras):\r\n",
        "  letras = {} # inicia um dicionario \r\n",
        "  for i in palavras: # inicia um loop de letra em letra.\r\n",
        "      if i in letras: #se a letra já existe no dicionário letras, adiciona mais 1 ao valor\r\n",
        "          letras[i] += 1\r\n",
        "      else: # se não existe, adiciona essa letra ao dicionario com o valor 1\r\n",
        "          letras[i] = 1\r\n",
        "  for k in sorted(letras.keys(), key=lambda v: v.upper()) : #para cada indice k imprima k e o valor de k em ordem alfabetica, tratando maiusculo= minusculo\r\n",
        "      print(k, letras.get(k)  )\r\n",
        "quant_letras(\"Bananinha legal\")"
      ],
      "execution_count": 13,
      "outputs": [
        {
          "output_type": "stream",
          "text": [
            "  1\n",
            "a 4\n",
            "B 1\n",
            "e 1\n",
            "g 1\n",
            "h 1\n",
            "i 1\n",
            "l 2\n",
            "n 3\n"
          ],
          "name": "stdout"
        }
      ]
    }
  ]
}