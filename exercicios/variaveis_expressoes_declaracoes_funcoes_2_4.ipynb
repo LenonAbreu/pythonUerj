{
  "nbformat": 4,
  "nbformat_minor": 0,
  "metadata": {
    "colab": {
      "name": "variaveis_expressoes_declaracoes_funcoes_2_4.ipynb",
      "provenance": [],
      "collapsed_sections": [],
      "authorship_tag": "ABX9TyOPC5gOLJoLW54w4Vl9wft1",
      "include_colab_link": true
    },
    "kernelspec": {
      "name": "python3",
      "display_name": "Python 3"
    }
  },
  "cells": [
    {
      "cell_type": "markdown",
      "metadata": {
        "id": "view-in-github",
        "colab_type": "text"
      },
      "source": [
        "<a href=\"https://colab.research.google.com/github/LenonAbreu/pythonUerj/blob/master/exercicios/variaveis_expressoes_declaracoes_funcoes_2_4.ipynb\" target=\"_parent\"><img src=\"https://colab.research.google.com/assets/colab-badge.svg\" alt=\"Open In Colab\"/></a>"
      ]
    },
    {
      "cell_type": "markdown",
      "metadata": {
        "id": "pM7ul0rJU3tZ",
        "colab_type": "text"
      },
      "source": [
        "Um laser vermelho (com comprimento de onda $\\lambda = 632.8$ nm) incide em uma fenda dupla produzindo um padrão de interferência com franjas claras e escuras, em um anteparo situado a uma distância D = 1.98 m da fenda. Calcule a distância $\\Delta y$ entre dois máximos consecutivos de interferência. Considere o espaçamento entre as fendas, $d$, como sendo igual a 0.250 mm. <em>Dica: a distância entre dois máximos de interferência consecutivos pode ser aproximada por $\\Delta y = \\frac{\\lambda D}{d}$.\n"
      ]
    },
    {
      "cell_type": "code",
      "metadata": {
        "id": "o4whbPC2UwHG",
        "colab_type": "code",
        "colab": {
          "base_uri": "https://localhost:8080/",
          "height": 51
        },
        "outputId": "b3733b8e-2c3f-46ce-a1e4-21cad4e028de"
      },
      "source": [
        "comp_onda = 632.8 * 10**-9 #comprimento de onda em metros\n",
        "dist = 1.98\n",
        "d_fendas = 25 * 10**-5 #espaçamento das fentas em metros\n",
        "\n",
        "dist_m = (comp_onda*dist) / d_fendas #espaçamento aproximado entre dois máximos consecutivos\n",
        "\n",
        "print(dist_m, \"metros\")\n",
        "#covnertendo pra uma únidade mais conveniente\n",
        "distancia = dist_m * 10**3\n",
        "print(distancia,\"mm\")"
      ],
      "execution_count": 18,
      "outputs": [
        {
          "output_type": "stream",
          "text": [
            "0.005011776 metros\n",
            "5.011776 mm\n"
          ],
          "name": "stdout"
        }
      ]
    }
  ]
}