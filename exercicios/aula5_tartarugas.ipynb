{
  "nbformat": 4,
  "nbformat_minor": 0,
  "metadata": {
    "colab": {
      "name": "aula5_tartarugas.ipynb",
      "provenance": [],
      "authorship_tag": "ABX9TyNeVyfXG3g+2AQQRDwTAa6i",
      "include_colab_link": true
    },
    "kernelspec": {
      "name": "python3",
      "display_name": "Python 3"
    }
  },
  "cells": [
    {
      "cell_type": "markdown",
      "metadata": {
        "id": "view-in-github",
        "colab_type": "text"
      },
      "source": [
        "<a href=\"https://colab.research.google.com/github/LenonAbreu/pythonUerj/blob/master/exercicios/aula5_tartarugas.ipynb\" target=\"_parent\"><img src=\"https://colab.research.google.com/assets/colab-badge.svg\" alt=\"Open In Colab\"/></a>"
      ]
    },
    {
      "cell_type": "markdown",
      "metadata": {
        "id": "WJIuw5cW_K0h"
      },
      "source": [
        "2- Faça modificações similares para permitir que o usuário mude a cor da tartaruga durante a execução do programa.\n",
        "\n",
        "Faça o mesmo para a largura da caneta da tartaruga. Dica: seu diálogo com o usuário retornará uma string, mas o método pensize ( width no Google Colab) espera que seu argumento seja um int. Então, você precisará converter a string em um int antes de passá-la para pensize."
      ]
    },
    {
      "cell_type": "code",
      "metadata": {
        "id": "3KcDUwzu_4IF"
      },
      "source": [
        "!pip3 install ColabTurtle"
      ],
      "execution_count": null,
      "outputs": []
    },
    {
      "cell_type": "code",
      "metadata": {
        "id": "Uajz6lXC--Al"
      },
      "source": [
        "import ColabTurtle.Turtle as tess\n",
        "\n",
        "cor = input(\"entre com uma cor valida: \")\n",
        "larg = int(input(\"entre com a largura da caneta: \"))\n",
        "tess.initializeTurtle()   # inicialização\n",
        "\n",
        "\n",
        "tess.color(cor)\n",
        "\n",
        "tess.width(larg) #levantar a caneta\n"
      ],
      "execution_count": null,
      "outputs": []
    },
    {
      "cell_type": "markdown",
      "metadata": {
        "id": "NbPkRGm6AHVy"
      },
      "source": [
        "Desenhe um quadrado, usando a forma de tartaruga, ao invés da flecha, para desenhar (caso esteja no Google Colab, não precisa mudar a forma).\n",
        "\n",
        "mude a velocidade com que a tartaruga faz o desenho."
      ]
    },
    {
      "cell_type": "code",
      "metadata": {
        "id": "rZITej5lAG3i",
        "outputId": "2af0eaf6-691b-4204-fa3a-af6b9e20f079",
        "colab": {
          "base_uri": "https://localhost:8080/",
          "height": 521
        }
      },
      "source": [
        "tess.initializeTurtle()\n",
        "for x in range(4):\n",
        "  tess.forward(50)\n",
        "  tess.right(90)\n",
        "  a = 3+x\n",
        "  tess.speed(a)"
      ],
      "execution_count": 16,
      "outputs": [
        {
          "output_type": "display_data",
          "data": {
            "text/html": [
              "\n",
              "      <svg width=\"800\" height=\"500\">\n",
              "        <rect width=\"100%\" height=\"100%\" fill=\"black\"/>\n",
              "        <line x1=\"400\" y1=\"250\" x2=\"400.0\" y2=\"200.0\" stroke-linecap=\"round\" style=\"stroke:white;stroke-width:4\"/><line x1=\"400.0\" y1=\"200.0\" x2=\"450.0\" y2=\"200.0\" stroke-linecap=\"round\" style=\"stroke:white;stroke-width:4\"/><line x1=\"450.0\" y1=\"200.0\" x2=\"450.0\" y2=\"250.0\" stroke-linecap=\"round\" style=\"stroke:white;stroke-width:4\"/><line x1=\"450.0\" y1=\"250.0\" x2=\"400.0\" y2=\"250.0\" stroke-linecap=\"round\" style=\"stroke:white;stroke-width:4\"/>\n",
              "        \n",
              "      <g visibility=visible transform=\"rotate(180,400.0,250.0) translate(400.0, 250.0)\">\n",
              "        <circle stroke=\"white\" stroke-width=\"3\" fill=\"transparent\" r=\"12\" cx=\"0\" cy=\"0\"/>\n",
              "        <polygon points=\"0,19 3,16 -3,16\" style=\"fill:white;stroke:white;stroke-width:2\"/>\n",
              "      </g>\n",
              "    \n",
              "      </svg>\n",
              "    "
            ],
            "text/plain": [
              "<IPython.core.display.HTML object>"
            ]
          },
          "metadata": {
            "tags": []
          }
        }
      ]
    },
    {
      "cell_type": "markdown",
      "metadata": {
        "id": "94byQlABF7QB"
      },
      "source": [
        "Sabendo que o ângulo interno da ponta de uma estrela de 5 pontas é de 36 graus, desenhe uma estrela."
      ]
    },
    {
      "cell_type": "code",
      "metadata": {
        "id": "PzjZDz7dBv9U",
        "outputId": "dea5a9f5-92f1-497c-c43b-6ae358569f0b",
        "colab": {
          "base_uri": "https://localhost:8080/",
          "height": 521
        }
      },
      "source": [
        "def estrela(tam, pont, ang):\n",
        "  \"\"\"Desenha uma estrela de (aresta, quantidade de pontas, angulo interno)\n",
        "  \"\"\"\n",
        "  tess.initializeTurtle()\n",
        "  a = 180 - ang\n",
        "  for x in range(pont):\n",
        "   tess.forward(tam)\n",
        "   tess.right(a)\n",
        "    #tess.forward(50)\n",
        "\n",
        "  \n",
        "  \n",
        "estrela(50,5,36)"
      ],
      "execution_count": 38,
      "outputs": [
        {
          "output_type": "display_data",
          "data": {
            "text/html": [
              "\n",
              "      <svg width=\"800\" height=\"500\">\n",
              "        <rect width=\"100%\" height=\"100%\" fill=\"black\"/>\n",
              "        <line x1=\"400\" y1=\"250\" x2=\"400.0\" y2=\"200.0\" stroke-linecap=\"round\" style=\"stroke:white;stroke-width:4\"/><line x1=\"400.0\" y1=\"200.0\" x2=\"450.0\" y2=\"200.0\" stroke-linecap=\"round\" style=\"stroke:white;stroke-width:4\"/><line x1=\"450.0\" y1=\"200.0\" x2=\"450.0\" y2=\"250.0\" stroke-linecap=\"round\" style=\"stroke:white;stroke-width:4\"/><line x1=\"450.0\" y1=\"250.0\" x2=\"400.0\" y2=\"250.0\" stroke-linecap=\"round\" style=\"stroke:white;stroke-width:4\"/>\n",
              "        \n",
              "      <g visibility=visible transform=\"rotate(180,400.0,250.0) translate(400.0, 250.0)\">\n",
              "        <circle stroke=\"white\" stroke-width=\"3\" fill=\"transparent\" r=\"12\" cx=\"0\" cy=\"0\"/>\n",
              "        <polygon points=\"0,19 3,16 -3,16\" style=\"fill:white;stroke:white;stroke-width:2\"/>\n",
              "      </g>\n",
              "    \n",
              "      </svg>\n",
              "    "
            ],
            "text/plain": [
              "<IPython.core.display.HTML object>"
            ]
          },
          "metadata": {
            "tags": []
          }
        }
      ]
    },
    {
      "cell_type": "markdown",
      "metadata": {
        "id": "Mi4cqEo5GOxO"
      },
      "source": [
        "Sabendo o ângulo interno da ponta de uma estrela, desenhe quatro estrelas em uma janela, com uma certa distância entre elas. Dica: use a função penup() e pendown() do módulo turtle."
      ]
    },
    {
      "cell_type": "code",
      "metadata": {
        "id": "-ZJSZYdxGQ9O",
        "outputId": "857e1f7f-4f8e-4d93-ef8d-a13b9f12c023",
        "colab": {
          "base_uri": "https://localhost:8080/",
          "height": 521
        }
      },
      "source": [
        "def penta():\n",
        "  a = 144\n",
        "  for x in range(5):\n",
        "   tess.forward(50)\n",
        "   tess.right(a)\n",
        "tess.initializeTurtle()\n",
        "a = 0\n",
        "for x in range(4):\n",
        "  tess.penup()\n",
        "  tess.setx(50 + a)\n",
        "  tess.pendown()\n",
        "  penta()\n",
        "  a = a + 100"
      ],
      "execution_count": 47,
      "outputs": [
        {
          "output_type": "display_data",
          "data": {
            "text/html": [
              "\n",
              "      <svg width=\"800\" height=\"500\">\n",
              "        <rect width=\"100%\" height=\"100%\" fill=\"black\"/>\n",
              "        <line x1=\"50\" y1=\"250\" x2=\"49.99999999999999\" y2=\"200.0\" stroke-linecap=\"round\" style=\"stroke:white;stroke-width:4\"/><line x1=\"49.99999999999999\" y1=\"200.0\" x2=\"79.38926261462365\" y2=\"240.45084971874738\" stroke-linecap=\"round\" style=\"stroke:white;stroke-width:4\"/><line x1=\"79.38926261462365\" y1=\"240.45084971874738\" x2=\"31.836436799865965\" y2=\"225.0\" stroke-linecap=\"round\" style=\"stroke:white;stroke-width:4\"/><line x1=\"31.836436799865965\" y1=\"225.0\" x2=\"79.38926261462365\" y2=\"209.54915028125262\" stroke-linecap=\"round\" style=\"stroke:white;stroke-width:4\"/><line x1=\"79.38926261462365\" y1=\"209.54915028125262\" x2=\"50.0\" y2=\"250.0\" stroke-linecap=\"round\" style=\"stroke:white;stroke-width:4\"/><line x1=\"150\" y1=\"250.0\" x2=\"150.0\" y2=\"200.0\" stroke-linecap=\"round\" style=\"stroke:white;stroke-width:4\"/><line x1=\"150.0\" y1=\"200.0\" x2=\"179.38926261462365\" y2=\"240.45084971874738\" stroke-linecap=\"round\" style=\"stroke:white;stroke-width:4\"/><line x1=\"179.38926261462365\" y1=\"240.45084971874738\" x2=\"131.83643679986596\" y2=\"225.0\" stroke-linecap=\"round\" style=\"stroke:white;stroke-width:4\"/><line x1=\"131.83643679986596\" y1=\"225.0\" x2=\"179.38926261462365\" y2=\"209.54915028125262\" stroke-linecap=\"round\" style=\"stroke:white;stroke-width:4\"/><line x1=\"179.38926261462365\" y1=\"209.54915028125262\" x2=\"150.0\" y2=\"250.0\" stroke-linecap=\"round\" style=\"stroke:white;stroke-width:4\"/><line x1=\"250\" y1=\"250.0\" x2=\"250.0\" y2=\"200.0\" stroke-linecap=\"round\" style=\"stroke:white;stroke-width:4\"/><line x1=\"250.0\" y1=\"200.0\" x2=\"279.38926261462365\" y2=\"240.45084971874738\" stroke-linecap=\"round\" style=\"stroke:white;stroke-width:4\"/><line x1=\"279.38926261462365\" y1=\"240.45084971874738\" x2=\"231.83643679986596\" y2=\"225.0\" stroke-linecap=\"round\" style=\"stroke:white;stroke-width:4\"/><line x1=\"231.83643679986596\" y1=\"225.0\" x2=\"279.38926261462365\" y2=\"209.54915028125262\" stroke-linecap=\"round\" style=\"stroke:white;stroke-width:4\"/><line x1=\"279.38926261462365\" y1=\"209.54915028125262\" x2=\"250.0\" y2=\"250.0\" stroke-linecap=\"round\" style=\"stroke:white;stroke-width:4\"/><line x1=\"350\" y1=\"250.0\" x2=\"350.0\" y2=\"200.0\" stroke-linecap=\"round\" style=\"stroke:white;stroke-width:4\"/><line x1=\"350.0\" y1=\"200.0\" x2=\"379.38926261462365\" y2=\"240.45084971874738\" stroke-linecap=\"round\" style=\"stroke:white;stroke-width:4\"/><line x1=\"379.38926261462365\" y1=\"240.45084971874738\" x2=\"331.83643679986596\" y2=\"225.0\" stroke-linecap=\"round\" style=\"stroke:white;stroke-width:4\"/><line x1=\"331.83643679986596\" y1=\"225.0\" x2=\"379.38926261462365\" y2=\"209.54915028125262\" stroke-linecap=\"round\" style=\"stroke:white;stroke-width:4\"/><line x1=\"379.38926261462365\" y1=\"209.54915028125262\" x2=\"350.0\" y2=\"250.0\" stroke-linecap=\"round\" style=\"stroke:white;stroke-width:4\"/>\n",
              "        \n",
              "      <g visibility=visible transform=\"rotate(180,350.0,250.0) translate(350.0, 250.0)\">\n",
              "        <circle stroke=\"white\" stroke-width=\"3\" fill=\"transparent\" r=\"12\" cx=\"0\" cy=\"0\"/>\n",
              "        <polygon points=\"0,19 3,16 -3,16\" style=\"fill:white;stroke:white;stroke-width:2\"/>\n",
              "      </g>\n",
              "    \n",
              "      </svg>\n",
              "    "
            ],
            "text/plain": [
              "<IPython.core.display.HTML object>"
            ]
          },
          "metadata": {
            "tags": []
          }
        }
      ]
    },
    {
      "cell_type": "code",
      "metadata": {
        "id": "eRk9BfDSHPke",
        "outputId": "ccffb55f-c9a3-4e7d-8a1a-2a84790c826d",
        "colab": {
          "base_uri": "https://localhost:8080/",
          "height": 521
        }
      },
      "source": [
        "import math\n",
        "\n",
        "tess.initializeTurtle()\n",
        "tess.speed(10)\n",
        "def polygon(t,length,n):\n",
        "    alfa = 360/n\n",
        "    for i in range(n):\n",
        "        t.forward(length)\n",
        "        t.left(alfa)\n",
        "#desenhar um hexagono regular com lado de comprimento 70\n",
        "\n",
        "#polygon(tess, 70, 6)\n",
        "def circle(t, r): \n",
        "    circumference = 2 * math.pi * r  \n",
        "    n = 10\n",
        "    length = int(circumference / n )        # circumference = n*length\n",
        "    polygon(t, length, n)\n",
        "circle(tess,90)    "
      ],
      "execution_count": 58,
      "outputs": [
        {
          "output_type": "display_data",
          "data": {
            "text/html": [
              "\n",
              "      <svg width=\"800\" height=\"500\">\n",
              "        <rect width=\"100%\" height=\"100%\" fill=\"black\"/>\n",
              "        <line x1=\"400\" y1=\"250\" x2=\"400.0\" y2=\"194.0\" stroke-linecap=\"round\" style=\"stroke:white;stroke-width:4\"/><line x1=\"400.0\" y1=\"194.0\" x2=\"367.0840258716215\" y2=\"148.69504831500296\" stroke-linecap=\"round\" style=\"stroke:white;stroke-width:4\"/><line x1=\"367.0840258716215\" y1=\"148.69504831500296\" x2=\"313.8248609590929\" y2=\"131.39009663000593\" stroke-linecap=\"round\" style=\"stroke:white;stroke-width:4\"/><line x1=\"313.8248609590929\" y1=\"131.39009663000593\" x2=\"260.5656960465643\" y2=\"148.695048315003\" stroke-linecap=\"round\" style=\"stroke:white;stroke-width:4\"/><line x1=\"260.5656960465643\" y1=\"148.695048315003\" x2=\"227.64972191818583\" y2=\"194.00000000000006\" stroke-linecap=\"round\" style=\"stroke:white;stroke-width:4\"/><line x1=\"227.64972191818583\" y1=\"194.00000000000006\" x2=\"227.64972191818583\" y2=\"250.00000000000006\" stroke-linecap=\"round\" style=\"stroke:white;stroke-width:4\"/><line x1=\"227.64972191818583\" y1=\"250.00000000000006\" x2=\"260.5656960465643\" y2=\"295.3049516849971\" stroke-linecap=\"round\" style=\"stroke:white;stroke-width:4\"/><line x1=\"260.5656960465643\" y1=\"295.3049516849971\" x2=\"313.8248609590929\" y2=\"312.60990336999413\" stroke-linecap=\"round\" style=\"stroke:white;stroke-width:4\"/><line x1=\"313.8248609590929\" y1=\"312.60990336999413\" x2=\"367.0840258716215\" y2=\"295.30495168499704\" stroke-linecap=\"round\" style=\"stroke:white;stroke-width:4\"/><line x1=\"367.0840258716215\" y1=\"295.30495168499704\" x2=\"400.0\" y2=\"249.99999999999997\" stroke-linecap=\"round\" style=\"stroke:white;stroke-width:4\"/>\n",
              "        \n",
              "      <g visibility=visible transform=\"rotate(180.0,400.0,249.99999999999997) translate(400.0, 249.99999999999997)\">\n",
              "        <circle stroke=\"white\" stroke-width=\"3\" fill=\"transparent\" r=\"12\" cx=\"0\" cy=\"0\"/>\n",
              "        <polygon points=\"0,19 3,16 -3,16\" style=\"fill:white;stroke:white;stroke-width:2\"/>\n",
              "      </g>\n",
              "    \n",
              "      </svg>\n",
              "    "
            ],
            "text/plain": [
              "<IPython.core.display.HTML object>"
            ]
          },
          "metadata": {
            "tags": []
          }
        }
      ]
    }
  ]
}