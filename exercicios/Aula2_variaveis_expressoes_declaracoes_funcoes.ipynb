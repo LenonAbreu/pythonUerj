{
  "nbformat": 4,
  "nbformat_minor": 0,
  "metadata": {
    "colab": {
      "name": "variaveis_expressoes_declaracoes_funcoes_2.ipynb",
      "provenance": [],
      "authorship_tag": "ABX9TyMHqYXr/t8CdEpRPy6+75e8",
      "include_colab_link": true
    },
    "kernelspec": {
      "name": "python3",
      "display_name": "Python 3"
    }
  },
  "cells": [
    {
      "cell_type": "markdown",
      "metadata": {
        "id": "view-in-github",
        "colab_type": "text"
      },
      "source": [
        "<a href=\"https://colab.research.google.com/github/LenonAbreu/pythonUerj/blob/master/exercicios/variaveis_expressoes_declaracoes_funcoes_2.ipynb\" target=\"_parent\"><img src=\"https://colab.research.google.com/assets/colab-badge.svg\" alt=\"Open In Colab\"/></a>"
      ]
    },
    {
      "cell_type": "markdown",
      "metadata": {
        "id": "i7q6O4nF7Fys"
      },
      "source": [
        "1-Considere as seguintes declarações de atribuições:\n",
        "\n",
        "largura = 17\n",
        "\n",
        "altura = 12.0\n",
        "\n",
        "delimitador = \".\"\n",
        "\n",
        "Para cada uma das expressões a seguir, escreva o valor das expressões e o tipo (do valor da expressão):\n",
        "\n",
        "largura/2\n",
        "\n",
        "largura/2.0\n",
        "\n",
        "altura/3\n",
        "\n",
        "1 + 2 * 5\n",
        "\n",
        "delimitador*5\n",
        "\n",
        "Use o interpretador de python para verificar suas respostas."
      ]
    },
    {
      "cell_type": "code",
      "metadata": {
        "id": "OFjQgUL67BM3",
        "outputId": "0eb1a57a-77c5-4373-cbb4-e6c1701cdd98",
        "colab": {
          "base_uri": "https://localhost:8080/"
        }
      },
      "source": [
        "\n",
        "largura = 17 \n",
        "altura = 12.0 \n",
        "delimitador = \".\" \n",
        "\n",
        "n_1 = largura/2 # valor número, tipo float\n",
        "\n",
        "n_2 = largura/2.0 # valor número, tipo float\n",
        "\n",
        "n_3 = altura/3 # valor número, tipo float. Poderia ser ser interpretado como inteiro, mas o Py3 já acrescenta uma casa decimal\n",
        "\n",
        "n_4 = 1 + 2 * 5 # valor número, tipo inteiro\n",
        "\n",
        "n_5 = delimitador*5 #valor letra, tipo string\n",
        "\n",
        "print(n_1, type(n_1))\n",
        "print(n_2, type(n_2))\n",
        "print(n_3, type(n_3))\n",
        "print(n_4, type(n_4))\n",
        "print(n_5, type(n_5))"
      ],
      "execution_count": 1,
      "outputs": [
        {
          "output_type": "stream",
          "text": [
            "8.5 <class 'float'>\n",
            "8.5 <class 'float'>\n",
            "4.0 <class 'float'>\n",
            "11 <class 'int'>\n",
            "..... <class 'str'>\n"
          ],
          "name": "stdout"
        }
      ]
    },
    {
      "cell_type": "markdown",
      "metadata": {
        "id": "Wun3srhx7PJS"
      },
      "source": [
        "\n",
        "2 - O volume de uma esfera de raio r é $\\frac{4}{3} \\pi r^{3}$\n",
        "\n",
        "Qual é o volume de uma esfera de raio 5?"
      ]
    },
    {
      "cell_type": "code",
      "metadata": {
        "id": "P8__pokc7XQ5",
        "outputId": "403bd3c7-c70f-4967-b200-d0e9b7f0cbd2",
        "colab": {
          "base_uri": "https://localhost:8080/"
        }
      },
      "source": [
        "#declarando o valor de pi e de do raio\n",
        "pi = 3.14159265359\n",
        "raio = 5\n",
        "volume = 4 * pi * raio**3 /3 #declarando a formula de volume de uma esfera\n",
        "v_e = round(volume,2)\n",
        "print(v_e,\"unidades^3\")"
      ],
      "execution_count": 2,
      "outputs": [
        {
          "output_type": "stream",
          "text": [
            "523.6 unidades^3\n"
          ],
          "name": "stdout"
        }
      ]
    },
    {
      "cell_type": "markdown",
      "metadata": {
        "id": "kEHHKQKz7blg"
      },
      "source": [
        "3 - Suponha que o preço de um livro seja 24.95 reais, porém as livrarias têm desconto de 40%. Os custos de envio são de 3.00 reais para o primeiro livro e 0.75 reais para os livros adicionais. Qual é o custo total da compra de 60 livros?"
      ]
    },
    {
      "cell_type": "code",
      "metadata": {
        "id": "pv19Zrcx7hfo",
        "outputId": "635c958d-e183-4b2b-82b3-1d4daa67da6c",
        "colab": {
          "base_uri": "https://localhost:8080/"
        }
      },
      "source": [
        "livros = 60 #número de livros\n",
        "porc_d = 0.4 #porcentagem de desconto\n",
        "desconto = 1 - porc_d #desconto\n",
        "valor_l= livros * 24.95 * desconto #equação do valor dos livros com desconto de 40%\n",
        "valor = round(valor_l,2) # transformar em 2 casas decimais \n",
        "frete = (livros - 1) * 0.75 + 3 #valor do frete, considerando o primeiro livro como 3 reais e o adicional 75 centavos.\n",
        "valor_t = valor + frete\n",
        "print(f'o valor dos livros é {valor:.2f}',\"reais\",f\"com frete a {frete:.2f}\",\"reais\",f\"num total de {valor_t:.2f}\",\"reais\")"
      ],
      "execution_count": 3,
      "outputs": [
        {
          "output_type": "stream",
          "text": [
            "o valor dos livros é 898.20 reais com frete a 47.25 reais num total de 945.45 reais\n"
          ],
          "name": "stdout"
        }
      ]
    },
    {
      "cell_type": "markdown",
      "metadata": {
        "id": "TAMsFI4u7lYo"
      },
      "source": [
        "4 - Um laser vermelho (com comprimento de onda $\\lambda = 632.8$ nm) incide em uma fenda dupla produzindo um padrão de interferência com franjas claras e escuras, em um anteparo situado a uma distância D = 1.98 m da fenda. Calcule a distância $\\Delta y$ entre dois máximos consecutivos de interferência. Considere o espaçamento entre as fendas, $d$, como sendo igual a 0.250 mm. Dica: a distância entre dois máximos de interferência consecutivos pode ser aproximada por $\\Delta y = \\frac{\\lambda D}{d}$."
      ]
    },
    {
      "cell_type": "code",
      "metadata": {
        "id": "-gsasdd67rII",
        "outputId": "34d42ad6-67fd-4be9-c029-5f47ac57488c",
        "colab": {
          "base_uri": "https://localhost:8080/"
        }
      },
      "source": [
        "comp_onda = 632.8 * 10**-9 #comprimento de onda em metros\n",
        "dist = 1.98\n",
        "d_fendas = 25 * 10**-5 #espaçamento das fentas em metros\n",
        "\n",
        "dist_m = (comp_onda*dist) / d_fendas #espaçamento aproximado entre dois máximos consecutivos\n",
        "\n",
        "print(dist_m, \"metros\")\n",
        "#convertendo pra uma únidade mais conveniente\n",
        "distancia = dist_m * 10**3\n",
        "print(f\"{distancia:.3f} mm\")"
      ],
      "execution_count": 4,
      "outputs": [
        {
          "output_type": "stream",
          "text": [
            "0.005011776 metros\n",
            "5.012 mm\n"
          ],
          "name": "stdout"
        }
      ]
    }
  ]
}
