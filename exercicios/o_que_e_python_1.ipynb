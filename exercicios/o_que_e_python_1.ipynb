{
  "nbformat": 4,
  "nbformat_minor": 0,
  "metadata": {
    "colab": {
      "name": "o_que_e_python_1.ipynb",
      "provenance": [],
      "authorship_tag": "ABX9TyMeuPI1G22MHcsJBwpigksn",
      "include_colab_link": true
    },
    "kernelspec": {
      "name": "python3",
      "display_name": "Python 3"
    }
  },
  "cells": [
    {
      "cell_type": "markdown",
      "metadata": {
        "id": "view-in-github",
        "colab_type": "text"
      },
      "source": [
        "<a href=\"https://colab.research.google.com/github/LenonAbreu/pythonUerj/blob/master/exercicios/o_que_e_python_1.ipynb\" target=\"_parent\"><img src=\"https://colab.research.google.com/assets/colab-badge.svg\" alt=\"Open In Colab\"/></a>"
      ]
    },
    {
      "cell_type": "markdown",
      "metadata": {
        "id": "gPEg-8ST3vwZ"
      },
      "source": [
        "exercicio 1"
      ]
    },
    {
      "cell_type": "code",
      "metadata": {
        "id": "x-ZR5ID43pm8",
        "outputId": "f6c22e66-0c1b-48a9-bd76-26f1f1317040",
        "colab": {
          "base_uri": "https://localhost:8080/"
        }
      },
      "source": [
        "#transformando quilometro em milha, divindo 10km por por 1,61\n",
        "x = 10/1.61\n",
        "print(x,\"milhas\")\n",
        "#segundo vamos encontrar o tempo em horas vamos encrecer 43,5 por que 30segundos vale 0,5 segundos, e a seguir dividir por 60\n",
        "t = 43.5/60\n",
        "print(t,\"horas\")\n",
        "#para a velocidade média vamos dividir o espaço percorrido pelo tempo gasto\n",
        "v = x/t \n",
        "print(v,\"milhas por hora\")\n",
        "#agora para o tempo vamos dividir a velocidade por 1 milha vamos escrever a equação horaria x = v*t e isoladar a velocidade logo t= x/v\n",
        "tempo = 1.61 / v\n",
        "print(tempo, \"horas\")"
      ],
      "execution_count": 1,
      "outputs": [
        {
          "output_type": "stream",
          "text": [
            "6.211180124223602 milhas\n",
            "0.725 horas\n",
            "8.567144998929106 milhas por hora\n",
            "0.18792725000000005 horas\n"
          ],
          "name": "stdout"
        }
      ]
    },
    {
      "cell_type": "markdown",
      "metadata": {
        "id": "6jVkywF432vG"
      },
      "source": [
        "exercicio 2 \n",
        "Desde sua varanda você escuta o som do primeiro fogo artificial do reveillon 3 segundos depois de ver a luz, qual a distância? (o som tem velocidade 343 m/s e a luz 3 * 10^8 m/s)."
      ]
    },
    {
      "cell_type": "code",
      "metadata": {
        "id": "flWQoS4l35Rm",
        "outputId": "f98ce3b5-f69a-4ff0-c887-4c1d65989c9b",
        "colab": {
          "base_uri": "https://localhost:8080/"
        }
      },
      "source": [
        "#vamos calcular a distancia média a partir no momento que o obervador enxerga o clarão com uma equação horaria\n",
        "velocidade_som = 343\n",
        "c = 3 * 10 ** 8\n",
        "tempo = 3\n",
        "distancia = velocidade_som * tempo\n",
        "print(\"A distancia do obervador até os fogos aproximadamente\",distancia, \"metros\")\n",
        "#como objeto de comparação vamos mostrar o tempo que a luz demoraria para chegar a partir dessa distancia\n",
        "tempo_luz = distancia / c\n",
        "print(\"Tempo que a luz demorou\", tempo_luz, \"segundos\")"
      ],
      "execution_count": 3,
      "outputs": [
        {
          "output_type": "stream",
          "text": [
            "A distancia do obervador até os fogos aproximadamente 1029 metros\n",
            "Tempo que a luz demorou 3.43e-06 segundos\n"
          ],
          "name": "stdout"
        }
      ]
    },
    {
      "cell_type": "markdown",
      "metadata": {
        "id": "28oBXAqy4C2O"
      },
      "source": [
        "3 - \n",
        "Ache os zeros da função y = 3 x^2 - 4 x -10\n",
        "\n",
        "Fazendo ax^2 + bx + c = 0, vamos procurar se utilizando de bhaskara"
      ]
    },
    {
      "cell_type": "code",
      "metadata": {
        "id": "pLPpYtrz4zXL",
        "outputId": "fc1d1028-dcf6-4b4c-e2da-66c1957e5302",
        "colab": {
          "base_uri": "https://localhost:8080/"
        }
      },
      "source": [
        "#declarando variaveis para os valores de a, b e c para que seja possível encontrar raizes de outras equações\n",
        "a = 3\n",
        "b = -4\n",
        "c = -10\n",
        "#iniciando a formula de bhaskara\n",
        "delta = b**2 - (4 * a *c)\n",
        "raiz_d = delta **(1/2)\n",
        "#é necessário avaliar o valor de delta, pois em caso de delta negativo os valores dados para y1 e y2 não são reais e assim não são as raizes e devem ser desconsiderados.\n",
        "y_1 =  (-1*b + raiz_d)/ (2 * a)\n",
        "y_2 = (-1*b - raiz_d)/ (2 *a)\n",
        "print(\"valor de delta:\",delta,\",valores de y1 e y2 sao\",\"y1 =\", y_1,\"e y2 =\", y_2)"
      ],
      "execution_count": 2,
      "outputs": [
        {
          "output_type": "stream",
          "text": [
            "valor de delta: 136 ,valores de y1 e y2 sao y1 = 2.610317298281767 e y2 = -1.2769839649484336\n"
          ],
          "name": "stdout"
        }
      ]
    },
    {
      "cell_type": "markdown",
      "metadata": {
        "id": "Jxbny6kP44sS"
      },
      "source": [
        "4 - Se, ao meiodia, a sombra de um poste de 5 m de altura tem apenas 50 cm de comprimento no chão, qual o ângulo zenital do sol?"
      ]
    },
    {
      "cell_type": "code",
      "metadata": {
        "id": "xUz38qFj4_OC",
        "outputId": "b5b29b7c-ad89-4981-df74-23b78c0a6c99",
        "colab": {
          "base_uri": "https://localhost:8080/"
        }
      },
      "source": [
        "\n",
        "import numpy as np\n",
        "# projetando a sombra no chão e considerando que o sol está tão distante da terra que seus raios chegam de forma pararela a mesma, podemos então projetar um triangulo retangulo\n",
        "#onde o angulo entre o cateto adjacente e a hiptenusa é o mesmo angulo de zenital do sol\n",
        "#o cateto adjacente será o poste de comprimento 5 metros e o oposto a sombra de comprimento 0,5m\n",
        "adj = 5\n",
        "op = 0.5\n",
        "#buscando uma função em uma biblioteca para determinar esse arco, é conviniente se utilziar do numpy\n",
        "\n",
        "zenital = np.arctan(op/adj) #função arco tangente do numpy\n",
        "print(zenital,\"rads\")\n",
        "grau = (360 * zenital) / (2 * 3.1415) #o resultado dessa operação é dada em rad, então vamos converter para graus\n",
        "print(grau,\"graus\")"
      ],
      "execution_count": 4,
      "outputs": [
        {
          "output_type": "stream",
          "text": [
            "0.09966865249116204 rads\n",
            "5.7107615624412436 graus\n"
          ],
          "name": "stdout"
        }
      ]
    },
    {
      "cell_type": "markdown",
      "metadata": {
        "id": "0c6MYOgU5Dcq"
      },
      "source": [
        "5 \n",
        "Calcule o seu %$IMC = \\dfrac{M}{A^2}$% (com a massa em Kg e a altura em metros). Um valor saudável estara --em geral-- entre 20-25. Um bebê de 6 meses \"gorducho\" tem 70 cm de \"comprimento\" e 11 kg de massa, qual o IMC dele?"
      ]
    },
    {
      "cell_type": "code",
      "metadata": {
        "id": "PaWfAr2s5MbC",
        "outputId": "8d0e4500-8413-4fb2-b15d-ea4a3ece9879",
        "colab": {
          "base_uri": "https://localhost:8080/"
        }
      },
      "source": [
        "#declarando variaveis\n",
        "altura = 1.7 \n",
        "massa = 60\n",
        "imc = massa / (altura**2) \n",
        "print(imc) #meu IMC\n",
        "massa_b = 11\n",
        "altura_b = 0.7\n",
        "imcb = massa_b / (altura_b**2)\n",
        "print(imcb) #imc do bebê"
      ],
      "execution_count": 5,
      "outputs": [
        {
          "output_type": "stream",
          "text": [
            "20.761245674740486\n",
            "22.44897959183674\n"
          ],
          "name": "stdout"
        }
      ]
    },
    {
      "cell_type": "markdown",
      "metadata": {
        "id": "ylPvamRY5PNx"
      },
      "source": [
        "Calcule a velocidade final de um objeto em queda livre a partir de 3 metros de altura (sem resistencia do ar). Calcule o tempo que esse objeto demora para cair."
      ]
    },
    {
      "cell_type": "code",
      "metadata": {
        "id": "QCzrPxgo5OnB",
        "outputId": "916cc22f-72b2-4512-aaba-9b796265d482",
        "colab": {
          "base_uri": "https://localhost:8080/"
        }
      },
      "source": [
        "#vamos considerar a aceleraçã0 da gravidade uma constnate igual a 9,8 m/s^2\n",
        "#utilizando da equação de torrichelli v²= v0² + @aD considerando a altura total como d=3m e que ele partiu do repouso, a equação se limita a v= raiz(2gD)\n",
        "g= 9.8\n",
        "distancia = 3\n",
        "velocidade = (2*g*distancia)**(1/2)\n",
        "print(\"a velocidade final é\", velocidade)\n",
        "#o tempo pode ser obtido atrás da equação horaria x = x0 + v0t + (at²/2) como x0=0 e v0=0 sobra x = at²/2 => t=(2x/a)^1/2\n",
        "tempo = (2* distancia/g)**(1/2)\n",
        "print(\"O tempo de queda é igual a\",tempo)\n",
        "# ára confimar os resultados a velocidade obtida como v = g*t tem que ser igual a obtida anteriormente\n",
        "v_t = g * tempo\n",
        "\n",
        "print(\"comparando as velocidades temos:(\",velocidade ,\"=\",v_t,\") m/s\")"
      ],
      "execution_count": 6,
      "outputs": [
        {
          "output_type": "stream",
          "text": [
            "a velocidade final é 7.6681158050723255\n",
            "O tempo de queda é igual a 0.7824607964359516\n",
            "comparando as velocidades temos:( 7.6681158050723255 = 7.6681158050723255 ) m/s\n"
          ],
          "name": "stdout"
        }
      ]
    }
  ]
}