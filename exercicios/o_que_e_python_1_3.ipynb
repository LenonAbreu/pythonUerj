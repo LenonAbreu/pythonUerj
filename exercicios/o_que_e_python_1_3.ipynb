{
  "nbformat": 4,
  "nbformat_minor": 0,
  "metadata": {
    "colab": {
      "name": "o_que_e_python_1_3.ipynb",
      "provenance": [],
      "collapsed_sections": [],
      "authorship_tag": "ABX9TyMXv5IZOQViMbZYABRcgTkI",
      "include_colab_link": true
    },
    "kernelspec": {
      "name": "python3",
      "display_name": "Python 3"
    }
  },
  "cells": [
    {
      "cell_type": "markdown",
      "metadata": {
        "id": "view-in-github",
        "colab_type": "text"
      },
      "source": [
        "<a href=\"https://colab.research.google.com/github/LenonAbreu/pythonUerj/blob/master/exercicios/o_que_e_python_1_3.ipynb\" target=\"_parent\"><img src=\"https://colab.research.google.com/assets/colab-badge.svg\" alt=\"Open In Colab\"/></a>"
      ]
    },
    {
      "cell_type": "markdown",
      "metadata": {
        "id": "TJ2J8RhAXaPL",
        "colab_type": "text"
      },
      "source": [
        "Ache os zeros da função\n",
        " y = 3 *x^2 - 4 *x -10 "
      ]
    },
    {
      "cell_type": "markdown",
      "metadata": {
        "id": "q7u6i6WUXfCv",
        "colab_type": "text"
      },
      "source": [
        "Fazendo ax^2 + bx + c = 0, vamos procurar se utilizando de bhaskara"
      ]
    },
    {
      "cell_type": "code",
      "metadata": {
        "id": "BH22RLEHXdiI",
        "colab_type": "code",
        "colab": {
          "base_uri": "https://localhost:8080/",
          "height": 34
        },
        "outputId": "a689f447-69ff-469f-ef61-ffb6618806dd"
      },
      "source": [
        "#declarando variaveis para os valores de a, b e c para que seja possível encontrar raizes de outras equações\n",
        "a = 3\n",
        "b = -4\n",
        "c = -10\n",
        "#iniciando a formula de bhaskara\n",
        "delta = b**2 - (4 * a *c)\n",
        "raiz_d = delta **(1/2)\n",
        "#é necessário avaliar o valor de delta, pois em caso de delta negativo os valores dados para y1 e y2 não são reais e assim não são as raizes e devem ser desconsiderados.\n",
        "y_1 =  (-1*b + raiz_d)/ (2 * a)\n",
        "y_2 = (-1*b - raiz_d)/ (2 *a)\n",
        "print(\"valor de delta:\",delta,\",valores de y1 e y2 sao\",\"y1 =\", y_1,\"e y2 =\", y_2)"
      ],
      "execution_count": 5,
      "outputs": [
        {
          "output_type": "stream",
          "text": [
            "valor de delta: 136 ,valores de y1 e y2 sao y1 = 2.610317298281767 e y2 = -1.2769839649484336\n"
          ],
          "name": "stdout"
        }
      ]
    }
  ]
}