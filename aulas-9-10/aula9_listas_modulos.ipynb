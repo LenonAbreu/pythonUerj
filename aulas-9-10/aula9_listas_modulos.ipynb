{
  "nbformat": 4,
  "nbformat_minor": 0,
  "metadata": {
    "colab": {
      "name": "aula9_listas_modulos.ipynb",
      "provenance": [],
      "authorship_tag": "ABX9TyO0CZa/g8qFIvHicnB3c5KR",
      "include_colab_link": true
    },
    "kernelspec": {
      "name": "python3",
      "display_name": "Python 3"
    }
  },
  "cells": [
    {
      "cell_type": "markdown",
      "metadata": {
        "id": "view-in-github",
        "colab_type": "text"
      },
      "source": [
        "<a href=\"https://colab.research.google.com/github/LenonAbreu/pythonUerj/blob/master/aulas-9-10/aula9_listas_modulos.ipynb\" target=\"_parent\"><img src=\"https://colab.research.google.com/assets/colab-badge.svg\" alt=\"Open In Colab\"/></a>"
      ]
    },
    {
      "cell_type": "markdown",
      "metadata": {
        "id": "XcE6DTBf_mwQ"
      },
      "source": [
        "## Exercícios\n",
        "\n",
        "1) Considere a função abaixo. Esse tipo de função é considerada uma **função modificadora** pois modifica o objeto que é passado como argumento. "
      ]
    },
    {
      "cell_type": "code",
      "metadata": {
        "id": "PrxN1w4h_lBI"
      },
      "source": [
        "def dobrar_elementos(uma_lista):\n",
        "    \"\"\" Reescreve os elementos de uma_lista com o dobro de seus valores originais.\n",
        "    \"\"\"\n",
        "    for (i, valor) in enumerate(uma_lista):\n",
        "        novo_elem = 2 * valor\n",
        "        uma_lista[i] = novo_elem\n",
        "\n",
        "    return uma_lista\n",
        "\n",
        "minha_lista = [2, 4, 6]\n",
        "print(minha_lista)\n",
        "dobrar_elementos(minha_lista)\n",
        "print(minha_lista)"
      ],
      "execution_count": null,
      "outputs": []
    },
    {
      "cell_type": "code",
      "metadata": {
        "id": "ZFVEUUv38jAu"
      },
      "source": [
        ""
      ],
      "execution_count": null,
      "outputs": []
    },
    {
      "cell_type": "markdown",
      "metadata": {
        "id": "EY7BsdyP_yUA"
      },
      "source": [
        "a) Modifique a função para retornar uma **nova lista**, sem modificar a lista usada como parâmetro. Esse tipo de função é chamado de **função pura**.\n",
        "\n",
        "\n",
        "b) Modifique a documentação de ajuda da nova função, de tal forma que quando se chame a função ***help*** da nova função, se obtenha a descrição adequada."
      ]
    },
    {
      "cell_type": "code",
      "metadata": {
        "id": "M4ogtF-D_4Vv",
        "outputId": "e5481325-37f5-4811-f531-08784cdd0e6e",
        "colab": {
          "base_uri": "https://localhost:8080/"
        }
      },
      "source": [
        "def dobrar_elementos(uma_lista):\n",
        "    \"\"\" Cria uma nova lista com os elementos de uma_lista com o dobro de seus valores originais. \n",
        "    \"\"\"\n",
        "    lista_nova = uma_lista\n",
        "    for (i, valor) in enumerate(lista_nova):\n",
        "        novo_elem = 2 * valor\n",
        "        lista_nova[i] = novo_elem\n",
        "\n",
        "    return uma_lista\n",
        "\n",
        "minha_lista = [2, 4, 6]\n",
        "\n",
        "\n",
        "print(minha_lista)\n",
        "print(dobrar_elementos(minha_lista))"
      ],
      "execution_count": null,
      "outputs": [
        {
          "output_type": "stream",
          "text": [
            "[2, 4, 6]\n",
            "[4, 8, 12]\n"
          ],
          "name": "stdout"
        }
      ]
    },
    {
      "cell_type": "markdown",
      "metadata": {
        "id": "nMx84YedArF7"
      },
      "source": [
        "## Exercícios:\n",
        "\n",
        "1) Utilizando um arquivo de dados com várias colunas (por exemplo, o arquivo ```dados_alunos.txt```), faça um histograma com os dados de cada uma das colunas. **Dica**: utilize o ***matplotlib*** para fazer os histogramas.\n",
        "\n"
      ]
    },
    {
      "cell_type": "code",
      "metadata": {
        "id": "5SP7o_u1CRxi",
        "outputId": "3f343d31-e648-4b04-ea66-0197a4fdbfc6",
        "colab": {
          "base_uri": "https://localhost:8080/"
        }
      },
      "source": [
        "%%writefile dados_alunos_cabecalho.csv\n",
        "idades\talturas\tpesos\n",
        "18\t1.68\t80\n",
        "18\t1.94\t60\n",
        "18\t1.7\t80\n",
        "18\t1.76\t66\n",
        "19\t1.73\t87.5\n",
        "18\t1.66\t58\n",
        "21\t1.8\t92\n",
        "18\t1.6\t57\n",
        "18\t1.67\t64\n",
        "18\t1.73\t57\n",
        "17\t1.73\t75\n",
        "18\t1.61\t59\n",
        "18\t1.69\t90\n",
        "17\t1.71\t67\n",
        "19\t1.78\t60\n",
        "22\t1.68\t72\n",
        "18\t1.7\t73\n",
        "19\t1.64\t86\n",
        "18\t1.64\t75\n",
        "20\t1.8\t95\n",
        "17\t1.75\t60\n",
        "18\t1.78\t75\n",
        "18\t1.75\t65\n",
        "17\t1.69\t60\n",
        "19\t1.78\t73\n",
        "18\t1.7\t63\n",
        "34\t1.75\t78\n",
        "18\t1.64\t64\n",
        "19\t1.75\t50\n",
        "18\t1.67\t61\n",
        "18\t1.7\t70\n",
        "20\t1.8\t60\n",
        "18\t1.63\t57\n",
        "23\t1.89\t110\n",
        "18\t1.71\t71\n",
        "18\t1.65\t65\n",
        "17\t1.72\t67\n",
        "19\t1.65\t58\n",
        "18\t1.75\t90\n",
        "18\t1.7\t64\n",
        "19\t1.81\t70\n",
        "19\t1.65\t43\n",
        "28\t1.52\t50\n",
        "19\t1.79\t78\n",
        "26\t1.79\t82\n",
        "19\t1.75\t61\n",
        "19\t1.8\t70\n",
        "20\t1.75\t70\n",
        "20\t1.73\t70\n",
        "19\t1.7\t50\n",
        "22\t1.78\t72\n",
        "19\t1.77\t55\n",
        "18\t1.53\t58\n",
        "28\t1.54\t50\n",
        "20\t1.83\t70\n",
        "44\t1.85\t90\n",
        "18\t1.6\t51"
      ],
      "execution_count": 208,
      "outputs": [
        {
          "output_type": "stream",
          "text": [
            "Overwriting dados_alunos_cabecalho.csv\n"
          ],
          "name": "stdout"
        }
      ]
    },
    {
      "cell_type": "code",
      "metadata": {
        "id": "e3AbBuulDBrP",
        "outputId": "961f38a4-cd98-406a-fc01-b21ee9bd39dc",
        "colab": {
          "base_uri": "https://localhost:8080/"
        }
      },
      "source": [
        "import numpy as np\n",
        "import matplotlib.mlab as mlab\n",
        "import matplotlib.pyplot as plt\n",
        "x = []\n",
        "y = []\n",
        "z = []\n",
        "idades = []\n",
        "pesos = []\n",
        "alturas = []\n",
        "dados_peso = []\n",
        "dados_idade = []\n",
        "arq = open('dados_alunos_cabecalho.csv')\n",
        "for line in arq:\n",
        "  line = line.strip()\n",
        "  X , Y, Z= line.split('\t')\n",
        "  x.append(X)\n",
        "  y.append(Y)\n",
        "  z.append(Z)\n",
        "\n",
        "for i in range(1,len(x)):\n",
        "  idades.append(float(x[i]))\n",
        "  pesos.append(float(y[i]))\n",
        "  alturas.append(float(z[i]))\n",
        "#print(sorted(idades))\n",
        "#print(sorted(idades))\n",
        "#for i in range(0,len(idades)):\n",
        "#idades.count(idades[i]))\n",
        "#print(dados_idade)\n",
        "print(idades.count(idades[18]))\n",
        "num_bins = 40\n",
        "n, bins, patches = plt.hist(idades, num_bins, facecolor='blue', alpha=0.5)\n",
        "plt.show()\n"
      ],
      "execution_count": 205,
      "outputs": [
        {
          "output_type": "stream",
          "text": [
            "25\n"
          ],
          "name": "stdout"
        }
      ]
    },
    {
      "cell_type": "markdown",
      "metadata": {
        "id": "rMNHzsTkCRkV"
      },
      "source": [
        "2) Estude os métodos do módulo ```os``` e faça um script que liste todos os arquivos de um dado diretório assim como de seus subdiretórios. **Dica**: use o método ```walk```."
      ]
    },
    {
      "cell_type": "code",
      "metadata": {
        "id": "yax7aqYOCTT6",
        "outputId": "ccacef51-b8e7-4a77-c2ef-5a1694d1b941",
        "colab": {
          "base_uri": "https://localhost:8080/"
        }
      },
      "source": [
        "import os\n",
        "for root, dirs, files in os.walk(\".\"):\n",
        "    for name in files:\n",
        "        print(os.path.join(root, name))\n",
        "    for name in dirs:\n",
        "        print(os.path.join(root, name))"
      ],
      "execution_count": 218,
      "outputs": [
        {
          "output_type": "stream",
          "text": [
            "./lcount.py\n",
            "./ler_dados.py\n",
            "./dados_alunos_cabecalho.csv\n",
            "./.config\n",
            "./__pycache__\n",
            "./sample_data\n",
            "./.config/.last_update_check.json\n",
            "./.config/.last_survey_prompt.yaml\n",
            "./.config/.last_opt_in_prompt.yaml\n",
            "./.config/gce\n",
            "./.config/config_sentinel\n",
            "./.config/active_config\n",
            "./.config/.metricsUUID\n",
            "./.config/configurations\n",
            "./.config/logs\n",
            "./.config/configurations/config_default\n",
            "./.config/logs/2020.10.28\n",
            "./.config/logs/2020.10.28/16.30.09.212553.log\n",
            "./.config/logs/2020.10.28/16.29.33.370106.log\n",
            "./.config/logs/2020.10.28/16.29.12.726433.log\n",
            "./.config/logs/2020.10.28/16.29.47.988493.log\n",
            "./.config/logs/2020.10.28/16.29.53.609256.log\n",
            "./.config/logs/2020.10.28/16.30.09.899674.log\n",
            "./__pycache__/ler_dados.cpython-36.pyc\n",
            "./sample_data/README.md\n",
            "./sample_data/anscombe.json\n",
            "./sample_data/california_housing_train.csv\n",
            "./sample_data/california_housing_test.csv\n",
            "./sample_data/mnist_train_small.csv\n",
            "./sample_data/mnist_test.csv\n"
          ],
          "name": "stdout"
        }
      ]
    },
    {
      "cell_type": "markdown",
      "metadata": {
        "id": "z0A7EOYfCiHz"
      },
      "source": [
        "3) **Reescreva o script dessa aula, ```lcount.py``` na forma de uma módulo. Qual o valor da variável ```__name__``` quando o módulo é importado?**\n",
        "\n"
      ]
    },
    {
      "cell_type": "code",
      "metadata": {
        "id": "l-bBECChCkxB",
        "outputId": "7a25a940-82b5-420c-ca19-3455e9ab57a0",
        "colab": {
          "base_uri": "https://localhost:8080/"
        }
      },
      "source": [
        "%%writefile lcount.py\n",
        "\n",
        "def linecount(filename):\n",
        "    count = 0\n",
        "    for line in open(filename):\n",
        "        count += 1\n",
        "    return count\n",
        "\n",
        "linecount('lcount.py')"
      ],
      "execution_count": 211,
      "outputs": [
        {
          "output_type": "stream",
          "text": [
            "Writing lcount.py\n"
          ],
          "name": "stdout"
        }
      ]
    },
    {
      "cell_type": "code",
      "metadata": {
        "id": "z_PPBtgGlHgv",
        "outputId": "ec4895f7-2d6d-4363-96f8-b7c2b189612d",
        "colab": {
          "base_uri": "https://localhost:8080/"
        }
      },
      "source": [
        "import lcount as co\n",
        "print(__name__)\n",
        "#logo o módulo é um script"
      ],
      "execution_count": null,
      "outputs": [
        {
          "output_type": "stream",
          "text": [
            "__main__\n"
          ],
          "name": "stdout"
        }
      ]
    },
    {
      "cell_type": "markdown",
      "metadata": {
        "id": "ljg4tGxZCmb5"
      },
      "source": [
        "4) Escreva uma função chamada ler_arquivos que tome como argumento um nome de arquivo, leia um arquivo com um número qualquer de colunas e retorne um **dicionário** que tenha como *keys* os números das colunas e como valor uma lista dos valores associados a cada coluna do arquivo. Use o arquivo dados_alunos.txt. Caso o arquivo tiver o cabeçalho das colunas, p.ex. dados_alunos_cabecalho.txt, a key deve ser a palavra do cabeçalho.\n",
        "\n",
        "   * Caso não queria usar dicionários, você pode pensar em uma estrutura de dados alternativa para armazenar os dados do arquivo, como por exemplo uma ou mais listas.\n",
        "   * Também pode usar funções já existentes nos módulos de Python `numpy` ou `pandas` para ler arquivos de texto e armazenar nas estruturas desses módulos (`DataFrames` ou `arrays`).\n",
        "   * Adapte a função acima para, se ocorrer um erro ao abrir, ler ou fechar arquivos, o programa capturar a exceção, imprimir uma mensagem de erro e sair.\n",
        "\n"
      ]
    },
    {
      "cell_type": "code",
      "metadata": {
        "id": "zeskhy3dCptZ"
      },
      "source": [
        "def ler_arquivos(nome,k):\n",
        "  import numpy as np\n",
        "  x = []\n",
        "  y = []\n",
        "  arq = open(nome)\n",
        "  for line in arq:\n",
        "    X = line.split()\n",
        "    x.append(X)\n",
        "  for i in range(1,len(x)):\n",
        "    u = float(x[i][k])\n",
        "    y.append(u) \n",
        "  return x[0][k],y\n",
        "\n"
      ],
      "execution_count": null,
      "outputs": []
    },
    {
      "cell_type": "code",
      "metadata": {
        "id": "qlOCkwc0LAjI",
        "outputId": "44b0b4f8-ffb5-43fd-ba5c-ae047ff422c3",
        "colab": {
          "base_uri": "https://localhost:8080/"
        }
      },
      "source": [
        "\n",
        "a = ler_arquivos('dados_alunos_cabecalho.csv',2)[1]\n",
        "\n",
        "print(type(a))"
      ],
      "execution_count": null,
      "outputs": [
        {
          "output_type": "stream",
          "text": [
            "<class 'list'>\n"
          ],
          "name": "stdout"
        }
      ]
    },
    {
      "cell_type": "markdown",
      "metadata": {
        "id": "yRIMCYiFCqFx"
      },
      "source": [
        "5) **Adapte o script acima para ser um módulo.**\n",
        "\n"
      ]
    },
    {
      "cell_type": "code",
      "metadata": {
        "id": "OAHGfB_CCsDx",
        "outputId": "944f189a-b4de-41dc-f525-43d92caba764",
        "colab": {
          "base_uri": "https://localhost:8080/"
        }
      },
      "source": [
        "%%writefile ler_dados.py\n",
        "def ler_arquivos(nome,k):\n",
        "  import numpy as np\n",
        "  x = []\n",
        "  y = []\n",
        "  arq = open(nome)\n",
        "  for line in arq:\n",
        "    X = line.split()\n",
        "    x.append(X)\n",
        "  for i in range(1,len(x)):\n",
        "    y.append(x[i][k]) \n",
        "  return x[0][k],y"
      ],
      "execution_count": null,
      "outputs": [
        {
          "output_type": "stream",
          "text": [
            "Writing ler_dados.py\n"
          ],
          "name": "stdout"
        }
      ]
    },
    {
      "cell_type": "markdown",
      "metadata": {
        "id": "SnclkfcJCsjx"
      },
      "source": [
        "**6) Escreva um script que importe o módulo criado acima e faça um histograma para cada coluna do arquivo, com seus respectivos valores. Use o dicionário ou a estrutura de dados criada em 1).**\n",
        "\n"
      ]
    },
    {
      "cell_type": "code",
      "metadata": {
        "id": "ZMCBnQiACulp",
        "outputId": "b3763db7-b950-4590-950d-51d011baeba7",
        "colab": {
          "base_uri": "https://localhost:8080/"
        }
      },
      "source": [
        "import ler_dados as ld\n",
        "a = ld.ler_arquivos('dados_alunos_cabecalho.csv',2)[1]\n",
        "\n",
        "print(a)"
      ],
      "execution_count": null,
      "outputs": [
        {
          "output_type": "stream",
          "text": [
            "['60', '80', '66', '87.5', '58', '92', '57', '64', '57', '75', '59', '90', '67', '60', '72', '73', '86', '75', '95', '60', '75', '65', '60', '73', '63', '78', '64', '50', '61', '70', '60', '57', '110', '71', '65', '67', '58', '90', '64', '70', '43', '50', '78', '82', '61', '70', '70', '70', '50', '72', '55', '58', '50', '70', '90', '51']\n"
          ],
          "name": "stdout"
        }
      ]
    },
    {
      "cell_type": "markdown",
      "metadata": {
        "id": "lE7l1XhnCu6e"
      },
      "source": [
        "7) Adicione uma função ao script criado em 6), que calcule o desvio padrão amostral, desvio padrão populacional e média de cada distribuição representada nos histogramas acima. Para tal, use o módulo `statistics` do Python ou outro módulo de Python (`numpy`, `scipy`)."
      ]
    },
    {
      "cell_type": "code",
      "metadata": {
        "id": "PmXCChjWCvpR",
        "outputId": "da97ae44-e1d7-4fb0-c143-b1759ef08cc6",
        "colab": {
          "base_uri": "https://localhost:8080/"
        }
      },
      "source": [
        "import statistics as est\n",
        "import matplotlib as plt\n",
        "media = est.mean(a) #média\n",
        "d_p_a = est.stdev(a) #Desvio padrão de dados amostrais.\n",
        "d_p_p = est.pstdev(a) #Desvio padrão de dados populacionais.\n",
        "print(media,d_p_a,d_p_p)\n",
        "#plt.hist(a)\n",
        "#plt.show()"
      ],
      "execution_count": null,
      "outputs": [
        {
          "output_type": "stream",
          "text": [
            "68.29464285714286 13.253053434008153 13.134189567184368\n"
          ],
          "name": "stdout"
        }
      ]
    }
  ]
}